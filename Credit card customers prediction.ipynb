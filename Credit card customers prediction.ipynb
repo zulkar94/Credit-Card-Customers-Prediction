{
  "cells": [
    {
      "cell_type": "markdown",
      "id": "4292a03c",
      "metadata": {
        "id": "4292a03c"
      },
      "source": [
        "TASK 1\n",
        "\n",
        "Q.1 How do inactive bank accounts affect the churning possibility of a Bank?\n",
        "\n",
        "The churning possibility of a bank depends upon different aspects within the banking criteria and banking perspectives of a selected bank. In this modern world, the churning possibility of a bank generally depends upon the relationship between the customers and the bank. The “balance” in a customer’s bank account is a very good indicator for generalizing the churning probability of a bank. Generally, customers with a large amount of balance, usually do not cut off their relationship with an individual bank. But people with a lower amount in their bank account have a high probability to leave the bank (Gupta et al. 2022). This often resulting an inactive bank account and on a further note, it increases the possibility of a bank’s churns.\n",
        "The inactivity criteria depend upon various different kinds of aspects in relation to the customer. Due to the inactivity of a banking account, the churning possibility rises with time. As a result, if a certain bank remains inactive for two years, it becomes a “dormant” or “inoperative” bank account. If this type of bank account gets increased day by day, the churning possibility of a certain bank will also increase (Veningston et al. 2022). For this reason, the bank must be very careful about the needs of their customers in different aspects and essential facilities of the bank. \n",
        "\n",
        "\n",
        "Q.2 What is credit card churning and what are the primary risks involved?\n",
        "\n",
        "Credit Card Churning:\n",
        "Generally, credit cards are opened to get the best offers out of the banking facilities. The sole purpose of opening a credit card is to get the initial bonuses from the bank and other welcome benefits from the banking operators. As a result, sometimes the customers close a credit card after gaining the initial benefits from the bank using their respective credit card (Naz et al. 2022). These things are done by the customers to avoid the annual fee that is essentially needed to be able to keep the selected credit card facility open. As a result, the pattern of opening and closing a certain credit card by the bank's customer harms the bank's development. These things also arises many different issues for the bank including the initial possibility of churning.\n",
        "Primary Risks Involved:\n",
        "Credit card churning initially creates different types of issues for the bank. There are different risks that can arise in relation to the credit card churning of a bank. Initially, credit card churning can harm the credit score and further face various difficulties. This happens when a credit card churner is optimistic to get more rewards from the bank, which often leaves various negative effects on their credit score (Veningston et al. 2022). The different types of risks involved in “credit card churning” are as follows:\n",
        "●\tMultiple Credit Cards: Customers often open multiple credit cards from an individual bank to get the most out of it and also get different types of rewards. Thus, creating multiple credit cards generally leaves an impact on the “credit score” of a customer.\n",
        "●\t Credit utilization: Credit utilization is nothing but the ratio of a large percentage of an individual’s credit score. This ratio must be kept as lower as possible to get benefits from the bank without getting any issues with the credit score.\n",
        "●\tPayment history: The credit score of an individual customer has a direct relation with the payment history of the customer. And if the customer is juggling with the payment due dates of his credit card, the user may miss the given payment date and on a further note,  this will affect the credit score of the individual customer (Fujo et al. 2022).\n",
        "●\tCredit history length: The total initial length of the credit card payment history generally relies on the credit bureaus of the customer’s spending. If a customer opens multiple credit cards, or often opens and closed credit cards, the customer can be penalized for his actions, which can result in a drop in the credit score segment.\n",
        "\n",
        "\n",
        "Q.3 What is the relation of bank churning with customer data and the importance of reducing customer churn?\n",
        "\n",
        "\n",
        "The possibility of churning a certain bank depends upon its customer's activity and actions. For this reason, the activity of the customers of a bank is very essential. The churning of a bank is heavily connected with the customer's facility within the banking system. In this case, the valuable data of each customer has to be utilized in a secure way (Nalatissifa and Pardede, 2021).\n",
        "Reducing customer churn:\n",
        "It is a very essential step for a certain bank to reduce the initial customer churn rate for the bank. A bank can reduce the churning possibility of the bank and the customers by following different essential steps. The steps are discussed as follows:\n",
        "●\tTo reduce the churning of a bank, the first step is to analyze properly the initial reason why the churning is happening. Different initiative has to be given to reduce the churning capacity of the customers as well as the banking management.\n",
        "●\tThe bank should have a different essential system for managing the customers. For this reason, the bank should have a certain number of terms and conditions which the customers must strictly follow (Fujo et al. 2022).\n",
        "●\tThe bank should always engage with all the customers and contact them in a routine way. On a further note, the bank should also inquire about the initial difficulties an individual customer can face. \n",
        "●\tThe bank should always take care of the basic needs of the customer and also assure the security of the customers. \n",
        "\n",
        "\n",
        "Q.4 How does bank churning prediction can be done utilizing customer data? What is the initial risk involved?\n",
        "\n",
        "\n",
        "The churning prediction of a bank can be utilized using the valuable data of the customers. This often helps to reduce the initial churning possibility of a bank. In this case, the dataset of a certain bank can help predict the churning possibility. In addition, churning prediction can be utilized using the “machine learning method” in “Jupyter Notebook”. The dataset contains all the essential details of each customer and with the proper utilization of the dataset, the churning possibility of a bank can be predicted.\n",
        "Initial Risks Involved:\n",
        "There are some initial risks that can arise while operating with customer data to predict the churning possibility of a bank (Miao and Wang, 2022). The data and information of each customer are valuable and must not be leaked from the bank to other third-party apps. As a result, the bank should always assure the customers utilize their valuable data in a secure way."
      ]
    },
    {
      "cell_type": "markdown",
      "id": "55f30dcd",
      "metadata": {
        "id": "55f30dcd"
      },
      "source": [
        "# Import Libraries"
      ]
    },
    {
      "cell_type": "markdown",
      "id": "3e4fb6f1",
      "metadata": {
        "id": "3e4fb6f1"
      },
      "source": [
        "#####In this part, the main objective of the task is to analyze the selected dataset with proper visualization and diagrams in “Python programming” in relation to the analytical questions that have been discussed in the first part of the report. This part discusses the different analyses of the tasks that have been completed in “python programming” through different visualization and graph plotting (Wael Fujo et al. 2022). This analysis has been done to answer the raised questions in a proper way with different bar charts and visualization. "
      ]
    },
    {
      "cell_type": "code",
      "execution_count": null,
      "id": "61374b22",
      "metadata": {
        "id": "61374b22"
      },
      "outputs": [],
      "source": [
        "import numpy as np \n",
        "import pandas as pd \n",
        "import matplotlib.pyplot as plt\n",
        "import seaborn as sns\n",
        "from sklearn.linear_model import LinearRegression\n",
        "from sklearn.tree import DecisionTreeClassifier\n",
        "from sklearn.ensemble import ExtraTreesClassifier\n",
        "from sklearn.svm import SVC\n",
        "import plotly.express as px\n",
        "from sklearn.neighbors import NearestNeighbors\n",
        "from sklearn.metrics import r2_score,accuracy_score\n",
        "from sklearn.model_selection import train_test_split\n",
        "from sklearn.preprocessing import LabelEncoder,StandardScaler\n",
        "import warnings\n",
        "warnings.filterwarnings('ignore')"
      ]
    },
    {
      "cell_type": "code",
      "source": [
        "from google.colab import files\n",
        "uploaded = files.upload()"
      ],
      "metadata": {
        "colab": {
          "base_uri": "https://localhost:8080/",
          "height": 72
        },
        "id": "B_hTgc-VYEOZ",
        "outputId": "8c299f95-2593-46be-e724-0119495a64a8"
      },
      "id": "B_hTgc-VYEOZ",
      "execution_count": null,
      "outputs": [
        {
          "output_type": "display_data",
          "data": {
            "text/plain": [
              "<IPython.core.display.HTML object>"
            ],
            "text/html": [
              "\n",
              "     <input type=\"file\" id=\"files-7ed8aa81-f529-43c4-85f9-37dfd86d48fc\" name=\"files[]\" multiple disabled\n",
              "        style=\"border:none\" />\n",
              "     <output id=\"result-7ed8aa81-f529-43c4-85f9-37dfd86d48fc\">\n",
              "      Upload widget is only available when the cell has been executed in the\n",
              "      current browser session. Please rerun this cell to enable.\n",
              "      </output>\n",
              "      <script>// Copyright 2017 Google LLC\n",
              "//\n",
              "// Licensed under the Apache License, Version 2.0 (the \"License\");\n",
              "// you may not use this file except in compliance with the License.\n",
              "// You may obtain a copy of the License at\n",
              "//\n",
              "//      http://www.apache.org/licenses/LICENSE-2.0\n",
              "//\n",
              "// Unless required by applicable law or agreed to in writing, software\n",
              "// distributed under the License is distributed on an \"AS IS\" BASIS,\n",
              "// WITHOUT WARRANTIES OR CONDITIONS OF ANY KIND, either express or implied.\n",
              "// See the License for the specific language governing permissions and\n",
              "// limitations under the License.\n",
              "\n",
              "/**\n",
              " * @fileoverview Helpers for google.colab Python module.\n",
              " */\n",
              "(function(scope) {\n",
              "function span(text, styleAttributes = {}) {\n",
              "  const element = document.createElement('span');\n",
              "  element.textContent = text;\n",
              "  for (const key of Object.keys(styleAttributes)) {\n",
              "    element.style[key] = styleAttributes[key];\n",
              "  }\n",
              "  return element;\n",
              "}\n",
              "\n",
              "// Max number of bytes which will be uploaded at a time.\n",
              "const MAX_PAYLOAD_SIZE = 100 * 1024;\n",
              "\n",
              "function _uploadFiles(inputId, outputId) {\n",
              "  const steps = uploadFilesStep(inputId, outputId);\n",
              "  const outputElement = document.getElementById(outputId);\n",
              "  // Cache steps on the outputElement to make it available for the next call\n",
              "  // to uploadFilesContinue from Python.\n",
              "  outputElement.steps = steps;\n",
              "\n",
              "  return _uploadFilesContinue(outputId);\n",
              "}\n",
              "\n",
              "// This is roughly an async generator (not supported in the browser yet),\n",
              "// where there are multiple asynchronous steps and the Python side is going\n",
              "// to poll for completion of each step.\n",
              "// This uses a Promise to block the python side on completion of each step,\n",
              "// then passes the result of the previous step as the input to the next step.\n",
              "function _uploadFilesContinue(outputId) {\n",
              "  const outputElement = document.getElementById(outputId);\n",
              "  const steps = outputElement.steps;\n",
              "\n",
              "  const next = steps.next(outputElement.lastPromiseValue);\n",
              "  return Promise.resolve(next.value.promise).then((value) => {\n",
              "    // Cache the last promise value to make it available to the next\n",
              "    // step of the generator.\n",
              "    outputElement.lastPromiseValue = value;\n",
              "    return next.value.response;\n",
              "  });\n",
              "}\n",
              "\n",
              "/**\n",
              " * Generator function which is called between each async step of the upload\n",
              " * process.\n",
              " * @param {string} inputId Element ID of the input file picker element.\n",
              " * @param {string} outputId Element ID of the output display.\n",
              " * @return {!Iterable<!Object>} Iterable of next steps.\n",
              " */\n",
              "function* uploadFilesStep(inputId, outputId) {\n",
              "  const inputElement = document.getElementById(inputId);\n",
              "  inputElement.disabled = false;\n",
              "\n",
              "  const outputElement = document.getElementById(outputId);\n",
              "  outputElement.innerHTML = '';\n",
              "\n",
              "  const pickedPromise = new Promise((resolve) => {\n",
              "    inputElement.addEventListener('change', (e) => {\n",
              "      resolve(e.target.files);\n",
              "    });\n",
              "  });\n",
              "\n",
              "  const cancel = document.createElement('button');\n",
              "  inputElement.parentElement.appendChild(cancel);\n",
              "  cancel.textContent = 'Cancel upload';\n",
              "  const cancelPromise = new Promise((resolve) => {\n",
              "    cancel.onclick = () => {\n",
              "      resolve(null);\n",
              "    };\n",
              "  });\n",
              "\n",
              "  // Wait for the user to pick the files.\n",
              "  const files = yield {\n",
              "    promise: Promise.race([pickedPromise, cancelPromise]),\n",
              "    response: {\n",
              "      action: 'starting',\n",
              "    }\n",
              "  };\n",
              "\n",
              "  cancel.remove();\n",
              "\n",
              "  // Disable the input element since further picks are not allowed.\n",
              "  inputElement.disabled = true;\n",
              "\n",
              "  if (!files) {\n",
              "    return {\n",
              "      response: {\n",
              "        action: 'complete',\n",
              "      }\n",
              "    };\n",
              "  }\n",
              "\n",
              "  for (const file of files) {\n",
              "    const li = document.createElement('li');\n",
              "    li.append(span(file.name, {fontWeight: 'bold'}));\n",
              "    li.append(span(\n",
              "        `(${file.type || 'n/a'}) - ${file.size} bytes, ` +\n",
              "        `last modified: ${\n",
              "            file.lastModifiedDate ? file.lastModifiedDate.toLocaleDateString() :\n",
              "                                    'n/a'} - `));\n",
              "    const percent = span('0% done');\n",
              "    li.appendChild(percent);\n",
              "\n",
              "    outputElement.appendChild(li);\n",
              "\n",
              "    const fileDataPromise = new Promise((resolve) => {\n",
              "      const reader = new FileReader();\n",
              "      reader.onload = (e) => {\n",
              "        resolve(e.target.result);\n",
              "      };\n",
              "      reader.readAsArrayBuffer(file);\n",
              "    });\n",
              "    // Wait for the data to be ready.\n",
              "    let fileData = yield {\n",
              "      promise: fileDataPromise,\n",
              "      response: {\n",
              "        action: 'continue',\n",
              "      }\n",
              "    };\n",
              "\n",
              "    // Use a chunked sending to avoid message size limits. See b/62115660.\n",
              "    let position = 0;\n",
              "    do {\n",
              "      const length = Math.min(fileData.byteLength - position, MAX_PAYLOAD_SIZE);\n",
              "      const chunk = new Uint8Array(fileData, position, length);\n",
              "      position += length;\n",
              "\n",
              "      const base64 = btoa(String.fromCharCode.apply(null, chunk));\n",
              "      yield {\n",
              "        response: {\n",
              "          action: 'append',\n",
              "          file: file.name,\n",
              "          data: base64,\n",
              "        },\n",
              "      };\n",
              "\n",
              "      let percentDone = fileData.byteLength === 0 ?\n",
              "          100 :\n",
              "          Math.round((position / fileData.byteLength) * 100);\n",
              "      percent.textContent = `${percentDone}% done`;\n",
              "\n",
              "    } while (position < fileData.byteLength);\n",
              "  }\n",
              "\n",
              "  // All done.\n",
              "  yield {\n",
              "    response: {\n",
              "      action: 'complete',\n",
              "    }\n",
              "  };\n",
              "}\n",
              "\n",
              "scope.google = scope.google || {};\n",
              "scope.google.colab = scope.google.colab || {};\n",
              "scope.google.colab._files = {\n",
              "  _uploadFiles,\n",
              "  _uploadFilesContinue,\n",
              "};\n",
              "})(self);\n",
              "</script> "
            ]
          },
          "metadata": {}
        },
        {
          "output_type": "stream",
          "name": "stdout",
          "text": [
            "Saving BankChurners.csv to BankChurners.csv\n"
          ]
        }
      ]
    },
    {
      "cell_type": "markdown",
      "id": "633673b3",
      "metadata": {
        "id": "633673b3"
      },
      "source": [
        "# Read the Dataset "
      ]
    },
    {
      "cell_type": "code",
      "execution_count": null,
      "id": "b0843301",
      "metadata": {
        "id": "b0843301",
        "colab": {
          "base_uri": "https://localhost:8080/",
          "height": 661
        },
        "outputId": "4dbf7c03-6c9f-4499-f2ae-6e50e44220d3"
      },
      "outputs": [
        {
          "output_type": "execute_result",
          "data": {
            "text/plain": [
              "       CLIENTNUM     Attrition_Flag  Customer_Age Gender  Dependent_count  \\\n",
              "0      768805383  Existing Customer            45      M                3   \n",
              "1      818770008  Existing Customer            49      F                5   \n",
              "2      713982108  Existing Customer            51      M                3   \n",
              "3      769911858  Existing Customer            40      F                4   \n",
              "4      709106358  Existing Customer            40      M                3   \n",
              "...          ...                ...           ...    ...              ...   \n",
              "10122  772366833  Existing Customer            50      M                2   \n",
              "10123  710638233  Attrited Customer            41      M                2   \n",
              "10124  716506083  Attrited Customer            44      F                1   \n",
              "10125  717406983  Attrited Customer            30      M                2   \n",
              "10126  714337233  Attrited Customer            43      F                2   \n",
              "\n",
              "      Education_Level Marital_Status Income_Category Card_Category  \\\n",
              "0         High School        Married     $60K - $80K          Blue   \n",
              "1            Graduate         Single  Less than $40K          Blue   \n",
              "2            Graduate        Married    $80K - $120K          Blue   \n",
              "3         High School        Unknown  Less than $40K          Blue   \n",
              "4          Uneducated        Married     $60K - $80K          Blue   \n",
              "...               ...            ...             ...           ...   \n",
              "10122        Graduate         Single     $40K - $60K          Blue   \n",
              "10123         Unknown       Divorced     $40K - $60K          Blue   \n",
              "10124     High School        Married  Less than $40K          Blue   \n",
              "10125        Graduate        Unknown     $40K - $60K          Blue   \n",
              "10126        Graduate        Married  Less than $40K        Silver   \n",
              "\n",
              "       Months_on_book  ...  Credit_Limit  Total_Revolving_Bal  \\\n",
              "0                  39  ...       12691.0                  777   \n",
              "1                  44  ...        8256.0                  864   \n",
              "2                  36  ...        3418.0                    0   \n",
              "3                  34  ...        3313.0                 2517   \n",
              "4                  21  ...        4716.0                    0   \n",
              "...               ...  ...           ...                  ...   \n",
              "10122              40  ...        4003.0                 1851   \n",
              "10123              25  ...        4277.0                 2186   \n",
              "10124              36  ...        5409.0                    0   \n",
              "10125              36  ...        5281.0                    0   \n",
              "10126              25  ...       10388.0                 1961   \n",
              "\n",
              "       Avg_Open_To_Buy  Total_Amt_Chng_Q4_Q1  Total_Trans_Amt  Total_Trans_Ct  \\\n",
              "0              11914.0                 1.335             1144              42   \n",
              "1               7392.0                 1.541             1291              33   \n",
              "2               3418.0                 2.594             1887              20   \n",
              "3                796.0                 1.405             1171              20   \n",
              "4               4716.0                 2.175              816              28   \n",
              "...                ...                   ...              ...             ...   \n",
              "10122           2152.0                 0.703            15476             117   \n",
              "10123           2091.0                 0.804             8764              69   \n",
              "10124           5409.0                 0.819            10291              60   \n",
              "10125           5281.0                 0.535             8395              62   \n",
              "10126           8427.0                 0.703            10294              61   \n",
              "\n",
              "       Total_Ct_Chng_Q4_Q1  Avg_Utilization_Ratio  \\\n",
              "0                    1.625                  0.061   \n",
              "1                    3.714                  0.105   \n",
              "2                    2.333                  0.000   \n",
              "3                    2.333                  0.760   \n",
              "4                    2.500                  0.000   \n",
              "...                    ...                    ...   \n",
              "10122                0.857                  0.462   \n",
              "10123                0.683                  0.511   \n",
              "10124                0.818                  0.000   \n",
              "10125                0.722                  0.000   \n",
              "10126                0.649                  0.189   \n",
              "\n",
              "       Naive_Bayes_Classifier_Attrition_Flag_Card_Category_Contacts_Count_12_mon_Dependent_count_Education_Level_Months_Inactive_12_mon_1  \\\n",
              "0                                               0.000093                                                                                    \n",
              "1                                               0.000057                                                                                    \n",
              "2                                               0.000021                                                                                    \n",
              "3                                               0.000134                                                                                    \n",
              "4                                               0.000022                                                                                    \n",
              "...                                                  ...                                                                                    \n",
              "10122                                           0.000191                                                                                    \n",
              "10123                                           0.995270                                                                                    \n",
              "10124                                           0.997880                                                                                    \n",
              "10125                                           0.996710                                                                                    \n",
              "10126                                           0.996620                                                                                    \n",
              "\n",
              "       Naive_Bayes_Classifier_Attrition_Flag_Card_Category_Contacts_Count_12_mon_Dependent_count_Education_Level_Months_Inactive_12_mon_2  \n",
              "0                                               0.999910                                                                                   \n",
              "1                                               0.999940                                                                                   \n",
              "2                                               0.999980                                                                                   \n",
              "3                                               0.999870                                                                                   \n",
              "4                                               0.999980                                                                                   \n",
              "...                                                  ...                                                                                   \n",
              "10122                                           0.999810                                                                                   \n",
              "10123                                           0.004729                                                                                   \n",
              "10124                                           0.002118                                                                                   \n",
              "10125                                           0.003294                                                                                   \n",
              "10126                                           0.003377                                                                                   \n",
              "\n",
              "[10127 rows x 23 columns]"
            ],
            "text/html": [
              "\n",
              "  <div id=\"df-0d26a664-f2bc-4d3c-b586-f93e71cc014e\">\n",
              "    <div class=\"colab-df-container\">\n",
              "      <div>\n",
              "<style scoped>\n",
              "    .dataframe tbody tr th:only-of-type {\n",
              "        vertical-align: middle;\n",
              "    }\n",
              "\n",
              "    .dataframe tbody tr th {\n",
              "        vertical-align: top;\n",
              "    }\n",
              "\n",
              "    .dataframe thead th {\n",
              "        text-align: right;\n",
              "    }\n",
              "</style>\n",
              "<table border=\"1\" class=\"dataframe\">\n",
              "  <thead>\n",
              "    <tr style=\"text-align: right;\">\n",
              "      <th></th>\n",
              "      <th>CLIENTNUM</th>\n",
              "      <th>Attrition_Flag</th>\n",
              "      <th>Customer_Age</th>\n",
              "      <th>Gender</th>\n",
              "      <th>Dependent_count</th>\n",
              "      <th>Education_Level</th>\n",
              "      <th>Marital_Status</th>\n",
              "      <th>Income_Category</th>\n",
              "      <th>Card_Category</th>\n",
              "      <th>Months_on_book</th>\n",
              "      <th>...</th>\n",
              "      <th>Credit_Limit</th>\n",
              "      <th>Total_Revolving_Bal</th>\n",
              "      <th>Avg_Open_To_Buy</th>\n",
              "      <th>Total_Amt_Chng_Q4_Q1</th>\n",
              "      <th>Total_Trans_Amt</th>\n",
              "      <th>Total_Trans_Ct</th>\n",
              "      <th>Total_Ct_Chng_Q4_Q1</th>\n",
              "      <th>Avg_Utilization_Ratio</th>\n",
              "      <th>Naive_Bayes_Classifier_Attrition_Flag_Card_Category_Contacts_Count_12_mon_Dependent_count_Education_Level_Months_Inactive_12_mon_1</th>\n",
              "      <th>Naive_Bayes_Classifier_Attrition_Flag_Card_Category_Contacts_Count_12_mon_Dependent_count_Education_Level_Months_Inactive_12_mon_2</th>\n",
              "    </tr>\n",
              "  </thead>\n",
              "  <tbody>\n",
              "    <tr>\n",
              "      <th>0</th>\n",
              "      <td>768805383</td>\n",
              "      <td>Existing Customer</td>\n",
              "      <td>45</td>\n",
              "      <td>M</td>\n",
              "      <td>3</td>\n",
              "      <td>High School</td>\n",
              "      <td>Married</td>\n",
              "      <td>$60K - $80K</td>\n",
              "      <td>Blue</td>\n",
              "      <td>39</td>\n",
              "      <td>...</td>\n",
              "      <td>12691.0</td>\n",
              "      <td>777</td>\n",
              "      <td>11914.0</td>\n",
              "      <td>1.335</td>\n",
              "      <td>1144</td>\n",
              "      <td>42</td>\n",
              "      <td>1.625</td>\n",
              "      <td>0.061</td>\n",
              "      <td>0.000093</td>\n",
              "      <td>0.999910</td>\n",
              "    </tr>\n",
              "    <tr>\n",
              "      <th>1</th>\n",
              "      <td>818770008</td>\n",
              "      <td>Existing Customer</td>\n",
              "      <td>49</td>\n",
              "      <td>F</td>\n",
              "      <td>5</td>\n",
              "      <td>Graduate</td>\n",
              "      <td>Single</td>\n",
              "      <td>Less than $40K</td>\n",
              "      <td>Blue</td>\n",
              "      <td>44</td>\n",
              "      <td>...</td>\n",
              "      <td>8256.0</td>\n",
              "      <td>864</td>\n",
              "      <td>7392.0</td>\n",
              "      <td>1.541</td>\n",
              "      <td>1291</td>\n",
              "      <td>33</td>\n",
              "      <td>3.714</td>\n",
              "      <td>0.105</td>\n",
              "      <td>0.000057</td>\n",
              "      <td>0.999940</td>\n",
              "    </tr>\n",
              "    <tr>\n",
              "      <th>2</th>\n",
              "      <td>713982108</td>\n",
              "      <td>Existing Customer</td>\n",
              "      <td>51</td>\n",
              "      <td>M</td>\n",
              "      <td>3</td>\n",
              "      <td>Graduate</td>\n",
              "      <td>Married</td>\n",
              "      <td>$80K - $120K</td>\n",
              "      <td>Blue</td>\n",
              "      <td>36</td>\n",
              "      <td>...</td>\n",
              "      <td>3418.0</td>\n",
              "      <td>0</td>\n",
              "      <td>3418.0</td>\n",
              "      <td>2.594</td>\n",
              "      <td>1887</td>\n",
              "      <td>20</td>\n",
              "      <td>2.333</td>\n",
              "      <td>0.000</td>\n",
              "      <td>0.000021</td>\n",
              "      <td>0.999980</td>\n",
              "    </tr>\n",
              "    <tr>\n",
              "      <th>3</th>\n",
              "      <td>769911858</td>\n",
              "      <td>Existing Customer</td>\n",
              "      <td>40</td>\n",
              "      <td>F</td>\n",
              "      <td>4</td>\n",
              "      <td>High School</td>\n",
              "      <td>Unknown</td>\n",
              "      <td>Less than $40K</td>\n",
              "      <td>Blue</td>\n",
              "      <td>34</td>\n",
              "      <td>...</td>\n",
              "      <td>3313.0</td>\n",
              "      <td>2517</td>\n",
              "      <td>796.0</td>\n",
              "      <td>1.405</td>\n",
              "      <td>1171</td>\n",
              "      <td>20</td>\n",
              "      <td>2.333</td>\n",
              "      <td>0.760</td>\n",
              "      <td>0.000134</td>\n",
              "      <td>0.999870</td>\n",
              "    </tr>\n",
              "    <tr>\n",
              "      <th>4</th>\n",
              "      <td>709106358</td>\n",
              "      <td>Existing Customer</td>\n",
              "      <td>40</td>\n",
              "      <td>M</td>\n",
              "      <td>3</td>\n",
              "      <td>Uneducated</td>\n",
              "      <td>Married</td>\n",
              "      <td>$60K - $80K</td>\n",
              "      <td>Blue</td>\n",
              "      <td>21</td>\n",
              "      <td>...</td>\n",
              "      <td>4716.0</td>\n",
              "      <td>0</td>\n",
              "      <td>4716.0</td>\n",
              "      <td>2.175</td>\n",
              "      <td>816</td>\n",
              "      <td>28</td>\n",
              "      <td>2.500</td>\n",
              "      <td>0.000</td>\n",
              "      <td>0.000022</td>\n",
              "      <td>0.999980</td>\n",
              "    </tr>\n",
              "    <tr>\n",
              "      <th>...</th>\n",
              "      <td>...</td>\n",
              "      <td>...</td>\n",
              "      <td>...</td>\n",
              "      <td>...</td>\n",
              "      <td>...</td>\n",
              "      <td>...</td>\n",
              "      <td>...</td>\n",
              "      <td>...</td>\n",
              "      <td>...</td>\n",
              "      <td>...</td>\n",
              "      <td>...</td>\n",
              "      <td>...</td>\n",
              "      <td>...</td>\n",
              "      <td>...</td>\n",
              "      <td>...</td>\n",
              "      <td>...</td>\n",
              "      <td>...</td>\n",
              "      <td>...</td>\n",
              "      <td>...</td>\n",
              "      <td>...</td>\n",
              "      <td>...</td>\n",
              "    </tr>\n",
              "    <tr>\n",
              "      <th>10122</th>\n",
              "      <td>772366833</td>\n",
              "      <td>Existing Customer</td>\n",
              "      <td>50</td>\n",
              "      <td>M</td>\n",
              "      <td>2</td>\n",
              "      <td>Graduate</td>\n",
              "      <td>Single</td>\n",
              "      <td>$40K - $60K</td>\n",
              "      <td>Blue</td>\n",
              "      <td>40</td>\n",
              "      <td>...</td>\n",
              "      <td>4003.0</td>\n",
              "      <td>1851</td>\n",
              "      <td>2152.0</td>\n",
              "      <td>0.703</td>\n",
              "      <td>15476</td>\n",
              "      <td>117</td>\n",
              "      <td>0.857</td>\n",
              "      <td>0.462</td>\n",
              "      <td>0.000191</td>\n",
              "      <td>0.999810</td>\n",
              "    </tr>\n",
              "    <tr>\n",
              "      <th>10123</th>\n",
              "      <td>710638233</td>\n",
              "      <td>Attrited Customer</td>\n",
              "      <td>41</td>\n",
              "      <td>M</td>\n",
              "      <td>2</td>\n",
              "      <td>Unknown</td>\n",
              "      <td>Divorced</td>\n",
              "      <td>$40K - $60K</td>\n",
              "      <td>Blue</td>\n",
              "      <td>25</td>\n",
              "      <td>...</td>\n",
              "      <td>4277.0</td>\n",
              "      <td>2186</td>\n",
              "      <td>2091.0</td>\n",
              "      <td>0.804</td>\n",
              "      <td>8764</td>\n",
              "      <td>69</td>\n",
              "      <td>0.683</td>\n",
              "      <td>0.511</td>\n",
              "      <td>0.995270</td>\n",
              "      <td>0.004729</td>\n",
              "    </tr>\n",
              "    <tr>\n",
              "      <th>10124</th>\n",
              "      <td>716506083</td>\n",
              "      <td>Attrited Customer</td>\n",
              "      <td>44</td>\n",
              "      <td>F</td>\n",
              "      <td>1</td>\n",
              "      <td>High School</td>\n",
              "      <td>Married</td>\n",
              "      <td>Less than $40K</td>\n",
              "      <td>Blue</td>\n",
              "      <td>36</td>\n",
              "      <td>...</td>\n",
              "      <td>5409.0</td>\n",
              "      <td>0</td>\n",
              "      <td>5409.0</td>\n",
              "      <td>0.819</td>\n",
              "      <td>10291</td>\n",
              "      <td>60</td>\n",
              "      <td>0.818</td>\n",
              "      <td>0.000</td>\n",
              "      <td>0.997880</td>\n",
              "      <td>0.002118</td>\n",
              "    </tr>\n",
              "    <tr>\n",
              "      <th>10125</th>\n",
              "      <td>717406983</td>\n",
              "      <td>Attrited Customer</td>\n",
              "      <td>30</td>\n",
              "      <td>M</td>\n",
              "      <td>2</td>\n",
              "      <td>Graduate</td>\n",
              "      <td>Unknown</td>\n",
              "      <td>$40K - $60K</td>\n",
              "      <td>Blue</td>\n",
              "      <td>36</td>\n",
              "      <td>...</td>\n",
              "      <td>5281.0</td>\n",
              "      <td>0</td>\n",
              "      <td>5281.0</td>\n",
              "      <td>0.535</td>\n",
              "      <td>8395</td>\n",
              "      <td>62</td>\n",
              "      <td>0.722</td>\n",
              "      <td>0.000</td>\n",
              "      <td>0.996710</td>\n",
              "      <td>0.003294</td>\n",
              "    </tr>\n",
              "    <tr>\n",
              "      <th>10126</th>\n",
              "      <td>714337233</td>\n",
              "      <td>Attrited Customer</td>\n",
              "      <td>43</td>\n",
              "      <td>F</td>\n",
              "      <td>2</td>\n",
              "      <td>Graduate</td>\n",
              "      <td>Married</td>\n",
              "      <td>Less than $40K</td>\n",
              "      <td>Silver</td>\n",
              "      <td>25</td>\n",
              "      <td>...</td>\n",
              "      <td>10388.0</td>\n",
              "      <td>1961</td>\n",
              "      <td>8427.0</td>\n",
              "      <td>0.703</td>\n",
              "      <td>10294</td>\n",
              "      <td>61</td>\n",
              "      <td>0.649</td>\n",
              "      <td>0.189</td>\n",
              "      <td>0.996620</td>\n",
              "      <td>0.003377</td>\n",
              "    </tr>\n",
              "  </tbody>\n",
              "</table>\n",
              "<p>10127 rows × 23 columns</p>\n",
              "</div>\n",
              "      <button class=\"colab-df-convert\" onclick=\"convertToInteractive('df-0d26a664-f2bc-4d3c-b586-f93e71cc014e')\"\n",
              "              title=\"Convert this dataframe to an interactive table.\"\n",
              "              style=\"display:none;\">\n",
              "        \n",
              "  <svg xmlns=\"http://www.w3.org/2000/svg\" height=\"24px\"viewBox=\"0 0 24 24\"\n",
              "       width=\"24px\">\n",
              "    <path d=\"M0 0h24v24H0V0z\" fill=\"none\"/>\n",
              "    <path d=\"M18.56 5.44l.94 2.06.94-2.06 2.06-.94-2.06-.94-.94-2.06-.94 2.06-2.06.94zm-11 1L8.5 8.5l.94-2.06 2.06-.94-2.06-.94L8.5 2.5l-.94 2.06-2.06.94zm10 10l.94 2.06.94-2.06 2.06-.94-2.06-.94-.94-2.06-.94 2.06-2.06.94z\"/><path d=\"M17.41 7.96l-1.37-1.37c-.4-.4-.92-.59-1.43-.59-.52 0-1.04.2-1.43.59L10.3 9.45l-7.72 7.72c-.78.78-.78 2.05 0 2.83L4 21.41c.39.39.9.59 1.41.59.51 0 1.02-.2 1.41-.59l7.78-7.78 2.81-2.81c.8-.78.8-2.07 0-2.86zM5.41 20L4 18.59l7.72-7.72 1.47 1.35L5.41 20z\"/>\n",
              "  </svg>\n",
              "      </button>\n",
              "      \n",
              "  <style>\n",
              "    .colab-df-container {\n",
              "      display:flex;\n",
              "      flex-wrap:wrap;\n",
              "      gap: 12px;\n",
              "    }\n",
              "\n",
              "    .colab-df-convert {\n",
              "      background-color: #E8F0FE;\n",
              "      border: none;\n",
              "      border-radius: 50%;\n",
              "      cursor: pointer;\n",
              "      display: none;\n",
              "      fill: #1967D2;\n",
              "      height: 32px;\n",
              "      padding: 0 0 0 0;\n",
              "      width: 32px;\n",
              "    }\n",
              "\n",
              "    .colab-df-convert:hover {\n",
              "      background-color: #E2EBFA;\n",
              "      box-shadow: 0px 1px 2px rgba(60, 64, 67, 0.3), 0px 1px 3px 1px rgba(60, 64, 67, 0.15);\n",
              "      fill: #174EA6;\n",
              "    }\n",
              "\n",
              "    [theme=dark] .colab-df-convert {\n",
              "      background-color: #3B4455;\n",
              "      fill: #D2E3FC;\n",
              "    }\n",
              "\n",
              "    [theme=dark] .colab-df-convert:hover {\n",
              "      background-color: #434B5C;\n",
              "      box-shadow: 0px 1px 3px 1px rgba(0, 0, 0, 0.15);\n",
              "      filter: drop-shadow(0px 1px 2px rgba(0, 0, 0, 0.3));\n",
              "      fill: #FFFFFF;\n",
              "    }\n",
              "  </style>\n",
              "\n",
              "      <script>\n",
              "        const buttonEl =\n",
              "          document.querySelector('#df-0d26a664-f2bc-4d3c-b586-f93e71cc014e button.colab-df-convert');\n",
              "        buttonEl.style.display =\n",
              "          google.colab.kernel.accessAllowed ? 'block' : 'none';\n",
              "\n",
              "        async function convertToInteractive(key) {\n",
              "          const element = document.querySelector('#df-0d26a664-f2bc-4d3c-b586-f93e71cc014e');\n",
              "          const dataTable =\n",
              "            await google.colab.kernel.invokeFunction('convertToInteractive',\n",
              "                                                     [key], {});\n",
              "          if (!dataTable) return;\n",
              "\n",
              "          const docLinkHtml = 'Like what you see? Visit the ' +\n",
              "            '<a target=\"_blank\" href=https://colab.research.google.com/notebooks/data_table.ipynb>data table notebook</a>'\n",
              "            + ' to learn more about interactive tables.';\n",
              "          element.innerHTML = '';\n",
              "          dataTable['output_type'] = 'display_data';\n",
              "          await google.colab.output.renderOutput(dataTable, element);\n",
              "          const docLink = document.createElement('div');\n",
              "          docLink.innerHTML = docLinkHtml;\n",
              "          element.appendChild(docLink);\n",
              "        }\n",
              "      </script>\n",
              "    </div>\n",
              "  </div>\n",
              "  "
            ]
          },
          "metadata": {},
          "execution_count": 3
        }
      ],
      "source": [
        "BankChurners = pd.read_csv(\"BankChurners.csv\")\n",
        "BankChurners"
      ]
    },
    {
      "cell_type": "markdown",
      "id": "7704471a",
      "metadata": {
        "id": "7704471a"
      },
      "source": [
        "# EDA"
      ]
    },
    {
      "cell_type": "code",
      "execution_count": null,
      "id": "3fbeb0cf",
      "metadata": {
        "colab": {
          "base_uri": "https://localhost:8080/",
          "height": 387
        },
        "id": "3fbeb0cf",
        "outputId": "a97c4d53-481a-415b-9b63-2418631e30aa"
      },
      "outputs": [
        {
          "output_type": "execute_result",
          "data": {
            "text/plain": [
              "   CLIENTNUM     Attrition_Flag  Customer_Age Gender  Dependent_count  \\\n",
              "0  768805383  Existing Customer            45      M                3   \n",
              "1  818770008  Existing Customer            49      F                5   \n",
              "2  713982108  Existing Customer            51      M                3   \n",
              "3  769911858  Existing Customer            40      F                4   \n",
              "4  709106358  Existing Customer            40      M                3   \n",
              "\n",
              "  Education_Level Marital_Status Income_Category Card_Category  \\\n",
              "0     High School        Married     $60K - $80K          Blue   \n",
              "1        Graduate         Single  Less than $40K          Blue   \n",
              "2        Graduate        Married    $80K - $120K          Blue   \n",
              "3     High School        Unknown  Less than $40K          Blue   \n",
              "4      Uneducated        Married     $60K - $80K          Blue   \n",
              "\n",
              "   Months_on_book  ...  Credit_Limit  Total_Revolving_Bal  Avg_Open_To_Buy  \\\n",
              "0              39  ...       12691.0                  777          11914.0   \n",
              "1              44  ...        8256.0                  864           7392.0   \n",
              "2              36  ...        3418.0                    0           3418.0   \n",
              "3              34  ...        3313.0                 2517            796.0   \n",
              "4              21  ...        4716.0                    0           4716.0   \n",
              "\n",
              "   Total_Amt_Chng_Q4_Q1  Total_Trans_Amt  Total_Trans_Ct  Total_Ct_Chng_Q4_Q1  \\\n",
              "0                 1.335             1144              42                1.625   \n",
              "1                 1.541             1291              33                3.714   \n",
              "2                 2.594             1887              20                2.333   \n",
              "3                 1.405             1171              20                2.333   \n",
              "4                 2.175              816              28                2.500   \n",
              "\n",
              "   Avg_Utilization_Ratio  \\\n",
              "0                  0.061   \n",
              "1                  0.105   \n",
              "2                  0.000   \n",
              "3                  0.760   \n",
              "4                  0.000   \n",
              "\n",
              "   Naive_Bayes_Classifier_Attrition_Flag_Card_Category_Contacts_Count_12_mon_Dependent_count_Education_Level_Months_Inactive_12_mon_1  \\\n",
              "0                                           0.000093                                                                                    \n",
              "1                                           0.000057                                                                                    \n",
              "2                                           0.000021                                                                                    \n",
              "3                                           0.000134                                                                                    \n",
              "4                                           0.000022                                                                                    \n",
              "\n",
              "   Naive_Bayes_Classifier_Attrition_Flag_Card_Category_Contacts_Count_12_mon_Dependent_count_Education_Level_Months_Inactive_12_mon_2  \n",
              "0                                            0.99991                                                                                   \n",
              "1                                            0.99994                                                                                   \n",
              "2                                            0.99998                                                                                   \n",
              "3                                            0.99987                                                                                   \n",
              "4                                            0.99998                                                                                   \n",
              "\n",
              "[5 rows x 23 columns]"
            ],
            "text/html": [
              "\n",
              "  <div id=\"df-56454f5e-5b3d-46ce-8242-e8e292de5434\">\n",
              "    <div class=\"colab-df-container\">\n",
              "      <div>\n",
              "<style scoped>\n",
              "    .dataframe tbody tr th:only-of-type {\n",
              "        vertical-align: middle;\n",
              "    }\n",
              "\n",
              "    .dataframe tbody tr th {\n",
              "        vertical-align: top;\n",
              "    }\n",
              "\n",
              "    .dataframe thead th {\n",
              "        text-align: right;\n",
              "    }\n",
              "</style>\n",
              "<table border=\"1\" class=\"dataframe\">\n",
              "  <thead>\n",
              "    <tr style=\"text-align: right;\">\n",
              "      <th></th>\n",
              "      <th>CLIENTNUM</th>\n",
              "      <th>Attrition_Flag</th>\n",
              "      <th>Customer_Age</th>\n",
              "      <th>Gender</th>\n",
              "      <th>Dependent_count</th>\n",
              "      <th>Education_Level</th>\n",
              "      <th>Marital_Status</th>\n",
              "      <th>Income_Category</th>\n",
              "      <th>Card_Category</th>\n",
              "      <th>Months_on_book</th>\n",
              "      <th>...</th>\n",
              "      <th>Credit_Limit</th>\n",
              "      <th>Total_Revolving_Bal</th>\n",
              "      <th>Avg_Open_To_Buy</th>\n",
              "      <th>Total_Amt_Chng_Q4_Q1</th>\n",
              "      <th>Total_Trans_Amt</th>\n",
              "      <th>Total_Trans_Ct</th>\n",
              "      <th>Total_Ct_Chng_Q4_Q1</th>\n",
              "      <th>Avg_Utilization_Ratio</th>\n",
              "      <th>Naive_Bayes_Classifier_Attrition_Flag_Card_Category_Contacts_Count_12_mon_Dependent_count_Education_Level_Months_Inactive_12_mon_1</th>\n",
              "      <th>Naive_Bayes_Classifier_Attrition_Flag_Card_Category_Contacts_Count_12_mon_Dependent_count_Education_Level_Months_Inactive_12_mon_2</th>\n",
              "    </tr>\n",
              "  </thead>\n",
              "  <tbody>\n",
              "    <tr>\n",
              "      <th>0</th>\n",
              "      <td>768805383</td>\n",
              "      <td>Existing Customer</td>\n",
              "      <td>45</td>\n",
              "      <td>M</td>\n",
              "      <td>3</td>\n",
              "      <td>High School</td>\n",
              "      <td>Married</td>\n",
              "      <td>$60K - $80K</td>\n",
              "      <td>Blue</td>\n",
              "      <td>39</td>\n",
              "      <td>...</td>\n",
              "      <td>12691.0</td>\n",
              "      <td>777</td>\n",
              "      <td>11914.0</td>\n",
              "      <td>1.335</td>\n",
              "      <td>1144</td>\n",
              "      <td>42</td>\n",
              "      <td>1.625</td>\n",
              "      <td>0.061</td>\n",
              "      <td>0.000093</td>\n",
              "      <td>0.99991</td>\n",
              "    </tr>\n",
              "    <tr>\n",
              "      <th>1</th>\n",
              "      <td>818770008</td>\n",
              "      <td>Existing Customer</td>\n",
              "      <td>49</td>\n",
              "      <td>F</td>\n",
              "      <td>5</td>\n",
              "      <td>Graduate</td>\n",
              "      <td>Single</td>\n",
              "      <td>Less than $40K</td>\n",
              "      <td>Blue</td>\n",
              "      <td>44</td>\n",
              "      <td>...</td>\n",
              "      <td>8256.0</td>\n",
              "      <td>864</td>\n",
              "      <td>7392.0</td>\n",
              "      <td>1.541</td>\n",
              "      <td>1291</td>\n",
              "      <td>33</td>\n",
              "      <td>3.714</td>\n",
              "      <td>0.105</td>\n",
              "      <td>0.000057</td>\n",
              "      <td>0.99994</td>\n",
              "    </tr>\n",
              "    <tr>\n",
              "      <th>2</th>\n",
              "      <td>713982108</td>\n",
              "      <td>Existing Customer</td>\n",
              "      <td>51</td>\n",
              "      <td>M</td>\n",
              "      <td>3</td>\n",
              "      <td>Graduate</td>\n",
              "      <td>Married</td>\n",
              "      <td>$80K - $120K</td>\n",
              "      <td>Blue</td>\n",
              "      <td>36</td>\n",
              "      <td>...</td>\n",
              "      <td>3418.0</td>\n",
              "      <td>0</td>\n",
              "      <td>3418.0</td>\n",
              "      <td>2.594</td>\n",
              "      <td>1887</td>\n",
              "      <td>20</td>\n",
              "      <td>2.333</td>\n",
              "      <td>0.000</td>\n",
              "      <td>0.000021</td>\n",
              "      <td>0.99998</td>\n",
              "    </tr>\n",
              "    <tr>\n",
              "      <th>3</th>\n",
              "      <td>769911858</td>\n",
              "      <td>Existing Customer</td>\n",
              "      <td>40</td>\n",
              "      <td>F</td>\n",
              "      <td>4</td>\n",
              "      <td>High School</td>\n",
              "      <td>Unknown</td>\n",
              "      <td>Less than $40K</td>\n",
              "      <td>Blue</td>\n",
              "      <td>34</td>\n",
              "      <td>...</td>\n",
              "      <td>3313.0</td>\n",
              "      <td>2517</td>\n",
              "      <td>796.0</td>\n",
              "      <td>1.405</td>\n",
              "      <td>1171</td>\n",
              "      <td>20</td>\n",
              "      <td>2.333</td>\n",
              "      <td>0.760</td>\n",
              "      <td>0.000134</td>\n",
              "      <td>0.99987</td>\n",
              "    </tr>\n",
              "    <tr>\n",
              "      <th>4</th>\n",
              "      <td>709106358</td>\n",
              "      <td>Existing Customer</td>\n",
              "      <td>40</td>\n",
              "      <td>M</td>\n",
              "      <td>3</td>\n",
              "      <td>Uneducated</td>\n",
              "      <td>Married</td>\n",
              "      <td>$60K - $80K</td>\n",
              "      <td>Blue</td>\n",
              "      <td>21</td>\n",
              "      <td>...</td>\n",
              "      <td>4716.0</td>\n",
              "      <td>0</td>\n",
              "      <td>4716.0</td>\n",
              "      <td>2.175</td>\n",
              "      <td>816</td>\n",
              "      <td>28</td>\n",
              "      <td>2.500</td>\n",
              "      <td>0.000</td>\n",
              "      <td>0.000022</td>\n",
              "      <td>0.99998</td>\n",
              "    </tr>\n",
              "  </tbody>\n",
              "</table>\n",
              "<p>5 rows × 23 columns</p>\n",
              "</div>\n",
              "      <button class=\"colab-df-convert\" onclick=\"convertToInteractive('df-56454f5e-5b3d-46ce-8242-e8e292de5434')\"\n",
              "              title=\"Convert this dataframe to an interactive table.\"\n",
              "              style=\"display:none;\">\n",
              "        \n",
              "  <svg xmlns=\"http://www.w3.org/2000/svg\" height=\"24px\"viewBox=\"0 0 24 24\"\n",
              "       width=\"24px\">\n",
              "    <path d=\"M0 0h24v24H0V0z\" fill=\"none\"/>\n",
              "    <path d=\"M18.56 5.44l.94 2.06.94-2.06 2.06-.94-2.06-.94-.94-2.06-.94 2.06-2.06.94zm-11 1L8.5 8.5l.94-2.06 2.06-.94-2.06-.94L8.5 2.5l-.94 2.06-2.06.94zm10 10l.94 2.06.94-2.06 2.06-.94-2.06-.94-.94-2.06-.94 2.06-2.06.94z\"/><path d=\"M17.41 7.96l-1.37-1.37c-.4-.4-.92-.59-1.43-.59-.52 0-1.04.2-1.43.59L10.3 9.45l-7.72 7.72c-.78.78-.78 2.05 0 2.83L4 21.41c.39.39.9.59 1.41.59.51 0 1.02-.2 1.41-.59l7.78-7.78 2.81-2.81c.8-.78.8-2.07 0-2.86zM5.41 20L4 18.59l7.72-7.72 1.47 1.35L5.41 20z\"/>\n",
              "  </svg>\n",
              "      </button>\n",
              "      \n",
              "  <style>\n",
              "    .colab-df-container {\n",
              "      display:flex;\n",
              "      flex-wrap:wrap;\n",
              "      gap: 12px;\n",
              "    }\n",
              "\n",
              "    .colab-df-convert {\n",
              "      background-color: #E8F0FE;\n",
              "      border: none;\n",
              "      border-radius: 50%;\n",
              "      cursor: pointer;\n",
              "      display: none;\n",
              "      fill: #1967D2;\n",
              "      height: 32px;\n",
              "      padding: 0 0 0 0;\n",
              "      width: 32px;\n",
              "    }\n",
              "\n",
              "    .colab-df-convert:hover {\n",
              "      background-color: #E2EBFA;\n",
              "      box-shadow: 0px 1px 2px rgba(60, 64, 67, 0.3), 0px 1px 3px 1px rgba(60, 64, 67, 0.15);\n",
              "      fill: #174EA6;\n",
              "    }\n",
              "\n",
              "    [theme=dark] .colab-df-convert {\n",
              "      background-color: #3B4455;\n",
              "      fill: #D2E3FC;\n",
              "    }\n",
              "\n",
              "    [theme=dark] .colab-df-convert:hover {\n",
              "      background-color: #434B5C;\n",
              "      box-shadow: 0px 1px 3px 1px rgba(0, 0, 0, 0.15);\n",
              "      filter: drop-shadow(0px 1px 2px rgba(0, 0, 0, 0.3));\n",
              "      fill: #FFFFFF;\n",
              "    }\n",
              "  </style>\n",
              "\n",
              "      <script>\n",
              "        const buttonEl =\n",
              "          document.querySelector('#df-56454f5e-5b3d-46ce-8242-e8e292de5434 button.colab-df-convert');\n",
              "        buttonEl.style.display =\n",
              "          google.colab.kernel.accessAllowed ? 'block' : 'none';\n",
              "\n",
              "        async function convertToInteractive(key) {\n",
              "          const element = document.querySelector('#df-56454f5e-5b3d-46ce-8242-e8e292de5434');\n",
              "          const dataTable =\n",
              "            await google.colab.kernel.invokeFunction('convertToInteractive',\n",
              "                                                     [key], {});\n",
              "          if (!dataTable) return;\n",
              "\n",
              "          const docLinkHtml = 'Like what you see? Visit the ' +\n",
              "            '<a target=\"_blank\" href=https://colab.research.google.com/notebooks/data_table.ipynb>data table notebook</a>'\n",
              "            + ' to learn more about interactive tables.';\n",
              "          element.innerHTML = '';\n",
              "          dataTable['output_type'] = 'display_data';\n",
              "          await google.colab.output.renderOutput(dataTable, element);\n",
              "          const docLink = document.createElement('div');\n",
              "          docLink.innerHTML = docLinkHtml;\n",
              "          element.appendChild(docLink);\n",
              "        }\n",
              "      </script>\n",
              "    </div>\n",
              "  </div>\n",
              "  "
            ]
          },
          "metadata": {},
          "execution_count": 4
        }
      ],
      "source": [
        "BankChurners.head()"
      ]
    },
    {
      "cell_type": "markdown",
      "id": "12613969",
      "metadata": {
        "id": "12613969"
      },
      "source": [
        "The “Exploratory data analysis”, commonly termed the “EDA” system is a method that is applied to investigate a certain dataset or to make an initial summary of the dataset to highlight the key segments of the dataset in “python programming”. In this report, a particular dataset on “bank churners” has been collected from “Kaggle” and the proper analysis of this dataset has been done using the “Jupyuter Notebook” in “Python Programming”  through different types of visualization methods and diagrams. In this case, the “exploratory data analysis” system helps to understand the general category of the dataset that has been chosen (Marín Díaz et al. 2022). In addition, it also helps to understand the basic distribution methods of the dataset and also the null values that are within the dataset, and also other different aspects of the dataset."
      ]
    },
    {
      "cell_type": "code",
      "execution_count": null,
      "id": "55925119",
      "metadata": {
        "colab": {
          "base_uri": "https://localhost:8080/",
          "height": 387
        },
        "id": "55925119",
        "outputId": "41c9f5a6-3e38-4f58-dc37-b347189fce5c"
      },
      "outputs": [
        {
          "output_type": "execute_result",
          "data": {
            "text/plain": [
              "       CLIENTNUM     Attrition_Flag  Customer_Age Gender  Dependent_count  \\\n",
              "10122  772366833  Existing Customer            50      M                2   \n",
              "10123  710638233  Attrited Customer            41      M                2   \n",
              "10124  716506083  Attrited Customer            44      F                1   \n",
              "10125  717406983  Attrited Customer            30      M                2   \n",
              "10126  714337233  Attrited Customer            43      F                2   \n",
              "\n",
              "      Education_Level Marital_Status Income_Category Card_Category  \\\n",
              "10122        Graduate         Single     $40K - $60K          Blue   \n",
              "10123         Unknown       Divorced     $40K - $60K          Blue   \n",
              "10124     High School        Married  Less than $40K          Blue   \n",
              "10125        Graduate        Unknown     $40K - $60K          Blue   \n",
              "10126        Graduate        Married  Less than $40K        Silver   \n",
              "\n",
              "       Months_on_book  ...  Credit_Limit  Total_Revolving_Bal  \\\n",
              "10122              40  ...        4003.0                 1851   \n",
              "10123              25  ...        4277.0                 2186   \n",
              "10124              36  ...        5409.0                    0   \n",
              "10125              36  ...        5281.0                    0   \n",
              "10126              25  ...       10388.0                 1961   \n",
              "\n",
              "       Avg_Open_To_Buy  Total_Amt_Chng_Q4_Q1  Total_Trans_Amt  Total_Trans_Ct  \\\n",
              "10122           2152.0                 0.703            15476             117   \n",
              "10123           2091.0                 0.804             8764              69   \n",
              "10124           5409.0                 0.819            10291              60   \n",
              "10125           5281.0                 0.535             8395              62   \n",
              "10126           8427.0                 0.703            10294              61   \n",
              "\n",
              "       Total_Ct_Chng_Q4_Q1  Avg_Utilization_Ratio  \\\n",
              "10122                0.857                  0.462   \n",
              "10123                0.683                  0.511   \n",
              "10124                0.818                  0.000   \n",
              "10125                0.722                  0.000   \n",
              "10126                0.649                  0.189   \n",
              "\n",
              "       Naive_Bayes_Classifier_Attrition_Flag_Card_Category_Contacts_Count_12_mon_Dependent_count_Education_Level_Months_Inactive_12_mon_1  \\\n",
              "10122                                           0.000191                                                                                    \n",
              "10123                                           0.995270                                                                                    \n",
              "10124                                           0.997880                                                                                    \n",
              "10125                                           0.996710                                                                                    \n",
              "10126                                           0.996620                                                                                    \n",
              "\n",
              "       Naive_Bayes_Classifier_Attrition_Flag_Card_Category_Contacts_Count_12_mon_Dependent_count_Education_Level_Months_Inactive_12_mon_2  \n",
              "10122                                           0.999810                                                                                   \n",
              "10123                                           0.004729                                                                                   \n",
              "10124                                           0.002118                                                                                   \n",
              "10125                                           0.003294                                                                                   \n",
              "10126                                           0.003377                                                                                   \n",
              "\n",
              "[5 rows x 23 columns]"
            ],
            "text/html": [
              "\n",
              "  <div id=\"df-90ecbb0e-c446-4967-850e-6b391d652909\">\n",
              "    <div class=\"colab-df-container\">\n",
              "      <div>\n",
              "<style scoped>\n",
              "    .dataframe tbody tr th:only-of-type {\n",
              "        vertical-align: middle;\n",
              "    }\n",
              "\n",
              "    .dataframe tbody tr th {\n",
              "        vertical-align: top;\n",
              "    }\n",
              "\n",
              "    .dataframe thead th {\n",
              "        text-align: right;\n",
              "    }\n",
              "</style>\n",
              "<table border=\"1\" class=\"dataframe\">\n",
              "  <thead>\n",
              "    <tr style=\"text-align: right;\">\n",
              "      <th></th>\n",
              "      <th>CLIENTNUM</th>\n",
              "      <th>Attrition_Flag</th>\n",
              "      <th>Customer_Age</th>\n",
              "      <th>Gender</th>\n",
              "      <th>Dependent_count</th>\n",
              "      <th>Education_Level</th>\n",
              "      <th>Marital_Status</th>\n",
              "      <th>Income_Category</th>\n",
              "      <th>Card_Category</th>\n",
              "      <th>Months_on_book</th>\n",
              "      <th>...</th>\n",
              "      <th>Credit_Limit</th>\n",
              "      <th>Total_Revolving_Bal</th>\n",
              "      <th>Avg_Open_To_Buy</th>\n",
              "      <th>Total_Amt_Chng_Q4_Q1</th>\n",
              "      <th>Total_Trans_Amt</th>\n",
              "      <th>Total_Trans_Ct</th>\n",
              "      <th>Total_Ct_Chng_Q4_Q1</th>\n",
              "      <th>Avg_Utilization_Ratio</th>\n",
              "      <th>Naive_Bayes_Classifier_Attrition_Flag_Card_Category_Contacts_Count_12_mon_Dependent_count_Education_Level_Months_Inactive_12_mon_1</th>\n",
              "      <th>Naive_Bayes_Classifier_Attrition_Flag_Card_Category_Contacts_Count_12_mon_Dependent_count_Education_Level_Months_Inactive_12_mon_2</th>\n",
              "    </tr>\n",
              "  </thead>\n",
              "  <tbody>\n",
              "    <tr>\n",
              "      <th>10122</th>\n",
              "      <td>772366833</td>\n",
              "      <td>Existing Customer</td>\n",
              "      <td>50</td>\n",
              "      <td>M</td>\n",
              "      <td>2</td>\n",
              "      <td>Graduate</td>\n",
              "      <td>Single</td>\n",
              "      <td>$40K - $60K</td>\n",
              "      <td>Blue</td>\n",
              "      <td>40</td>\n",
              "      <td>...</td>\n",
              "      <td>4003.0</td>\n",
              "      <td>1851</td>\n",
              "      <td>2152.0</td>\n",
              "      <td>0.703</td>\n",
              "      <td>15476</td>\n",
              "      <td>117</td>\n",
              "      <td>0.857</td>\n",
              "      <td>0.462</td>\n",
              "      <td>0.000191</td>\n",
              "      <td>0.999810</td>\n",
              "    </tr>\n",
              "    <tr>\n",
              "      <th>10123</th>\n",
              "      <td>710638233</td>\n",
              "      <td>Attrited Customer</td>\n",
              "      <td>41</td>\n",
              "      <td>M</td>\n",
              "      <td>2</td>\n",
              "      <td>Unknown</td>\n",
              "      <td>Divorced</td>\n",
              "      <td>$40K - $60K</td>\n",
              "      <td>Blue</td>\n",
              "      <td>25</td>\n",
              "      <td>...</td>\n",
              "      <td>4277.0</td>\n",
              "      <td>2186</td>\n",
              "      <td>2091.0</td>\n",
              "      <td>0.804</td>\n",
              "      <td>8764</td>\n",
              "      <td>69</td>\n",
              "      <td>0.683</td>\n",
              "      <td>0.511</td>\n",
              "      <td>0.995270</td>\n",
              "      <td>0.004729</td>\n",
              "    </tr>\n",
              "    <tr>\n",
              "      <th>10124</th>\n",
              "      <td>716506083</td>\n",
              "      <td>Attrited Customer</td>\n",
              "      <td>44</td>\n",
              "      <td>F</td>\n",
              "      <td>1</td>\n",
              "      <td>High School</td>\n",
              "      <td>Married</td>\n",
              "      <td>Less than $40K</td>\n",
              "      <td>Blue</td>\n",
              "      <td>36</td>\n",
              "      <td>...</td>\n",
              "      <td>5409.0</td>\n",
              "      <td>0</td>\n",
              "      <td>5409.0</td>\n",
              "      <td>0.819</td>\n",
              "      <td>10291</td>\n",
              "      <td>60</td>\n",
              "      <td>0.818</td>\n",
              "      <td>0.000</td>\n",
              "      <td>0.997880</td>\n",
              "      <td>0.002118</td>\n",
              "    </tr>\n",
              "    <tr>\n",
              "      <th>10125</th>\n",
              "      <td>717406983</td>\n",
              "      <td>Attrited Customer</td>\n",
              "      <td>30</td>\n",
              "      <td>M</td>\n",
              "      <td>2</td>\n",
              "      <td>Graduate</td>\n",
              "      <td>Unknown</td>\n",
              "      <td>$40K - $60K</td>\n",
              "      <td>Blue</td>\n",
              "      <td>36</td>\n",
              "      <td>...</td>\n",
              "      <td>5281.0</td>\n",
              "      <td>0</td>\n",
              "      <td>5281.0</td>\n",
              "      <td>0.535</td>\n",
              "      <td>8395</td>\n",
              "      <td>62</td>\n",
              "      <td>0.722</td>\n",
              "      <td>0.000</td>\n",
              "      <td>0.996710</td>\n",
              "      <td>0.003294</td>\n",
              "    </tr>\n",
              "    <tr>\n",
              "      <th>10126</th>\n",
              "      <td>714337233</td>\n",
              "      <td>Attrited Customer</td>\n",
              "      <td>43</td>\n",
              "      <td>F</td>\n",
              "      <td>2</td>\n",
              "      <td>Graduate</td>\n",
              "      <td>Married</td>\n",
              "      <td>Less than $40K</td>\n",
              "      <td>Silver</td>\n",
              "      <td>25</td>\n",
              "      <td>...</td>\n",
              "      <td>10388.0</td>\n",
              "      <td>1961</td>\n",
              "      <td>8427.0</td>\n",
              "      <td>0.703</td>\n",
              "      <td>10294</td>\n",
              "      <td>61</td>\n",
              "      <td>0.649</td>\n",
              "      <td>0.189</td>\n",
              "      <td>0.996620</td>\n",
              "      <td>0.003377</td>\n",
              "    </tr>\n",
              "  </tbody>\n",
              "</table>\n",
              "<p>5 rows × 23 columns</p>\n",
              "</div>\n",
              "      <button class=\"colab-df-convert\" onclick=\"convertToInteractive('df-90ecbb0e-c446-4967-850e-6b391d652909')\"\n",
              "              title=\"Convert this dataframe to an interactive table.\"\n",
              "              style=\"display:none;\">\n",
              "        \n",
              "  <svg xmlns=\"http://www.w3.org/2000/svg\" height=\"24px\"viewBox=\"0 0 24 24\"\n",
              "       width=\"24px\">\n",
              "    <path d=\"M0 0h24v24H0V0z\" fill=\"none\"/>\n",
              "    <path d=\"M18.56 5.44l.94 2.06.94-2.06 2.06-.94-2.06-.94-.94-2.06-.94 2.06-2.06.94zm-11 1L8.5 8.5l.94-2.06 2.06-.94-2.06-.94L8.5 2.5l-.94 2.06-2.06.94zm10 10l.94 2.06.94-2.06 2.06-.94-2.06-.94-.94-2.06-.94 2.06-2.06.94z\"/><path d=\"M17.41 7.96l-1.37-1.37c-.4-.4-.92-.59-1.43-.59-.52 0-1.04.2-1.43.59L10.3 9.45l-7.72 7.72c-.78.78-.78 2.05 0 2.83L4 21.41c.39.39.9.59 1.41.59.51 0 1.02-.2 1.41-.59l7.78-7.78 2.81-2.81c.8-.78.8-2.07 0-2.86zM5.41 20L4 18.59l7.72-7.72 1.47 1.35L5.41 20z\"/>\n",
              "  </svg>\n",
              "      </button>\n",
              "      \n",
              "  <style>\n",
              "    .colab-df-container {\n",
              "      display:flex;\n",
              "      flex-wrap:wrap;\n",
              "      gap: 12px;\n",
              "    }\n",
              "\n",
              "    .colab-df-convert {\n",
              "      background-color: #E8F0FE;\n",
              "      border: none;\n",
              "      border-radius: 50%;\n",
              "      cursor: pointer;\n",
              "      display: none;\n",
              "      fill: #1967D2;\n",
              "      height: 32px;\n",
              "      padding: 0 0 0 0;\n",
              "      width: 32px;\n",
              "    }\n",
              "\n",
              "    .colab-df-convert:hover {\n",
              "      background-color: #E2EBFA;\n",
              "      box-shadow: 0px 1px 2px rgba(60, 64, 67, 0.3), 0px 1px 3px 1px rgba(60, 64, 67, 0.15);\n",
              "      fill: #174EA6;\n",
              "    }\n",
              "\n",
              "    [theme=dark] .colab-df-convert {\n",
              "      background-color: #3B4455;\n",
              "      fill: #D2E3FC;\n",
              "    }\n",
              "\n",
              "    [theme=dark] .colab-df-convert:hover {\n",
              "      background-color: #434B5C;\n",
              "      box-shadow: 0px 1px 3px 1px rgba(0, 0, 0, 0.15);\n",
              "      filter: drop-shadow(0px 1px 2px rgba(0, 0, 0, 0.3));\n",
              "      fill: #FFFFFF;\n",
              "    }\n",
              "  </style>\n",
              "\n",
              "      <script>\n",
              "        const buttonEl =\n",
              "          document.querySelector('#df-90ecbb0e-c446-4967-850e-6b391d652909 button.colab-df-convert');\n",
              "        buttonEl.style.display =\n",
              "          google.colab.kernel.accessAllowed ? 'block' : 'none';\n",
              "\n",
              "        async function convertToInteractive(key) {\n",
              "          const element = document.querySelector('#df-90ecbb0e-c446-4967-850e-6b391d652909');\n",
              "          const dataTable =\n",
              "            await google.colab.kernel.invokeFunction('convertToInteractive',\n",
              "                                                     [key], {});\n",
              "          if (!dataTable) return;\n",
              "\n",
              "          const docLinkHtml = 'Like what you see? Visit the ' +\n",
              "            '<a target=\"_blank\" href=https://colab.research.google.com/notebooks/data_table.ipynb>data table notebook</a>'\n",
              "            + ' to learn more about interactive tables.';\n",
              "          element.innerHTML = '';\n",
              "          dataTable['output_type'] = 'display_data';\n",
              "          await google.colab.output.renderOutput(dataTable, element);\n",
              "          const docLink = document.createElement('div');\n",
              "          docLink.innerHTML = docLinkHtml;\n",
              "          element.appendChild(docLink);\n",
              "        }\n",
              "      </script>\n",
              "    </div>\n",
              "  </div>\n",
              "  "
            ]
          },
          "metadata": {},
          "execution_count": 5
        }
      ],
      "source": [
        "BankChurners.tail()"
      ]
    },
    {
      "cell_type": "markdown",
      "id": "14b311fb",
      "metadata": {
        "id": "14b311fb"
      },
      "source": [
        "The dataset on “Bank Churners” to perform the “Exploratory data analysis” process has been collected from “Kaggle”. This dataset has been selected because it contains different types of variables related to the bank and its customers (Ponsam et al. 2021). The details of the customers and several data and information related to the banking facilities are also in this dataset. As a result, this dataset will help to analyze the “EDA” in a more developed way."
      ]
    },
    {
      "cell_type": "code",
      "execution_count": null,
      "id": "06fdeda6",
      "metadata": {
        "colab": {
          "base_uri": "https://localhost:8080/"
        },
        "id": "06fdeda6",
        "outputId": "998049eb-c414-48e7-cb3b-5d5e9955e1c6"
      },
      "outputs": [
        {
          "output_type": "execute_result",
          "data": {
            "text/plain": [
              "CLIENTNUM                                                                                                                             0\n",
              "Attrition_Flag                                                                                                                        0\n",
              "Customer_Age                                                                                                                          0\n",
              "Gender                                                                                                                                0\n",
              "Dependent_count                                                                                                                       0\n",
              "Education_Level                                                                                                                       0\n",
              "Marital_Status                                                                                                                        0\n",
              "Income_Category                                                                                                                       0\n",
              "Card_Category                                                                                                                         0\n",
              "Months_on_book                                                                                                                        0\n",
              "Total_Relationship_Count                                                                                                              0\n",
              "Months_Inactive_12_mon                                                                                                                0\n",
              "Contacts_Count_12_mon                                                                                                                 0\n",
              "Credit_Limit                                                                                                                          0\n",
              "Total_Revolving_Bal                                                                                                                   0\n",
              "Avg_Open_To_Buy                                                                                                                       0\n",
              "Total_Amt_Chng_Q4_Q1                                                                                                                  0\n",
              "Total_Trans_Amt                                                                                                                       0\n",
              "Total_Trans_Ct                                                                                                                        0\n",
              "Total_Ct_Chng_Q4_Q1                                                                                                                   0\n",
              "Avg_Utilization_Ratio                                                                                                                 0\n",
              "Naive_Bayes_Classifier_Attrition_Flag_Card_Category_Contacts_Count_12_mon_Dependent_count_Education_Level_Months_Inactive_12_mon_1    0\n",
              "Naive_Bayes_Classifier_Attrition_Flag_Card_Category_Contacts_Count_12_mon_Dependent_count_Education_Level_Months_Inactive_12_mon_2    0\n",
              "dtype: int64"
            ]
          },
          "metadata": {},
          "execution_count": 6
        }
      ],
      "source": [
        "BankChurners.isnull().sum()"
      ]
    },
    {
      "cell_type": "markdown",
      "id": "5d179ddf",
      "metadata": {
        "id": "5d179ddf"
      },
      "source": [
        "The next initial step is to manage the null values of the dataset. There are different methods to manage the null values within the dataset such as removing the null values or making initial substitutions for the null values (Pathak et al. 2021). Removing the null values is one of the most essential steps for performing the “EDA” of a dataset. The null values interrupt the performance and the accuracy of the “machine learning” algorithm of the dataset. "
      ]
    },
    {
      "cell_type": "code",
      "execution_count": null,
      "id": "6b6f20fb",
      "metadata": {
        "colab": {
          "base_uri": "https://localhost:8080/"
        },
        "id": "6b6f20fb",
        "outputId": "08f5f803-d21a-431f-c534-1f5e15f3abb9"
      },
      "outputs": [
        {
          "output_type": "execute_result",
          "data": {
            "text/plain": [
              "(10127, 23)"
            ]
          },
          "metadata": {},
          "execution_count": 7
        }
      ],
      "source": [
        "BankChurners.shape"
      ]
    },
    {
      "cell_type": "code",
      "execution_count": null,
      "id": "90940bac",
      "metadata": {
        "colab": {
          "base_uri": "https://localhost:8080/",
          "height": 365
        },
        "id": "90940bac",
        "outputId": "6ec14f5d-c0b4-41b1-daa8-3bec315fcb38"
      },
      "outputs": [
        {
          "output_type": "execute_result",
          "data": {
            "text/plain": [
              "          CLIENTNUM  Customer_Age  Dependent_count  Months_on_book  \\\n",
              "count  1.012700e+04  10127.000000     10127.000000    10127.000000   \n",
              "mean   7.391776e+08     46.325960         2.346203       35.928409   \n",
              "std    3.690378e+07      8.016814         1.298908        7.986416   \n",
              "min    7.080821e+08     26.000000         0.000000       13.000000   \n",
              "25%    7.130368e+08     41.000000         1.000000       31.000000   \n",
              "50%    7.179264e+08     46.000000         2.000000       36.000000   \n",
              "75%    7.731435e+08     52.000000         3.000000       40.000000   \n",
              "max    8.283431e+08     73.000000         5.000000       56.000000   \n",
              "\n",
              "       Total_Relationship_Count  Months_Inactive_12_mon  \\\n",
              "count              10127.000000            10127.000000   \n",
              "mean                   3.812580                2.341167   \n",
              "std                    1.554408                1.010622   \n",
              "min                    1.000000                0.000000   \n",
              "25%                    3.000000                2.000000   \n",
              "50%                    4.000000                2.000000   \n",
              "75%                    5.000000                3.000000   \n",
              "max                    6.000000                6.000000   \n",
              "\n",
              "       Contacts_Count_12_mon  Credit_Limit  Total_Revolving_Bal  \\\n",
              "count           10127.000000  10127.000000         10127.000000   \n",
              "mean                2.455317   8631.953698          1162.814061   \n",
              "std                 1.106225   9088.776650           814.987335   \n",
              "min                 0.000000   1438.300000             0.000000   \n",
              "25%                 2.000000   2555.000000           359.000000   \n",
              "50%                 2.000000   4549.000000          1276.000000   \n",
              "75%                 3.000000  11067.500000          1784.000000   \n",
              "max                 6.000000  34516.000000          2517.000000   \n",
              "\n",
              "       Avg_Open_To_Buy  Total_Amt_Chng_Q4_Q1  Total_Trans_Amt  Total_Trans_Ct  \\\n",
              "count     10127.000000          10127.000000     10127.000000    10127.000000   \n",
              "mean       7469.139637              0.759941      4404.086304       64.858695   \n",
              "std        9090.685324              0.219207      3397.129254       23.472570   \n",
              "min           3.000000              0.000000       510.000000       10.000000   \n",
              "25%        1324.500000              0.631000      2155.500000       45.000000   \n",
              "50%        3474.000000              0.736000      3899.000000       67.000000   \n",
              "75%        9859.000000              0.859000      4741.000000       81.000000   \n",
              "max       34516.000000              3.397000     18484.000000      139.000000   \n",
              "\n",
              "       Total_Ct_Chng_Q4_Q1  Avg_Utilization_Ratio  \\\n",
              "count         10127.000000           10127.000000   \n",
              "mean              0.712222               0.274894   \n",
              "std               0.238086               0.275691   \n",
              "min               0.000000               0.000000   \n",
              "25%               0.582000               0.023000   \n",
              "50%               0.702000               0.176000   \n",
              "75%               0.818000               0.503000   \n",
              "max               3.714000               0.999000   \n",
              "\n",
              "       Naive_Bayes_Classifier_Attrition_Flag_Card_Category_Contacts_Count_12_mon_Dependent_count_Education_Level_Months_Inactive_12_mon_1  \\\n",
              "count                                       10127.000000                                                                                    \n",
              "mean                                            0.159997                                                                                    \n",
              "std                                             0.365301                                                                                    \n",
              "min                                             0.000008                                                                                    \n",
              "25%                                             0.000099                                                                                    \n",
              "50%                                             0.000181                                                                                    \n",
              "75%                                             0.000337                                                                                    \n",
              "max                                             0.999580                                                                                    \n",
              "\n",
              "       Naive_Bayes_Classifier_Attrition_Flag_Card_Category_Contacts_Count_12_mon_Dependent_count_Education_Level_Months_Inactive_12_mon_2  \n",
              "count                                       10127.000000                                                                                   \n",
              "mean                                            0.840003                                                                                   \n",
              "std                                             0.365301                                                                                   \n",
              "min                                             0.000420                                                                                   \n",
              "25%                                             0.999660                                                                                   \n",
              "50%                                             0.999820                                                                                   \n",
              "75%                                             0.999900                                                                                   \n",
              "max                                             0.999990                                                                                   "
            ],
            "text/html": [
              "\n",
              "  <div id=\"df-912b4391-1478-4f50-95f5-5e231db530bb\">\n",
              "    <div class=\"colab-df-container\">\n",
              "      <div>\n",
              "<style scoped>\n",
              "    .dataframe tbody tr th:only-of-type {\n",
              "        vertical-align: middle;\n",
              "    }\n",
              "\n",
              "    .dataframe tbody tr th {\n",
              "        vertical-align: top;\n",
              "    }\n",
              "\n",
              "    .dataframe thead th {\n",
              "        text-align: right;\n",
              "    }\n",
              "</style>\n",
              "<table border=\"1\" class=\"dataframe\">\n",
              "  <thead>\n",
              "    <tr style=\"text-align: right;\">\n",
              "      <th></th>\n",
              "      <th>CLIENTNUM</th>\n",
              "      <th>Customer_Age</th>\n",
              "      <th>Dependent_count</th>\n",
              "      <th>Months_on_book</th>\n",
              "      <th>Total_Relationship_Count</th>\n",
              "      <th>Months_Inactive_12_mon</th>\n",
              "      <th>Contacts_Count_12_mon</th>\n",
              "      <th>Credit_Limit</th>\n",
              "      <th>Total_Revolving_Bal</th>\n",
              "      <th>Avg_Open_To_Buy</th>\n",
              "      <th>Total_Amt_Chng_Q4_Q1</th>\n",
              "      <th>Total_Trans_Amt</th>\n",
              "      <th>Total_Trans_Ct</th>\n",
              "      <th>Total_Ct_Chng_Q4_Q1</th>\n",
              "      <th>Avg_Utilization_Ratio</th>\n",
              "      <th>Naive_Bayes_Classifier_Attrition_Flag_Card_Category_Contacts_Count_12_mon_Dependent_count_Education_Level_Months_Inactive_12_mon_1</th>\n",
              "      <th>Naive_Bayes_Classifier_Attrition_Flag_Card_Category_Contacts_Count_12_mon_Dependent_count_Education_Level_Months_Inactive_12_mon_2</th>\n",
              "    </tr>\n",
              "  </thead>\n",
              "  <tbody>\n",
              "    <tr>\n",
              "      <th>count</th>\n",
              "      <td>1.012700e+04</td>\n",
              "      <td>10127.000000</td>\n",
              "      <td>10127.000000</td>\n",
              "      <td>10127.000000</td>\n",
              "      <td>10127.000000</td>\n",
              "      <td>10127.000000</td>\n",
              "      <td>10127.000000</td>\n",
              "      <td>10127.000000</td>\n",
              "      <td>10127.000000</td>\n",
              "      <td>10127.000000</td>\n",
              "      <td>10127.000000</td>\n",
              "      <td>10127.000000</td>\n",
              "      <td>10127.000000</td>\n",
              "      <td>10127.000000</td>\n",
              "      <td>10127.000000</td>\n",
              "      <td>10127.000000</td>\n",
              "      <td>10127.000000</td>\n",
              "    </tr>\n",
              "    <tr>\n",
              "      <th>mean</th>\n",
              "      <td>7.391776e+08</td>\n",
              "      <td>46.325960</td>\n",
              "      <td>2.346203</td>\n",
              "      <td>35.928409</td>\n",
              "      <td>3.812580</td>\n",
              "      <td>2.341167</td>\n",
              "      <td>2.455317</td>\n",
              "      <td>8631.953698</td>\n",
              "      <td>1162.814061</td>\n",
              "      <td>7469.139637</td>\n",
              "      <td>0.759941</td>\n",
              "      <td>4404.086304</td>\n",
              "      <td>64.858695</td>\n",
              "      <td>0.712222</td>\n",
              "      <td>0.274894</td>\n",
              "      <td>0.159997</td>\n",
              "      <td>0.840003</td>\n",
              "    </tr>\n",
              "    <tr>\n",
              "      <th>std</th>\n",
              "      <td>3.690378e+07</td>\n",
              "      <td>8.016814</td>\n",
              "      <td>1.298908</td>\n",
              "      <td>7.986416</td>\n",
              "      <td>1.554408</td>\n",
              "      <td>1.010622</td>\n",
              "      <td>1.106225</td>\n",
              "      <td>9088.776650</td>\n",
              "      <td>814.987335</td>\n",
              "      <td>9090.685324</td>\n",
              "      <td>0.219207</td>\n",
              "      <td>3397.129254</td>\n",
              "      <td>23.472570</td>\n",
              "      <td>0.238086</td>\n",
              "      <td>0.275691</td>\n",
              "      <td>0.365301</td>\n",
              "      <td>0.365301</td>\n",
              "    </tr>\n",
              "    <tr>\n",
              "      <th>min</th>\n",
              "      <td>7.080821e+08</td>\n",
              "      <td>26.000000</td>\n",
              "      <td>0.000000</td>\n",
              "      <td>13.000000</td>\n",
              "      <td>1.000000</td>\n",
              "      <td>0.000000</td>\n",
              "      <td>0.000000</td>\n",
              "      <td>1438.300000</td>\n",
              "      <td>0.000000</td>\n",
              "      <td>3.000000</td>\n",
              "      <td>0.000000</td>\n",
              "      <td>510.000000</td>\n",
              "      <td>10.000000</td>\n",
              "      <td>0.000000</td>\n",
              "      <td>0.000000</td>\n",
              "      <td>0.000008</td>\n",
              "      <td>0.000420</td>\n",
              "    </tr>\n",
              "    <tr>\n",
              "      <th>25%</th>\n",
              "      <td>7.130368e+08</td>\n",
              "      <td>41.000000</td>\n",
              "      <td>1.000000</td>\n",
              "      <td>31.000000</td>\n",
              "      <td>3.000000</td>\n",
              "      <td>2.000000</td>\n",
              "      <td>2.000000</td>\n",
              "      <td>2555.000000</td>\n",
              "      <td>359.000000</td>\n",
              "      <td>1324.500000</td>\n",
              "      <td>0.631000</td>\n",
              "      <td>2155.500000</td>\n",
              "      <td>45.000000</td>\n",
              "      <td>0.582000</td>\n",
              "      <td>0.023000</td>\n",
              "      <td>0.000099</td>\n",
              "      <td>0.999660</td>\n",
              "    </tr>\n",
              "    <tr>\n",
              "      <th>50%</th>\n",
              "      <td>7.179264e+08</td>\n",
              "      <td>46.000000</td>\n",
              "      <td>2.000000</td>\n",
              "      <td>36.000000</td>\n",
              "      <td>4.000000</td>\n",
              "      <td>2.000000</td>\n",
              "      <td>2.000000</td>\n",
              "      <td>4549.000000</td>\n",
              "      <td>1276.000000</td>\n",
              "      <td>3474.000000</td>\n",
              "      <td>0.736000</td>\n",
              "      <td>3899.000000</td>\n",
              "      <td>67.000000</td>\n",
              "      <td>0.702000</td>\n",
              "      <td>0.176000</td>\n",
              "      <td>0.000181</td>\n",
              "      <td>0.999820</td>\n",
              "    </tr>\n",
              "    <tr>\n",
              "      <th>75%</th>\n",
              "      <td>7.731435e+08</td>\n",
              "      <td>52.000000</td>\n",
              "      <td>3.000000</td>\n",
              "      <td>40.000000</td>\n",
              "      <td>5.000000</td>\n",
              "      <td>3.000000</td>\n",
              "      <td>3.000000</td>\n",
              "      <td>11067.500000</td>\n",
              "      <td>1784.000000</td>\n",
              "      <td>9859.000000</td>\n",
              "      <td>0.859000</td>\n",
              "      <td>4741.000000</td>\n",
              "      <td>81.000000</td>\n",
              "      <td>0.818000</td>\n",
              "      <td>0.503000</td>\n",
              "      <td>0.000337</td>\n",
              "      <td>0.999900</td>\n",
              "    </tr>\n",
              "    <tr>\n",
              "      <th>max</th>\n",
              "      <td>8.283431e+08</td>\n",
              "      <td>73.000000</td>\n",
              "      <td>5.000000</td>\n",
              "      <td>56.000000</td>\n",
              "      <td>6.000000</td>\n",
              "      <td>6.000000</td>\n",
              "      <td>6.000000</td>\n",
              "      <td>34516.000000</td>\n",
              "      <td>2517.000000</td>\n",
              "      <td>34516.000000</td>\n",
              "      <td>3.397000</td>\n",
              "      <td>18484.000000</td>\n",
              "      <td>139.000000</td>\n",
              "      <td>3.714000</td>\n",
              "      <td>0.999000</td>\n",
              "      <td>0.999580</td>\n",
              "      <td>0.999990</td>\n",
              "    </tr>\n",
              "  </tbody>\n",
              "</table>\n",
              "</div>\n",
              "      <button class=\"colab-df-convert\" onclick=\"convertToInteractive('df-912b4391-1478-4f50-95f5-5e231db530bb')\"\n",
              "              title=\"Convert this dataframe to an interactive table.\"\n",
              "              style=\"display:none;\">\n",
              "        \n",
              "  <svg xmlns=\"http://www.w3.org/2000/svg\" height=\"24px\"viewBox=\"0 0 24 24\"\n",
              "       width=\"24px\">\n",
              "    <path d=\"M0 0h24v24H0V0z\" fill=\"none\"/>\n",
              "    <path d=\"M18.56 5.44l.94 2.06.94-2.06 2.06-.94-2.06-.94-.94-2.06-.94 2.06-2.06.94zm-11 1L8.5 8.5l.94-2.06 2.06-.94-2.06-.94L8.5 2.5l-.94 2.06-2.06.94zm10 10l.94 2.06.94-2.06 2.06-.94-2.06-.94-.94-2.06-.94 2.06-2.06.94z\"/><path d=\"M17.41 7.96l-1.37-1.37c-.4-.4-.92-.59-1.43-.59-.52 0-1.04.2-1.43.59L10.3 9.45l-7.72 7.72c-.78.78-.78 2.05 0 2.83L4 21.41c.39.39.9.59 1.41.59.51 0 1.02-.2 1.41-.59l7.78-7.78 2.81-2.81c.8-.78.8-2.07 0-2.86zM5.41 20L4 18.59l7.72-7.72 1.47 1.35L5.41 20z\"/>\n",
              "  </svg>\n",
              "      </button>\n",
              "      \n",
              "  <style>\n",
              "    .colab-df-container {\n",
              "      display:flex;\n",
              "      flex-wrap:wrap;\n",
              "      gap: 12px;\n",
              "    }\n",
              "\n",
              "    .colab-df-convert {\n",
              "      background-color: #E8F0FE;\n",
              "      border: none;\n",
              "      border-radius: 50%;\n",
              "      cursor: pointer;\n",
              "      display: none;\n",
              "      fill: #1967D2;\n",
              "      height: 32px;\n",
              "      padding: 0 0 0 0;\n",
              "      width: 32px;\n",
              "    }\n",
              "\n",
              "    .colab-df-convert:hover {\n",
              "      background-color: #E2EBFA;\n",
              "      box-shadow: 0px 1px 2px rgba(60, 64, 67, 0.3), 0px 1px 3px 1px rgba(60, 64, 67, 0.15);\n",
              "      fill: #174EA6;\n",
              "    }\n",
              "\n",
              "    [theme=dark] .colab-df-convert {\n",
              "      background-color: #3B4455;\n",
              "      fill: #D2E3FC;\n",
              "    }\n",
              "\n",
              "    [theme=dark] .colab-df-convert:hover {\n",
              "      background-color: #434B5C;\n",
              "      box-shadow: 0px 1px 3px 1px rgba(0, 0, 0, 0.15);\n",
              "      filter: drop-shadow(0px 1px 2px rgba(0, 0, 0, 0.3));\n",
              "      fill: #FFFFFF;\n",
              "    }\n",
              "  </style>\n",
              "\n",
              "      <script>\n",
              "        const buttonEl =\n",
              "          document.querySelector('#df-912b4391-1478-4f50-95f5-5e231db530bb button.colab-df-convert');\n",
              "        buttonEl.style.display =\n",
              "          google.colab.kernel.accessAllowed ? 'block' : 'none';\n",
              "\n",
              "        async function convertToInteractive(key) {\n",
              "          const element = document.querySelector('#df-912b4391-1478-4f50-95f5-5e231db530bb');\n",
              "          const dataTable =\n",
              "            await google.colab.kernel.invokeFunction('convertToInteractive',\n",
              "                                                     [key], {});\n",
              "          if (!dataTable) return;\n",
              "\n",
              "          const docLinkHtml = 'Like what you see? Visit the ' +\n",
              "            '<a target=\"_blank\" href=https://colab.research.google.com/notebooks/data_table.ipynb>data table notebook</a>'\n",
              "            + ' to learn more about interactive tables.';\n",
              "          element.innerHTML = '';\n",
              "          dataTable['output_type'] = 'display_data';\n",
              "          await google.colab.output.renderOutput(dataTable, element);\n",
              "          const docLink = document.createElement('div');\n",
              "          docLink.innerHTML = docLinkHtml;\n",
              "          element.appendChild(docLink);\n",
              "        }\n",
              "      </script>\n",
              "    </div>\n",
              "  </div>\n",
              "  "
            ]
          },
          "metadata": {},
          "execution_count": 8
        }
      ],
      "source": [
        "BankChurners.describe()"
      ]
    },
    {
      "cell_type": "code",
      "execution_count": null,
      "id": "7621fd1c",
      "metadata": {
        "colab": {
          "base_uri": "https://localhost:8080/",
          "height": 623
        },
        "id": "7621fd1c",
        "outputId": "e9e9c221-a35b-4440-aba2-b69935689a28"
      },
      "outputs": [
        {
          "output_type": "execute_result",
          "data": {
            "text/plain": [
              "<matplotlib.axes._subplots.AxesSubplot at 0x7f48802ed040>"
            ]
          },
          "metadata": {},
          "execution_count": 9
        },
        {
          "output_type": "display_data",
          "data": {
            "text/plain": [
              "<Figure size 1440x720 with 1 Axes>"
            ],
            "image/png": "[encoded data removed]"
          },
          "metadata": {
            "needs_background": "light"
          }
        }
      ],
      "source": [
        "plt.figure(figsize=(20,10))\n",
        "sns.countplot(BankChurners['Total_Trans_Amt'])"
      ]
    },
    {
      "cell_type": "code",
      "execution_count": null,
      "id": "664dee71",
      "metadata": {
        "colab": {
          "base_uri": "https://localhost:8080/"
        },
        "id": "664dee71",
        "outputId": "eb5c71be-5150-4be3-d99a-c8e9e95e5e75"
      },
      "outputs": [
        {
          "output_type": "stream",
          "name": "stdout",
          "text": [
            "<class 'pandas.core.frame.DataFrame'>\n",
            "RangeIndex: 10127 entries, 0 to 10126\n",
            "Data columns (total 23 columns):\n",
            " #   Column                                                                                                                              Non-Null Count  Dtype  \n",
            "---  ------                                                                                                                              --------------  -----  \n",
            " 0   CLIENTNUM                                                                                                                           10127 non-null  int64  \n",
            " 1   Attrition_Flag                                                                                                                      10127 non-null  object \n",
            " 2   Customer_Age                                                                                                                        10127 non-null  int64  \n",
            " 3   Gender                                                                                                                              10127 non-null  object \n",
            " 4   Dependent_count                                                                                                                     10127 non-null  int64  \n",
            " 5   Education_Level                                                                                                                     10127 non-null  object \n",
            " 6   Marital_Status                                                                                                                      10127 non-null  object \n",
            " 7   Income_Category                                                                                                                     10127 non-null  object \n",
            " 8   Card_Category                                                                                                                       10127 non-null  object \n",
            " 9   Months_on_book                                                                                                                      10127 non-null  int64  \n",
            " 10  Total_Relationship_Count                                                                                                            10127 non-null  int64  \n",
            " 11  Months_Inactive_12_mon                                                                                                              10127 non-null  int64  \n",
            " 12  Contacts_Count_12_mon                                                                                                               10127 non-null  int64  \n",
            " 13  Credit_Limit                                                                                                                        10127 non-null  float64\n",
            " 14  Total_Revolving_Bal                                                                                                                 10127 non-null  int64  \n",
            " 15  Avg_Open_To_Buy                                                                                                                     10127 non-null  float64\n",
            " 16  Total_Amt_Chng_Q4_Q1                                                                                                                10127 non-null  float64\n",
            " 17  Total_Trans_Amt                                                                                                                     10127 non-null  int64  \n",
            " 18  Total_Trans_Ct                                                                                                                      10127 non-null  int64  \n",
            " 19  Total_Ct_Chng_Q4_Q1                                                                                                                 10127 non-null  float64\n",
            " 20  Avg_Utilization_Ratio                                                                                                               10127 non-null  float64\n",
            " 21  Naive_Bayes_Classifier_Attrition_Flag_Card_Category_Contacts_Count_12_mon_Dependent_count_Education_Level_Months_Inactive_12_mon_1  10127 non-null  float64\n",
            " 22  Naive_Bayes_Classifier_Attrition_Flag_Card_Category_Contacts_Count_12_mon_Dependent_count_Education_Level_Months_Inactive_12_mon_2  10127 non-null  float64\n",
            "dtypes: float64(7), int64(10), object(6)\n",
            "memory usage: 1.8+ MB\n"
          ]
        }
      ],
      "source": [
        "BankChurners.info()"
      ]
    },
    {
      "cell_type": "markdown",
      "id": "0491b076",
      "metadata": {
        "id": "0491b076"
      },
      "source": [
        "Preprocessing the data that has been taken for tasks like analysis is considered to be one of the main steps before the stage of processing begins. Various steps and methods have been utilized for the EDA process. The aforementioned picture describes the phase and procedures that have been established in the data pre-processing phase (Schmidt et al. 2021). This process includes checking for missing values in the dataset and checking the type of information whether it is in object format or integer. The figure depicts that there are no variables found in the null form."
      ]
    },
    {
      "cell_type": "code",
      "execution_count": null,
      "id": "e9fa4fd0",
      "metadata": {
        "colab": {
          "base_uri": "https://localhost:8080/",
          "height": 192
        },
        "id": "e9fa4fd0",
        "outputId": "ba1aa178-9627-477d-a9d8-60ed96641c2d"
      },
      "outputs": [
        {
          "output_type": "execute_result",
          "data": {
            "text/plain": [
              "      CLIENTNUM     Attrition_Flag  Customer_Age Gender  Dependent_count  \\\n",
              "4195  713722608  Attrited Customer            48      F                2   \n",
              "\n",
              "     Education_Level Marital_Status Income_Category Card_Category  \\\n",
              "4195         Unknown       Divorced  Less than $40K          Blue   \n",
              "\n",
              "      Months_on_book  ...  Credit_Limit  Total_Revolving_Bal  Avg_Open_To_Buy  \\\n",
              "4195              35  ...        2806.0                 2514            292.0   \n",
              "\n",
              "      Total_Amt_Chng_Q4_Q1  Total_Trans_Amt  Total_Trans_Ct  \\\n",
              "4195                 0.341             1757              35   \n",
              "\n",
              "      Total_Ct_Chng_Q4_Q1  Avg_Utilization_Ratio  \\\n",
              "4195                  0.4                  0.896   \n",
              "\n",
              "      Naive_Bayes_Classifier_Attrition_Flag_Card_Category_Contacts_Count_12_mon_Dependent_count_Education_Level_Months_Inactive_12_mon_1  \\\n",
              "4195                                            0.99428                                                                                    \n",
              "\n",
              "      Naive_Bayes_Classifier_Attrition_Flag_Card_Category_Contacts_Count_12_mon_Dependent_count_Education_Level_Months_Inactive_12_mon_2  \n",
              "4195                                            0.00572                                                                                   \n",
              "\n",
              "[1 rows x 23 columns]"
            ],
            "text/html": [
              "\n",
              "  <div id=\"df-fe64bf13-e7d5-4d99-906f-d1cac5043ecc\">\n",
              "    <div class=\"colab-df-container\">\n",
              "      <div>\n",
              "<style scoped>\n",
              "    .dataframe tbody tr th:only-of-type {\n",
              "        vertical-align: middle;\n",
              "    }\n",
              "\n",
              "    .dataframe tbody tr th {\n",
              "        vertical-align: top;\n",
              "    }\n",
              "\n",
              "    .dataframe thead th {\n",
              "        text-align: right;\n",
              "    }\n",
              "</style>\n",
              "<table border=\"1\" class=\"dataframe\">\n",
              "  <thead>\n",
              "    <tr style=\"text-align: right;\">\n",
              "      <th></th>\n",
              "      <th>CLIENTNUM</th>\n",
              "      <th>Attrition_Flag</th>\n",
              "      <th>Customer_Age</th>\n",
              "      <th>Gender</th>\n",
              "      <th>Dependent_count</th>\n",
              "      <th>Education_Level</th>\n",
              "      <th>Marital_Status</th>\n",
              "      <th>Income_Category</th>\n",
              "      <th>Card_Category</th>\n",
              "      <th>Months_on_book</th>\n",
              "      <th>...</th>\n",
              "      <th>Credit_Limit</th>\n",
              "      <th>Total_Revolving_Bal</th>\n",
              "      <th>Avg_Open_To_Buy</th>\n",
              "      <th>Total_Amt_Chng_Q4_Q1</th>\n",
              "      <th>Total_Trans_Amt</th>\n",
              "      <th>Total_Trans_Ct</th>\n",
              "      <th>Total_Ct_Chng_Q4_Q1</th>\n",
              "      <th>Avg_Utilization_Ratio</th>\n",
              "      <th>Naive_Bayes_Classifier_Attrition_Flag_Card_Category_Contacts_Count_12_mon_Dependent_count_Education_Level_Months_Inactive_12_mon_1</th>\n",
              "      <th>Naive_Bayes_Classifier_Attrition_Flag_Card_Category_Contacts_Count_12_mon_Dependent_count_Education_Level_Months_Inactive_12_mon_2</th>\n",
              "    </tr>\n",
              "  </thead>\n",
              "  <tbody>\n",
              "    <tr>\n",
              "      <th>4195</th>\n",
              "      <td>713722608</td>\n",
              "      <td>Attrited Customer</td>\n",
              "      <td>48</td>\n",
              "      <td>F</td>\n",
              "      <td>2</td>\n",
              "      <td>Unknown</td>\n",
              "      <td>Divorced</td>\n",
              "      <td>Less than $40K</td>\n",
              "      <td>Blue</td>\n",
              "      <td>35</td>\n",
              "      <td>...</td>\n",
              "      <td>2806.0</td>\n",
              "      <td>2514</td>\n",
              "      <td>292.0</td>\n",
              "      <td>0.341</td>\n",
              "      <td>1757</td>\n",
              "      <td>35</td>\n",
              "      <td>0.4</td>\n",
              "      <td>0.896</td>\n",
              "      <td>0.99428</td>\n",
              "      <td>0.00572</td>\n",
              "    </tr>\n",
              "  </tbody>\n",
              "</table>\n",
              "<p>1 rows × 23 columns</p>\n",
              "</div>\n",
              "      <button class=\"colab-df-convert\" onclick=\"convertToInteractive('df-fe64bf13-e7d5-4d99-906f-d1cac5043ecc')\"\n",
              "              title=\"Convert this dataframe to an interactive table.\"\n",
              "              style=\"display:none;\">\n",
              "        \n",
              "  <svg xmlns=\"http://www.w3.org/2000/svg\" height=\"24px\"viewBox=\"0 0 24 24\"\n",
              "       width=\"24px\">\n",
              "    <path d=\"M0 0h24v24H0V0z\" fill=\"none\"/>\n",
              "    <path d=\"M18.56 5.44l.94 2.06.94-2.06 2.06-.94-2.06-.94-.94-2.06-.94 2.06-2.06.94zm-11 1L8.5 8.5l.94-2.06 2.06-.94-2.06-.94L8.5 2.5l-.94 2.06-2.06.94zm10 10l.94 2.06.94-2.06 2.06-.94-2.06-.94-.94-2.06-.94 2.06-2.06.94z\"/><path d=\"M17.41 7.96l-1.37-1.37c-.4-.4-.92-.59-1.43-.59-.52 0-1.04.2-1.43.59L10.3 9.45l-7.72 7.72c-.78.78-.78 2.05 0 2.83L4 21.41c.39.39.9.59 1.41.59.51 0 1.02-.2 1.41-.59l7.78-7.78 2.81-2.81c.8-.78.8-2.07 0-2.86zM5.41 20L4 18.59l7.72-7.72 1.47 1.35L5.41 20z\"/>\n",
              "  </svg>\n",
              "      </button>\n",
              "      \n",
              "  <style>\n",
              "    .colab-df-container {\n",
              "      display:flex;\n",
              "      flex-wrap:wrap;\n",
              "      gap: 12px;\n",
              "    }\n",
              "\n",
              "    .colab-df-convert {\n",
              "      background-color: #E8F0FE;\n",
              "      border: none;\n",
              "      border-radius: 50%;\n",
              "      cursor: pointer;\n",
              "      display: none;\n",
              "      fill: #1967D2;\n",
              "      height: 32px;\n",
              "      padding: 0 0 0 0;\n",
              "      width: 32px;\n",
              "    }\n",
              "\n",
              "    .colab-df-convert:hover {\n",
              "      background-color: #E2EBFA;\n",
              "      box-shadow: 0px 1px 2px rgba(60, 64, 67, 0.3), 0px 1px 3px 1px rgba(60, 64, 67, 0.15);\n",
              "      fill: #174EA6;\n",
              "    }\n",
              "\n",
              "    [theme=dark] .colab-df-convert {\n",
              "      background-color: #3B4455;\n",
              "      fill: #D2E3FC;\n",
              "    }\n",
              "\n",
              "    [theme=dark] .colab-df-convert:hover {\n",
              "      background-color: #434B5C;\n",
              "      box-shadow: 0px 1px 3px 1px rgba(0, 0, 0, 0.15);\n",
              "      filter: drop-shadow(0px 1px 2px rgba(0, 0, 0, 0.3));\n",
              "      fill: #FFFFFF;\n",
              "    }\n",
              "  </style>\n",
              "\n",
              "      <script>\n",
              "        const buttonEl =\n",
              "          document.querySelector('#df-fe64bf13-e7d5-4d99-906f-d1cac5043ecc button.colab-df-convert');\n",
              "        buttonEl.style.display =\n",
              "          google.colab.kernel.accessAllowed ? 'block' : 'none';\n",
              "\n",
              "        async function convertToInteractive(key) {\n",
              "          const element = document.querySelector('#df-fe64bf13-e7d5-4d99-906f-d1cac5043ecc');\n",
              "          const dataTable =\n",
              "            await google.colab.kernel.invokeFunction('convertToInteractive',\n",
              "                                                     [key], {});\n",
              "          if (!dataTable) return;\n",
              "\n",
              "          const docLinkHtml = 'Like what you see? Visit the ' +\n",
              "            '<a target=\"_blank\" href=https://colab.research.google.com/notebooks/data_table.ipynb>data table notebook</a>'\n",
              "            + ' to learn more about interactive tables.';\n",
              "          element.innerHTML = '';\n",
              "          dataTable['output_type'] = 'display_data';\n",
              "          await google.colab.output.renderOutput(dataTable, element);\n",
              "          const docLink = document.createElement('div');\n",
              "          docLink.innerHTML = docLinkHtml;\n",
              "          element.appendChild(docLink);\n",
              "        }\n",
              "      </script>\n",
              "    </div>\n",
              "  </div>\n",
              "  "
            ]
          },
          "metadata": {},
          "execution_count": 11
        }
      ],
      "source": [
        "BankChurners.sample()"
      ]
    },
    {
      "cell_type": "markdown",
      "id": "672e166a",
      "metadata": {
        "id": "672e166a"
      },
      "source": [
        "In the above figure, the data pre-processing assessment sample has been shown with all the necessary aspects that have been collected from the initial dataset of “Bank Churners”."
      ]
    },
    {
      "cell_type": "code",
      "execution_count": null,
      "id": "7f2052f0",
      "metadata": {
        "id": "7f2052f0"
      },
      "outputs": [],
      "source": [
        "ladder_score_dystopia = BankChurners['Total_Trans_Amt'][0]\n",
        "BankChurners_report = BankChurners.copy()\n",
        "BankChurners_report = BankChurners_report.loc[:,:'Dependent_count']\n",
        "BankChurners_report.drop(columns=['Dependent_count','Customer_Age','CLIENTNUM'],inplace=True)\n",
        "BankChurners_report.set_index('Attrition_Flag',inplace=True)\n",
        "rank = np.arange(1,len(BankChurners_report)+1)\n",
        "BankChurners_report.insert(0,'Rank',rank)"
      ]
    },
    {
      "cell_type": "code",
      "execution_count": null,
      "id": "f321d983",
      "metadata": {
        "colab": {
          "base_uri": "https://localhost:8080/",
          "height": 175
        },
        "id": "f321d983",
        "outputId": "2d4e8344-9511-49f0-b663-83b4d78d6bfe"
      },
      "outputs": [
        {
          "output_type": "execute_result",
          "data": {
            "text/plain": [
              "                   Rank Gender\n",
              "Attrition_Flag                \n",
              "Existing Customer  8520      F\n",
              "Existing Customer  5349      F\n",
              "Existing Customer  6202      F"
            ],
            "text/html": [
              "\n",
              "  <div id=\"df-d0d86649-476e-4242-9592-fe50e42a2e6c\">\n",
              "    <div class=\"colab-df-container\">\n",
              "      <div>\n",
              "<style scoped>\n",
              "    .dataframe tbody tr th:only-of-type {\n",
              "        vertical-align: middle;\n",
              "    }\n",
              "\n",
              "    .dataframe tbody tr th {\n",
              "        vertical-align: top;\n",
              "    }\n",
              "\n",
              "    .dataframe thead th {\n",
              "        text-align: right;\n",
              "    }\n",
              "</style>\n",
              "<table border=\"1\" class=\"dataframe\">\n",
              "  <thead>\n",
              "    <tr style=\"text-align: right;\">\n",
              "      <th></th>\n",
              "      <th>Rank</th>\n",
              "      <th>Gender</th>\n",
              "    </tr>\n",
              "    <tr>\n",
              "      <th>Attrition_Flag</th>\n",
              "      <th></th>\n",
              "      <th></th>\n",
              "    </tr>\n",
              "  </thead>\n",
              "  <tbody>\n",
              "    <tr>\n",
              "      <th>Existing Customer</th>\n",
              "      <td>8520</td>\n",
              "      <td>F</td>\n",
              "    </tr>\n",
              "    <tr>\n",
              "      <th>Existing Customer</th>\n",
              "      <td>5349</td>\n",
              "      <td>F</td>\n",
              "    </tr>\n",
              "    <tr>\n",
              "      <th>Existing Customer</th>\n",
              "      <td>6202</td>\n",
              "      <td>F</td>\n",
              "    </tr>\n",
              "  </tbody>\n",
              "</table>\n",
              "</div>\n",
              "      <button class=\"colab-df-convert\" onclick=\"convertToInteractive('df-d0d86649-476e-4242-9592-fe50e42a2e6c')\"\n",
              "              title=\"Convert this dataframe to an interactive table.\"\n",
              "              style=\"display:none;\">\n",
              "        \n",
              "  <svg xmlns=\"http://www.w3.org/2000/svg\" height=\"24px\"viewBox=\"0 0 24 24\"\n",
              "       width=\"24px\">\n",
              "    <path d=\"M0 0h24v24H0V0z\" fill=\"none\"/>\n",
              "    <path d=\"M18.56 5.44l.94 2.06.94-2.06 2.06-.94-2.06-.94-.94-2.06-.94 2.06-2.06.94zm-11 1L8.5 8.5l.94-2.06 2.06-.94-2.06-.94L8.5 2.5l-.94 2.06-2.06.94zm10 10l.94 2.06.94-2.06 2.06-.94-2.06-.94-.94-2.06-.94 2.06-2.06.94z\"/><path d=\"M17.41 7.96l-1.37-1.37c-.4-.4-.92-.59-1.43-.59-.52 0-1.04.2-1.43.59L10.3 9.45l-7.72 7.72c-.78.78-.78 2.05 0 2.83L4 21.41c.39.39.9.59 1.41.59.51 0 1.02-.2 1.41-.59l7.78-7.78 2.81-2.81c.8-.78.8-2.07 0-2.86zM5.41 20L4 18.59l7.72-7.72 1.47 1.35L5.41 20z\"/>\n",
              "  </svg>\n",
              "      </button>\n",
              "      \n",
              "  <style>\n",
              "    .colab-df-container {\n",
              "      display:flex;\n",
              "      flex-wrap:wrap;\n",
              "      gap: 12px;\n",
              "    }\n",
              "\n",
              "    .colab-df-convert {\n",
              "      background-color: #E8F0FE;\n",
              "      border: none;\n",
              "      border-radius: 50%;\n",
              "      cursor: pointer;\n",
              "      display: none;\n",
              "      fill: #1967D2;\n",
              "      height: 32px;\n",
              "      padding: 0 0 0 0;\n",
              "      width: 32px;\n",
              "    }\n",
              "\n",
              "    .colab-df-convert:hover {\n",
              "      background-color: #E2EBFA;\n",
              "      box-shadow: 0px 1px 2px rgba(60, 64, 67, 0.3), 0px 1px 3px 1px rgba(60, 64, 67, 0.15);\n",
              "      fill: #174EA6;\n",
              "    }\n",
              "\n",
              "    [theme=dark] .colab-df-convert {\n",
              "      background-color: #3B4455;\n",
              "      fill: #D2E3FC;\n",
              "    }\n",
              "\n",
              "    [theme=dark] .colab-df-convert:hover {\n",
              "      background-color: #434B5C;\n",
              "      box-shadow: 0px 1px 3px 1px rgba(0, 0, 0, 0.15);\n",
              "      filter: drop-shadow(0px 1px 2px rgba(0, 0, 0, 0.3));\n",
              "      fill: #FFFFFF;\n",
              "    }\n",
              "  </style>\n",
              "\n",
              "      <script>\n",
              "        const buttonEl =\n",
              "          document.querySelector('#df-d0d86649-476e-4242-9592-fe50e42a2e6c button.colab-df-convert');\n",
              "        buttonEl.style.display =\n",
              "          google.colab.kernel.accessAllowed ? 'block' : 'none';\n",
              "\n",
              "        async function convertToInteractive(key) {\n",
              "          const element = document.querySelector('#df-d0d86649-476e-4242-9592-fe50e42a2e6c');\n",
              "          const dataTable =\n",
              "            await google.colab.kernel.invokeFunction('convertToInteractive',\n",
              "                                                     [key], {});\n",
              "          if (!dataTable) return;\n",
              "\n",
              "          const docLinkHtml = 'Like what you see? Visit the ' +\n",
              "            '<a target=\"_blank\" href=https://colab.research.google.com/notebooks/data_table.ipynb>data table notebook</a>'\n",
              "            + ' to learn more about interactive tables.';\n",
              "          element.innerHTML = '';\n",
              "          dataTable['output_type'] = 'display_data';\n",
              "          await google.colab.output.renderOutput(dataTable, element);\n",
              "          const docLink = document.createElement('div');\n",
              "          docLink.innerHTML = docLinkHtml;\n",
              "          element.appendChild(docLink);\n",
              "        }\n",
              "      </script>\n",
              "    </div>\n",
              "  </div>\n",
              "  "
            ]
          },
          "metadata": {},
          "execution_count": 13
        }
      ],
      "source": [
        "BankChurners_report.sample(3)"
      ]
    },
    {
      "cell_type": "code",
      "execution_count": null,
      "id": "f8a06aa1",
      "metadata": {
        "colab": {
          "base_uri": "https://localhost:8080/",
          "height": 301
        },
        "id": "f8a06aa1",
        "outputId": "f28704f6-aad0-4853-973c-49c9ffbba9be"
      },
      "outputs": [
        {
          "output_type": "execute_result",
          "data": {
            "text/plain": [
              "               Rank\n",
              "count  10127.000000\n",
              "mean    5064.000000\n",
              "std     2923.557422\n",
              "min        1.000000\n",
              "25%     2532.500000\n",
              "50%     5064.000000\n",
              "75%     7595.500000\n",
              "max    10127.000000"
            ],
            "text/html": [
              "\n",
              "  <div id=\"df-6361f5ce-6ebd-4b50-a761-0da873a41a29\">\n",
              "    <div class=\"colab-df-container\">\n",
              "      <div>\n",
              "<style scoped>\n",
              "    .dataframe tbody tr th:only-of-type {\n",
              "        vertical-align: middle;\n",
              "    }\n",
              "\n",
              "    .dataframe tbody tr th {\n",
              "        vertical-align: top;\n",
              "    }\n",
              "\n",
              "    .dataframe thead th {\n",
              "        text-align: right;\n",
              "    }\n",
              "</style>\n",
              "<table border=\"1\" class=\"dataframe\">\n",
              "  <thead>\n",
              "    <tr style=\"text-align: right;\">\n",
              "      <th></th>\n",
              "      <th>Rank</th>\n",
              "    </tr>\n",
              "  </thead>\n",
              "  <tbody>\n",
              "    <tr>\n",
              "      <th>count</th>\n",
              "      <td>10127.000000</td>\n",
              "    </tr>\n",
              "    <tr>\n",
              "      <th>mean</th>\n",
              "      <td>5064.000000</td>\n",
              "    </tr>\n",
              "    <tr>\n",
              "      <th>std</th>\n",
              "      <td>2923.557422</td>\n",
              "    </tr>\n",
              "    <tr>\n",
              "      <th>min</th>\n",
              "      <td>1.000000</td>\n",
              "    </tr>\n",
              "    <tr>\n",
              "      <th>25%</th>\n",
              "      <td>2532.500000</td>\n",
              "    </tr>\n",
              "    <tr>\n",
              "      <th>50%</th>\n",
              "      <td>5064.000000</td>\n",
              "    </tr>\n",
              "    <tr>\n",
              "      <th>75%</th>\n",
              "      <td>7595.500000</td>\n",
              "    </tr>\n",
              "    <tr>\n",
              "      <th>max</th>\n",
              "      <td>10127.000000</td>\n",
              "    </tr>\n",
              "  </tbody>\n",
              "</table>\n",
              "</div>\n",
              "      <button class=\"colab-df-convert\" onclick=\"convertToInteractive('df-6361f5ce-6ebd-4b50-a761-0da873a41a29')\"\n",
              "              title=\"Convert this dataframe to an interactive table.\"\n",
              "              style=\"display:none;\">\n",
              "        \n",
              "  <svg xmlns=\"http://www.w3.org/2000/svg\" height=\"24px\"viewBox=\"0 0 24 24\"\n",
              "       width=\"24px\">\n",
              "    <path d=\"M0 0h24v24H0V0z\" fill=\"none\"/>\n",
              "    <path d=\"M18.56 5.44l.94 2.06.94-2.06 2.06-.94-2.06-.94-.94-2.06-.94 2.06-2.06.94zm-11 1L8.5 8.5l.94-2.06 2.06-.94-2.06-.94L8.5 2.5l-.94 2.06-2.06.94zm10 10l.94 2.06.94-2.06 2.06-.94-2.06-.94-.94-2.06-.94 2.06-2.06.94z\"/><path d=\"M17.41 7.96l-1.37-1.37c-.4-.4-.92-.59-1.43-.59-.52 0-1.04.2-1.43.59L10.3 9.45l-7.72 7.72c-.78.78-.78 2.05 0 2.83L4 21.41c.39.39.9.59 1.41.59.51 0 1.02-.2 1.41-.59l7.78-7.78 2.81-2.81c.8-.78.8-2.07 0-2.86zM5.41 20L4 18.59l7.72-7.72 1.47 1.35L5.41 20z\"/>\n",
              "  </svg>\n",
              "      </button>\n",
              "      \n",
              "  <style>\n",
              "    .colab-df-container {\n",
              "      display:flex;\n",
              "      flex-wrap:wrap;\n",
              "      gap: 12px;\n",
              "    }\n",
              "\n",
              "    .colab-df-convert {\n",
              "      background-color: #E8F0FE;\n",
              "      border: none;\n",
              "      border-radius: 50%;\n",
              "      cursor: pointer;\n",
              "      display: none;\n",
              "      fill: #1967D2;\n",
              "      height: 32px;\n",
              "      padding: 0 0 0 0;\n",
              "      width: 32px;\n",
              "    }\n",
              "\n",
              "    .colab-df-convert:hover {\n",
              "      background-color: #E2EBFA;\n",
              "      box-shadow: 0px 1px 2px rgba(60, 64, 67, 0.3), 0px 1px 3px 1px rgba(60, 64, 67, 0.15);\n",
              "      fill: #174EA6;\n",
              "    }\n",
              "\n",
              "    [theme=dark] .colab-df-convert {\n",
              "      background-color: #3B4455;\n",
              "      fill: #D2E3FC;\n",
              "    }\n",
              "\n",
              "    [theme=dark] .colab-df-convert:hover {\n",
              "      background-color: #434B5C;\n",
              "      box-shadow: 0px 1px 3px 1px rgba(0, 0, 0, 0.15);\n",
              "      filter: drop-shadow(0px 1px 2px rgba(0, 0, 0, 0.3));\n",
              "      fill: #FFFFFF;\n",
              "    }\n",
              "  </style>\n",
              "\n",
              "      <script>\n",
              "        const buttonEl =\n",
              "          document.querySelector('#df-6361f5ce-6ebd-4b50-a761-0da873a41a29 button.colab-df-convert');\n",
              "        buttonEl.style.display =\n",
              "          google.colab.kernel.accessAllowed ? 'block' : 'none';\n",
              "\n",
              "        async function convertToInteractive(key) {\n",
              "          const element = document.querySelector('#df-6361f5ce-6ebd-4b50-a761-0da873a41a29');\n",
              "          const dataTable =\n",
              "            await google.colab.kernel.invokeFunction('convertToInteractive',\n",
              "                                                     [key], {});\n",
              "          if (!dataTable) return;\n",
              "\n",
              "          const docLinkHtml = 'Like what you see? Visit the ' +\n",
              "            '<a target=\"_blank\" href=https://colab.research.google.com/notebooks/data_table.ipynb>data table notebook</a>'\n",
              "            + ' to learn more about interactive tables.';\n",
              "          element.innerHTML = '';\n",
              "          dataTable['output_type'] = 'display_data';\n",
              "          await google.colab.output.renderOutput(dataTable, element);\n",
              "          const docLink = document.createElement('div');\n",
              "          docLink.innerHTML = docLinkHtml;\n",
              "          element.appendChild(docLink);\n",
              "        }\n",
              "      </script>\n",
              "    </div>\n",
              "  </div>\n",
              "  "
            ]
          },
          "metadata": {},
          "execution_count": 14
        }
      ],
      "source": [
        "BankChurners_report.describe()"
      ]
    },
    {
      "cell_type": "markdown",
      "id": "56ed74df",
      "metadata": {
        "id": "56ed74df"
      },
      "source": [
        "The different ranks for the different aspects of the dataset have been analyzed with the help of “Jupyter Notebook”. The maximum value and the minimum value have been ranked with the proper count of the whole dataset (Schmidt et al. 2021)."
      ]
    },
    {
      "cell_type": "markdown",
      "id": "e6b2737c",
      "metadata": {
        "id": "e6b2737c"
      },
      "source": [
        "# DATA ANALYSIS, VISUALIZATION"
      ]
    },
    {
      "cell_type": "code",
      "execution_count": null,
      "id": "bbb3458b",
      "metadata": {
        "colab": {
          "base_uri": "https://localhost:8080/",
          "height": 280
        },
        "id": "bbb3458b",
        "outputId": "f07c7bd8-231c-4c44-9ad8-c3eb29b83db2"
      },
      "outputs": [
        {
          "output_type": "display_data",
          "data": {
            "text/plain": [
              "<Figure size 576x288 with 1 Axes>"
            ],
            "image/png": "[encoded data removed]"
          },
          "metadata": {
            "needs_background": "light"
          }
        }
      ],
      "source": [
        "plt.figure(figsize=(8,4))\n",
        "plot=sns.countplot(x=BankChurners.Marital_Status,hue=BankChurners.Attrition_Flag)\n",
        "for p in plot.patches:\n",
        "    plot.annotate(p.get_height(),(p.get_x()+p.get_width()/3,p.get_height()+40))\n",
        "plt.show()"
      ]
    },
    {
      "cell_type": "markdown",
      "id": "e7e1fa02",
      "metadata": {
        "id": "e7e1fa02"
      },
      "source": [
        "The above figure shows the count plotting with the help of existing customers and the related attrited customers of the bank. This has been counted with the help of the details of the customer such as their marital status, age, and gender accordingly. "
      ]
    },
    {
      "cell_type": "code",
      "execution_count": null,
      "id": "3ddb66e9",
      "metadata": {
        "colab": {
          "base_uri": "https://localhost:8080/",
          "height": 295
        },
        "id": "3ddb66e9",
        "outputId": "37fcbf03-3d6e-4b44-8361-a9c2bef20471"
      },
      "outputs": [
        {
          "output_type": "display_data",
          "data": {
            "text/plain": [
              "<Figure size 432x288 with 1 Axes>"
            ],
            "image/png": "[encoded data removed]"
          },
          "metadata": {
            "needs_background": "light"
          }
        }
      ],
      "source": [
        "sns.barplot(x = 'Customer_Age',y = 'Total_Revolving_Bal',data = BankChurners,palette = \"Blues\")\n",
        "#Adding the aesthetics\n",
        "plt.title('Total Revolving balance of each Customer whose Age is as shown')\n",
        "plt.xlabel('Customer age sample')\n",
        "plt.ylabel('Total Revolving Bal') \n",
        "# Show the plot\n",
        "plt.show()"
      ]
    },
    {
      "cell_type": "markdown",
      "id": "503ccc25",
      "metadata": {
        "id": "503ccc25"
      },
      "source": [
        "In the above figure, the total revolving balance for each of the customers has been shown accordingly to the customer’s age. For this reason, customers' sample age has been detected to plot the actual bar chart of the total revolving balance. "
      ]
    },
    {
      "cell_type": "code",
      "execution_count": null,
      "id": "aaf7997f",
      "metadata": {
        "colab": {
          "base_uri": "https://localhost:8080/",
          "height": 295
        },
        "id": "aaf7997f",
        "outputId": "a8b3c40c-b21c-442f-e959-803822e2de2c"
      },
      "outputs": [
        {
          "output_type": "display_data",
          "data": {
            "text/plain": [
              "<Figure size 432x288 with 1 Axes>"
            ],
            "image/png": "[encoded data removed]"
          },
          "metadata": {
            "needs_background": "light"
          }
        }
      ],
      "source": [
        "sns.barplot(x = 'Months_on_book',y = 'Total_Revolving_Bal',data = BankChurners,palette = \"Blues\")\n",
        "#Adding the aesthetics\n",
        "plt.title('Total Revolving balance of Months on book')\n",
        "plt.xlabel('Months on book sample')\n",
        "plt.ylabel('Total Revolving Bal') \n",
        "# Show the plot\n",
        "plt.show()"
      ]
    },
    {
      "cell_type": "markdown",
      "id": "d3b7069f",
      "metadata": {
        "id": "d3b7069f"
      },
      "source": [
        "Furthermore, another revolving balance bar chart has been produced with all the selected months accordingly to the sample book of the bank. "
      ]
    },
    {
      "cell_type": "code",
      "execution_count": null,
      "id": "309e81a7",
      "metadata": {
        "colab": {
          "base_uri": "https://localhost:8080/",
          "height": 295
        },
        "id": "309e81a7",
        "outputId": "eba3cb4c-fcf9-4618-f3bc-07b83972f9c8"
      },
      "outputs": [
        {
          "output_type": "display_data",
          "data": {
            "text/plain": [
              "<Figure size 432x288 with 1 Axes>"
            ],
            "image/png": "[encoded data removed]"
          },
          "metadata": {
            "needs_background": "light"
          }
        }
      ],
      "source": [
        "#Creating the line chart\n",
        "plt.plot(BankChurners['Months_Inactive_12_mon'], BankChurners['Total_Amt_Chng_Q4_Q1']) \n",
        "#Adding the aesthetics\n",
        "plt.title('Chart title')\n",
        "plt.xlabel('X axis title')\n",
        "plt.ylabel('Y axis title') \n",
        "#Show the plot\n",
        "plt.show()"
      ]
    },
    {
      "cell_type": "markdown",
      "id": "a6058852",
      "metadata": {
        "id": "a6058852"
      },
      "source": [
        "In the above figure, the line chart of the dataset has been produced with the help of the “Jupyter Notebook” functions of the dataset report of Bank Churners."
      ]
    },
    {
      "cell_type": "code",
      "execution_count": null,
      "id": "cc40c510",
      "metadata": {
        "colab": {
          "base_uri": "https://localhost:8080/",
          "height": 352
        },
        "id": "cc40c510",
        "outputId": "ef51d382-aef7-4ff2-952a-57eb2c124ef6"
      },
      "outputs": [
        {
          "output_type": "execute_result",
          "data": {
            "text/plain": [
              "<matplotlib.axes._subplots.AxesSubplot at 0x7f487c49ffd0>"
            ]
          },
          "metadata": {},
          "execution_count": 19
        },
        {
          "output_type": "display_data",
          "data": {
            "text/plain": [
              "<Figure size 1080x360 with 1 Axes>"
            ],
            "image/png": "[encoded data removed]"
          },
          "metadata": {
            "needs_background": "light"
          }
        }
      ],
      "source": [
        "plt.figure(figsize=(15,5))\n",
        "sns.countplot(BankChurners['Customer_Age'])"
      ]
    },
    {
      "cell_type": "markdown",
      "id": "6c1fcd73",
      "metadata": {
        "id": "6c1fcd73"
      },
      "source": [
        "In the above figure, a count plot with customers of different ages has been shown. This visual diagram has been produced in “Jupyter Notebook”. "
      ]
    },
    {
      "cell_type": "code",
      "execution_count": null,
      "id": "c61cec98",
      "metadata": {
        "id": "c61cec98"
      },
      "outputs": [],
      "source": [
        "cat_col = [x for x in BankChurners.columns if BankChurners[x].dtype == 'O']\n",
        "num_col = [x for x in BankChurners.columns if x not in cat_col]"
      ]
    },
    {
      "cell_type": "code",
      "execution_count": null,
      "id": "6808390b",
      "metadata": {
        "colab": {
          "base_uri": "https://localhost:8080/",
          "height": 1000
        },
        "id": "6808390b",
        "outputId": "93fe78e2-1304-4a2b-f804-a699fea7bfd5"
      },
      "outputs": [
        {
          "output_type": "execute_result",
          "data": {
            "text/plain": [
              "<matplotlib.axes._subplots.AxesSubplot at 0x7f4879e628b0>"
            ]
          },
          "metadata": {},
          "execution_count": 21
        },
        {
          "output_type": "display_data",
          "data": {
            "text/plain": [
              "<Figure size 864x720 with 2 Axes>"
            ],
            "image/png": "[encoded data removed]"
          },
          "metadata": {
            "needs_background": "light"
          }
        }
      ],
      "source": [
        "plt.figure(figsize=(12,10))\n",
        "sns.heatmap(BankChurners[num_col].corr(), vmin=-1.0, vmax=1.0, linewidths=0.5, cmap='rocket', annot=True, fmt='.2f')"
      ]
    },
    {
      "cell_type": "markdown",
      "id": "1b587f7f",
      "metadata": {
        "id": "1b587f7f"
      },
      "source": [
        "In the above figure, a “heatmap” has been produced with the help of different variables that are provided in the “Bank Churners” dataset."
      ]
    },
    {
      "cell_type": "code",
      "execution_count": null,
      "id": "ebcb958d",
      "metadata": {
        "colab": {
          "base_uri": "https://localhost:8080/",
          "height": 248
        },
        "id": "ebcb958d",
        "outputId": "4f525f57-ae7b-44a0-ec93-2f4ac20d6cb6"
      },
      "outputs": [
        {
          "output_type": "display_data",
          "data": {
            "text/plain": [
              "<Figure size 432x288 with 1 Axes>"
            ],
            "image/png": "[encoded data removed]"
          },
          "metadata": {}
        }
      ],
      "source": [
        "Attrition_Flag = ['Existing Customer', 'Attrited Customer'] \n",
        "Months_on_book = [39, 44] \n",
        "plt.pie(Months_on_book, labels = Attrition_Flag,colors = ['#B0E0E6','#7B68EE','#483D8B'])\n",
        "plt.show()"
      ]
    },
    {
      "cell_type": "markdown",
      "id": "06460f97",
      "metadata": {
        "id": "06460f97"
      },
      "source": [
        "The above figure illustrates the attrition flag result of the existing customers of the bank. The resulting diagram has been acquired by plotting the “months on book” details that have been collected from the dataset."
      ]
    },
    {
      "cell_type": "code",
      "execution_count": null,
      "id": "5fd509ec",
      "metadata": {
        "colab": {
          "base_uri": "https://localhost:8080/",
          "height": 279
        },
        "id": "5fd509ec",
        "outputId": "da3ef2cf-e91d-4019-e5b5-bacb2be8650a"
      },
      "outputs": [
        {
          "output_type": "display_data",
          "data": {
            "text/plain": [
              "<Figure size 432x288 with 1 Axes>"
            ],
            "image/png": "[encoded data removed]"
          },
          "metadata": {
            "needs_background": "light"
          }
        }
      ],
      "source": [
        "ax = sns.boxplot(x=\"Customer_Age\", y=\"Marital_Status\", hue=\"Dependent_count\", data=BankChurners, palette=\"Set3\")\n",
        "\n",
        "plt.title('')\n",
        "plt.xlabel('Customer Age')\n",
        "plt.ylabel('Marital Status') \n",
        "# Show the plot\n",
        "plt.show()"
      ]
    },
    {
      "cell_type": "markdown",
      "id": "c5ccdc1f",
      "metadata": {
        "id": "c5ccdc1f"
      },
      "source": [
        "The box plot diagram shows a visualization of the marital status in relation to the customer's age (Peng et al. 2021. This diagram helps to understand the bank facility usability according to the different ages and marital statuses of the customers."
      ]
    },
    {
      "cell_type": "code",
      "execution_count": null,
      "id": "d4412bfd",
      "metadata": {
        "id": "d4412bfd"
      },
      "outputs": [],
      "source": [
        "BankChurners['Gender'] = BankChurners.Gender.astype('category').cat.codes"
      ]
    },
    {
      "cell_type": "code",
      "execution_count": null,
      "id": "aadd0fe2",
      "metadata": {
        "colab": {
          "base_uri": "https://localhost:8080/",
          "height": 387
        },
        "id": "aadd0fe2",
        "outputId": "0b7c9ab7-fdbd-430f-d64c-f6f3194ed037"
      },
      "outputs": [
        {
          "output_type": "execute_result",
          "data": {
            "text/plain": [
              "   CLIENTNUM     Attrition_Flag  Customer_Age  Gender  Dependent_count  \\\n",
              "0  768805383  Existing Customer            45       1                3   \n",
              "1  818770008  Existing Customer            49       0                5   \n",
              "2  713982108  Existing Customer            51       1                3   \n",
              "3  769911858  Existing Customer            40       0                4   \n",
              "4  709106358  Existing Customer            40       1                3   \n",
              "\n",
              "  Education_Level Marital_Status Income_Category Card_Category  \\\n",
              "0     High School        Married     $60K - $80K          Blue   \n",
              "1        Graduate         Single  Less than $40K          Blue   \n",
              "2        Graduate        Married    $80K - $120K          Blue   \n",
              "3     High School        Unknown  Less than $40K          Blue   \n",
              "4      Uneducated        Married     $60K - $80K          Blue   \n",
              "\n",
              "   Months_on_book  ...  Credit_Limit  Total_Revolving_Bal  Avg_Open_To_Buy  \\\n",
              "0              39  ...       12691.0                  777          11914.0   \n",
              "1              44  ...        8256.0                  864           7392.0   \n",
              "2              36  ...        3418.0                    0           3418.0   \n",
              "3              34  ...        3313.0                 2517            796.0   \n",
              "4              21  ...        4716.0                    0           4716.0   \n",
              "\n",
              "   Total_Amt_Chng_Q4_Q1  Total_Trans_Amt  Total_Trans_Ct  Total_Ct_Chng_Q4_Q1  \\\n",
              "0                 1.335             1144              42                1.625   \n",
              "1                 1.541             1291              33                3.714   \n",
              "2                 2.594             1887              20                2.333   \n",
              "3                 1.405             1171              20                2.333   \n",
              "4                 2.175              816              28                2.500   \n",
              "\n",
              "   Avg_Utilization_Ratio  \\\n",
              "0                  0.061   \n",
              "1                  0.105   \n",
              "2                  0.000   \n",
              "3                  0.760   \n",
              "4                  0.000   \n",
              "\n",
              "   Naive_Bayes_Classifier_Attrition_Flag_Card_Category_Contacts_Count_12_mon_Dependent_count_Education_Level_Months_Inactive_12_mon_1  \\\n",
              "0                                           0.000093                                                                                    \n",
              "1                                           0.000057                                                                                    \n",
              "2                                           0.000021                                                                                    \n",
              "3                                           0.000134                                                                                    \n",
              "4                                           0.000022                                                                                    \n",
              "\n",
              "   Naive_Bayes_Classifier_Attrition_Flag_Card_Category_Contacts_Count_12_mon_Dependent_count_Education_Level_Months_Inactive_12_mon_2  \n",
              "0                                            0.99991                                                                                   \n",
              "1                                            0.99994                                                                                   \n",
              "2                                            0.99998                                                                                   \n",
              "3                                            0.99987                                                                                   \n",
              "4                                            0.99998                                                                                   \n",
              "\n",
              "[5 rows x 23 columns]"
            ],
            "text/html": [
              "\n",
              "  <div id=\"df-77fcfaff-85ed-47d8-b81a-cd7b3c77c8c4\">\n",
              "    <div class=\"colab-df-container\">\n",
              "      <div>\n",
              "<style scoped>\n",
              "    .dataframe tbody tr th:only-of-type {\n",
              "        vertical-align: middle;\n",
              "    }\n",
              "\n",
              "    .dataframe tbody tr th {\n",
              "        vertical-align: top;\n",
              "    }\n",
              "\n",
              "    .dataframe thead th {\n",
              "        text-align: right;\n",
              "    }\n",
              "</style>\n",
              "<table border=\"1\" class=\"dataframe\">\n",
              "  <thead>\n",
              "    <tr style=\"text-align: right;\">\n",
              "      <th></th>\n",
              "      <th>CLIENTNUM</th>\n",
              "      <th>Attrition_Flag</th>\n",
              "      <th>Customer_Age</th>\n",
              "      <th>Gender</th>\n",
              "      <th>Dependent_count</th>\n",
              "      <th>Education_Level</th>\n",
              "      <th>Marital_Status</th>\n",
              "      <th>Income_Category</th>\n",
              "      <th>Card_Category</th>\n",
              "      <th>Months_on_book</th>\n",
              "      <th>...</th>\n",
              "      <th>Credit_Limit</th>\n",
              "      <th>Total_Revolving_Bal</th>\n",
              "      <th>Avg_Open_To_Buy</th>\n",
              "      <th>Total_Amt_Chng_Q4_Q1</th>\n",
              "      <th>Total_Trans_Amt</th>\n",
              "      <th>Total_Trans_Ct</th>\n",
              "      <th>Total_Ct_Chng_Q4_Q1</th>\n",
              "      <th>Avg_Utilization_Ratio</th>\n",
              "      <th>Naive_Bayes_Classifier_Attrition_Flag_Card_Category_Contacts_Count_12_mon_Dependent_count_Education_Level_Months_Inactive_12_mon_1</th>\n",
              "      <th>Naive_Bayes_Classifier_Attrition_Flag_Card_Category_Contacts_Count_12_mon_Dependent_count_Education_Level_Months_Inactive_12_mon_2</th>\n",
              "    </tr>\n",
              "  </thead>\n",
              "  <tbody>\n",
              "    <tr>\n",
              "      <th>0</th>\n",
              "      <td>768805383</td>\n",
              "      <td>Existing Customer</td>\n",
              "      <td>45</td>\n",
              "      <td>1</td>\n",
              "      <td>3</td>\n",
              "      <td>High School</td>\n",
              "      <td>Married</td>\n",
              "      <td>$60K - $80K</td>\n",
              "      <td>Blue</td>\n",
              "      <td>39</td>\n",
              "      <td>...</td>\n",
              "      <td>12691.0</td>\n",
              "      <td>777</td>\n",
              "      <td>11914.0</td>\n",
              "      <td>1.335</td>\n",
              "      <td>1144</td>\n",
              "      <td>42</td>\n",
              "      <td>1.625</td>\n",
              "      <td>0.061</td>\n",
              "      <td>0.000093</td>\n",
              "      <td>0.99991</td>\n",
              "    </tr>\n",
              "    <tr>\n",
              "      <th>1</th>\n",
              "      <td>818770008</td>\n",
              "      <td>Existing Customer</td>\n",
              "      <td>49</td>\n",
              "      <td>0</td>\n",
              "      <td>5</td>\n",
              "      <td>Graduate</td>\n",
              "      <td>Single</td>\n",
              "      <td>Less than $40K</td>\n",
              "      <td>Blue</td>\n",
              "      <td>44</td>\n",
              "      <td>...</td>\n",
              "      <td>8256.0</td>\n",
              "      <td>864</td>\n",
              "      <td>7392.0</td>\n",
              "      <td>1.541</td>\n",
              "      <td>1291</td>\n",
              "      <td>33</td>\n",
              "      <td>3.714</td>\n",
              "      <td>0.105</td>\n",
              "      <td>0.000057</td>\n",
              "      <td>0.99994</td>\n",
              "    </tr>\n",
              "    <tr>\n",
              "      <th>2</th>\n",
              "      <td>713982108</td>\n",
              "      <td>Existing Customer</td>\n",
              "      <td>51</td>\n",
              "      <td>1</td>\n",
              "      <td>3</td>\n",
              "      <td>Graduate</td>\n",
              "      <td>Married</td>\n",
              "      <td>$80K - $120K</td>\n",
              "      <td>Blue</td>\n",
              "      <td>36</td>\n",
              "      <td>...</td>\n",
              "      <td>3418.0</td>\n",
              "      <td>0</td>\n",
              "      <td>3418.0</td>\n",
              "      <td>2.594</td>\n",
              "      <td>1887</td>\n",
              "      <td>20</td>\n",
              "      <td>2.333</td>\n",
              "      <td>0.000</td>\n",
              "      <td>0.000021</td>\n",
              "      <td>0.99998</td>\n",
              "    </tr>\n",
              "    <tr>\n",
              "      <th>3</th>\n",
              "      <td>769911858</td>\n",
              "      <td>Existing Customer</td>\n",
              "      <td>40</td>\n",
              "      <td>0</td>\n",
              "      <td>4</td>\n",
              "      <td>High School</td>\n",
              "      <td>Unknown</td>\n",
              "      <td>Less than $40K</td>\n",
              "      <td>Blue</td>\n",
              "      <td>34</td>\n",
              "      <td>...</td>\n",
              "      <td>3313.0</td>\n",
              "      <td>2517</td>\n",
              "      <td>796.0</td>\n",
              "      <td>1.405</td>\n",
              "      <td>1171</td>\n",
              "      <td>20</td>\n",
              "      <td>2.333</td>\n",
              "      <td>0.760</td>\n",
              "      <td>0.000134</td>\n",
              "      <td>0.99987</td>\n",
              "    </tr>\n",
              "    <tr>\n",
              "      <th>4</th>\n",
              "      <td>709106358</td>\n",
              "      <td>Existing Customer</td>\n",
              "      <td>40</td>\n",
              "      <td>1</td>\n",
              "      <td>3</td>\n",
              "      <td>Uneducated</td>\n",
              "      <td>Married</td>\n",
              "      <td>$60K - $80K</td>\n",
              "      <td>Blue</td>\n",
              "      <td>21</td>\n",
              "      <td>...</td>\n",
              "      <td>4716.0</td>\n",
              "      <td>0</td>\n",
              "      <td>4716.0</td>\n",
              "      <td>2.175</td>\n",
              "      <td>816</td>\n",
              "      <td>28</td>\n",
              "      <td>2.500</td>\n",
              "      <td>0.000</td>\n",
              "      <td>0.000022</td>\n",
              "      <td>0.99998</td>\n",
              "    </tr>\n",
              "  </tbody>\n",
              "</table>\n",
              "<p>5 rows × 23 columns</p>\n",
              "</div>\n",
              "      <button class=\"colab-df-convert\" onclick=\"convertToInteractive('df-77fcfaff-85ed-47d8-b81a-cd7b3c77c8c4')\"\n",
              "              title=\"Convert this dataframe to an interactive table.\"\n",
              "              style=\"display:none;\">\n",
              "        \n",
              "  <svg xmlns=\"http://www.w3.org/2000/svg\" height=\"24px\"viewBox=\"0 0 24 24\"\n",
              "       width=\"24px\">\n",
              "    <path d=\"M0 0h24v24H0V0z\" fill=\"none\"/>\n",
              "    <path d=\"M18.56 5.44l.94 2.06.94-2.06 2.06-.94-2.06-.94-.94-2.06-.94 2.06-2.06.94zm-11 1L8.5 8.5l.94-2.06 2.06-.94-2.06-.94L8.5 2.5l-.94 2.06-2.06.94zm10 10l.94 2.06.94-2.06 2.06-.94-2.06-.94-.94-2.06-.94 2.06-2.06.94z\"/><path d=\"M17.41 7.96l-1.37-1.37c-.4-.4-.92-.59-1.43-.59-.52 0-1.04.2-1.43.59L10.3 9.45l-7.72 7.72c-.78.78-.78 2.05 0 2.83L4 21.41c.39.39.9.59 1.41.59.51 0 1.02-.2 1.41-.59l7.78-7.78 2.81-2.81c.8-.78.8-2.07 0-2.86zM5.41 20L4 18.59l7.72-7.72 1.47 1.35L5.41 20z\"/>\n",
              "  </svg>\n",
              "      </button>\n",
              "      \n",
              "  <style>\n",
              "    .colab-df-container {\n",
              "      display:flex;\n",
              "      flex-wrap:wrap;\n",
              "      gap: 12px;\n",
              "    }\n",
              "\n",
              "    .colab-df-convert {\n",
              "      background-color: #E8F0FE;\n",
              "      border: none;\n",
              "      border-radius: 50%;\n",
              "      cursor: pointer;\n",
              "      display: none;\n",
              "      fill: #1967D2;\n",
              "      height: 32px;\n",
              "      padding: 0 0 0 0;\n",
              "      width: 32px;\n",
              "    }\n",
              "\n",
              "    .colab-df-convert:hover {\n",
              "      background-color: #E2EBFA;\n",
              "      box-shadow: 0px 1px 2px rgba(60, 64, 67, 0.3), 0px 1px 3px 1px rgba(60, 64, 67, 0.15);\n",
              "      fill: #174EA6;\n",
              "    }\n",
              "\n",
              "    [theme=dark] .colab-df-convert {\n",
              "      background-color: #3B4455;\n",
              "      fill: #D2E3FC;\n",
              "    }\n",
              "\n",
              "    [theme=dark] .colab-df-convert:hover {\n",
              "      background-color: #434B5C;\n",
              "      box-shadow: 0px 1px 3px 1px rgba(0, 0, 0, 0.15);\n",
              "      filter: drop-shadow(0px 1px 2px rgba(0, 0, 0, 0.3));\n",
              "      fill: #FFFFFF;\n",
              "    }\n",
              "  </style>\n",
              "\n",
              "      <script>\n",
              "        const buttonEl =\n",
              "          document.querySelector('#df-77fcfaff-85ed-47d8-b81a-cd7b3c77c8c4 button.colab-df-convert');\n",
              "        buttonEl.style.display =\n",
              "          google.colab.kernel.accessAllowed ? 'block' : 'none';\n",
              "\n",
              "        async function convertToInteractive(key) {\n",
              "          const element = document.querySelector('#df-77fcfaff-85ed-47d8-b81a-cd7b3c77c8c4');\n",
              "          const dataTable =\n",
              "            await google.colab.kernel.invokeFunction('convertToInteractive',\n",
              "                                                     [key], {});\n",
              "          if (!dataTable) return;\n",
              "\n",
              "          const docLinkHtml = 'Like what you see? Visit the ' +\n",
              "            '<a target=\"_blank\" href=https://colab.research.google.com/notebooks/data_table.ipynb>data table notebook</a>'\n",
              "            + ' to learn more about interactive tables.';\n",
              "          element.innerHTML = '';\n",
              "          dataTable['output_type'] = 'display_data';\n",
              "          await google.colab.output.renderOutput(dataTable, element);\n",
              "          const docLink = document.createElement('div');\n",
              "          docLink.innerHTML = docLinkHtml;\n",
              "          element.appendChild(docLink);\n",
              "        }\n",
              "      </script>\n",
              "    </div>\n",
              "  </div>\n",
              "  "
            ]
          },
          "metadata": {},
          "execution_count": 25
        }
      ],
      "source": [
        "BankChurners.head()"
      ]
    },
    {
      "cell_type": "code",
      "execution_count": null,
      "id": "b09304fb",
      "metadata": {
        "colab": {
          "base_uri": "https://localhost:8080/",
          "height": 387
        },
        "id": "b09304fb",
        "outputId": "16441848-d1e9-4528-a1f9-5e2a01588ab5"
      },
      "outputs": [
        {
          "output_type": "execute_result",
          "data": {
            "text/plain": [
              "   CLIENTNUM     Attrition_Flag  Customer_Age  Gender  Dependent_count  \\\n",
              "0  768805383  Existing Customer            45       1                3   \n",
              "1  818770008  Existing Customer            49       0                5   \n",
              "2  713982108  Existing Customer            51       1                3   \n",
              "3  769911858  Existing Customer            40       0                4   \n",
              "4  709106358  Existing Customer            40       1                3   \n",
              "\n",
              "  Education_Level Marital_Status Income_Category Card_Category  \\\n",
              "0     High School        Married     $60K - $80K          Blue   \n",
              "1        Graduate         Single  Less than $40K          Blue   \n",
              "2        Graduate        Married    $80K - $120K          Blue   \n",
              "3     High School        Unknown  Less than $40K          Blue   \n",
              "4      Uneducated        Married     $60K - $80K          Blue   \n",
              "\n",
              "   Months_on_book  ...  Credit_Limit  Total_Revolving_Bal  Avg_Open_To_Buy  \\\n",
              "0              39  ...       12691.0                  777          11914.0   \n",
              "1              44  ...        8256.0                  864           7392.0   \n",
              "2              36  ...        3418.0                    0           3418.0   \n",
              "3              34  ...        3313.0                 2517            796.0   \n",
              "4              21  ...        4716.0                    0           4716.0   \n",
              "\n",
              "   Total_Amt_Chng_Q4_Q1  Total_Trans_Amt  Total_Trans_Ct  Total_Ct_Chng_Q4_Q1  \\\n",
              "0                 1.335             1144              42                1.625   \n",
              "1                 1.541             1291              33                3.714   \n",
              "2                 2.594             1887              20                2.333   \n",
              "3                 1.405             1171              20                2.333   \n",
              "4                 2.175              816              28                2.500   \n",
              "\n",
              "   Avg_Utilization_Ratio  \\\n",
              "0                  0.061   \n",
              "1                  0.105   \n",
              "2                  0.000   \n",
              "3                  0.760   \n",
              "4                  0.000   \n",
              "\n",
              "   Naive_Bayes_Classifier_Attrition_Flag_Card_Category_Contacts_Count_12_mon_Dependent_count_Education_Level_Months_Inactive_12_mon_1  \\\n",
              "0                                           0.000093                                                                                    \n",
              "1                                           0.000057                                                                                    \n",
              "2                                           0.000021                                                                                    \n",
              "3                                           0.000134                                                                                    \n",
              "4                                           0.000022                                                                                    \n",
              "\n",
              "   Naive_Bayes_Classifier_Attrition_Flag_Card_Category_Contacts_Count_12_mon_Dependent_count_Education_Level_Months_Inactive_12_mon_2  \n",
              "0                                            0.99991                                                                                   \n",
              "1                                            0.99994                                                                                   \n",
              "2                                            0.99998                                                                                   \n",
              "3                                            0.99987                                                                                   \n",
              "4                                            0.99998                                                                                   \n",
              "\n",
              "[5 rows x 23 columns]"
            ],
            "text/html": [
              "\n",
              "  <div id=\"df-17bd90e3-d05c-48ea-b288-ecc6c27ce0a8\">\n",
              "    <div class=\"colab-df-container\">\n",
              "      <div>\n",
              "<style scoped>\n",
              "    .dataframe tbody tr th:only-of-type {\n",
              "        vertical-align: middle;\n",
              "    }\n",
              "\n",
              "    .dataframe tbody tr th {\n",
              "        vertical-align: top;\n",
              "    }\n",
              "\n",
              "    .dataframe thead th {\n",
              "        text-align: right;\n",
              "    }\n",
              "</style>\n",
              "<table border=\"1\" class=\"dataframe\">\n",
              "  <thead>\n",
              "    <tr style=\"text-align: right;\">\n",
              "      <th></th>\n",
              "      <th>CLIENTNUM</th>\n",
              "      <th>Attrition_Flag</th>\n",
              "      <th>Customer_Age</th>\n",
              "      <th>Gender</th>\n",
              "      <th>Dependent_count</th>\n",
              "      <th>Education_Level</th>\n",
              "      <th>Marital_Status</th>\n",
              "      <th>Income_Category</th>\n",
              "      <th>Card_Category</th>\n",
              "      <th>Months_on_book</th>\n",
              "      <th>...</th>\n",
              "      <th>Credit_Limit</th>\n",
              "      <th>Total_Revolving_Bal</th>\n",
              "      <th>Avg_Open_To_Buy</th>\n",
              "      <th>Total_Amt_Chng_Q4_Q1</th>\n",
              "      <th>Total_Trans_Amt</th>\n",
              "      <th>Total_Trans_Ct</th>\n",
              "      <th>Total_Ct_Chng_Q4_Q1</th>\n",
              "      <th>Avg_Utilization_Ratio</th>\n",
              "      <th>Naive_Bayes_Classifier_Attrition_Flag_Card_Category_Contacts_Count_12_mon_Dependent_count_Education_Level_Months_Inactive_12_mon_1</th>\n",
              "      <th>Naive_Bayes_Classifier_Attrition_Flag_Card_Category_Contacts_Count_12_mon_Dependent_count_Education_Level_Months_Inactive_12_mon_2</th>\n",
              "    </tr>\n",
              "  </thead>\n",
              "  <tbody>\n",
              "    <tr>\n",
              "      <th>0</th>\n",
              "      <td>768805383</td>\n",
              "      <td>Existing Customer</td>\n",
              "      <td>45</td>\n",
              "      <td>1</td>\n",
              "      <td>3</td>\n",
              "      <td>High School</td>\n",
              "      <td>Married</td>\n",
              "      <td>$60K - $80K</td>\n",
              "      <td>Blue</td>\n",
              "      <td>39</td>\n",
              "      <td>...</td>\n",
              "      <td>12691.0</td>\n",
              "      <td>777</td>\n",
              "      <td>11914.0</td>\n",
              "      <td>1.335</td>\n",
              "      <td>1144</td>\n",
              "      <td>42</td>\n",
              "      <td>1.625</td>\n",
              "      <td>0.061</td>\n",
              "      <td>0.000093</td>\n",
              "      <td>0.99991</td>\n",
              "    </tr>\n",
              "    <tr>\n",
              "      <th>1</th>\n",
              "      <td>818770008</td>\n",
              "      <td>Existing Customer</td>\n",
              "      <td>49</td>\n",
              "      <td>0</td>\n",
              "      <td>5</td>\n",
              "      <td>Graduate</td>\n",
              "      <td>Single</td>\n",
              "      <td>Less than $40K</td>\n",
              "      <td>Blue</td>\n",
              "      <td>44</td>\n",
              "      <td>...</td>\n",
              "      <td>8256.0</td>\n",
              "      <td>864</td>\n",
              "      <td>7392.0</td>\n",
              "      <td>1.541</td>\n",
              "      <td>1291</td>\n",
              "      <td>33</td>\n",
              "      <td>3.714</td>\n",
              "      <td>0.105</td>\n",
              "      <td>0.000057</td>\n",
              "      <td>0.99994</td>\n",
              "    </tr>\n",
              "    <tr>\n",
              "      <th>2</th>\n",
              "      <td>713982108</td>\n",
              "      <td>Existing Customer</td>\n",
              "      <td>51</td>\n",
              "      <td>1</td>\n",
              "      <td>3</td>\n",
              "      <td>Graduate</td>\n",
              "      <td>Married</td>\n",
              "      <td>$80K - $120K</td>\n",
              "      <td>Blue</td>\n",
              "      <td>36</td>\n",
              "      <td>...</td>\n",
              "      <td>3418.0</td>\n",
              "      <td>0</td>\n",
              "      <td>3418.0</td>\n",
              "      <td>2.594</td>\n",
              "      <td>1887</td>\n",
              "      <td>20</td>\n",
              "      <td>2.333</td>\n",
              "      <td>0.000</td>\n",
              "      <td>0.000021</td>\n",
              "      <td>0.99998</td>\n",
              "    </tr>\n",
              "    <tr>\n",
              "      <th>3</th>\n",
              "      <td>769911858</td>\n",
              "      <td>Existing Customer</td>\n",
              "      <td>40</td>\n",
              "      <td>0</td>\n",
              "      <td>4</td>\n",
              "      <td>High School</td>\n",
              "      <td>Unknown</td>\n",
              "      <td>Less than $40K</td>\n",
              "      <td>Blue</td>\n",
              "      <td>34</td>\n",
              "      <td>...</td>\n",
              "      <td>3313.0</td>\n",
              "      <td>2517</td>\n",
              "      <td>796.0</td>\n",
              "      <td>1.405</td>\n",
              "      <td>1171</td>\n",
              "      <td>20</td>\n",
              "      <td>2.333</td>\n",
              "      <td>0.760</td>\n",
              "      <td>0.000134</td>\n",
              "      <td>0.99987</td>\n",
              "    </tr>\n",
              "    <tr>\n",
              "      <th>4</th>\n",
              "      <td>709106358</td>\n",
              "      <td>Existing Customer</td>\n",
              "      <td>40</td>\n",
              "      <td>1</td>\n",
              "      <td>3</td>\n",
              "      <td>Uneducated</td>\n",
              "      <td>Married</td>\n",
              "      <td>$60K - $80K</td>\n",
              "      <td>Blue</td>\n",
              "      <td>21</td>\n",
              "      <td>...</td>\n",
              "      <td>4716.0</td>\n",
              "      <td>0</td>\n",
              "      <td>4716.0</td>\n",
              "      <td>2.175</td>\n",
              "      <td>816</td>\n",
              "      <td>28</td>\n",
              "      <td>2.500</td>\n",
              "      <td>0.000</td>\n",
              "      <td>0.000022</td>\n",
              "      <td>0.99998</td>\n",
              "    </tr>\n",
              "  </tbody>\n",
              "</table>\n",
              "<p>5 rows × 23 columns</p>\n",
              "</div>\n",
              "      <button class=\"colab-df-convert\" onclick=\"convertToInteractive('df-17bd90e3-d05c-48ea-b288-ecc6c27ce0a8')\"\n",
              "              title=\"Convert this dataframe to an interactive table.\"\n",
              "              style=\"display:none;\">\n",
              "        \n",
              "  <svg xmlns=\"http://www.w3.org/2000/svg\" height=\"24px\"viewBox=\"0 0 24 24\"\n",
              "       width=\"24px\">\n",
              "    <path d=\"M0 0h24v24H0V0z\" fill=\"none\"/>\n",
              "    <path d=\"M18.56 5.44l.94 2.06.94-2.06 2.06-.94-2.06-.94-.94-2.06-.94 2.06-2.06.94zm-11 1L8.5 8.5l.94-2.06 2.06-.94-2.06-.94L8.5 2.5l-.94 2.06-2.06.94zm10 10l.94 2.06.94-2.06 2.06-.94-2.06-.94-.94-2.06-.94 2.06-2.06.94z\"/><path d=\"M17.41 7.96l-1.37-1.37c-.4-.4-.92-.59-1.43-.59-.52 0-1.04.2-1.43.59L10.3 9.45l-7.72 7.72c-.78.78-.78 2.05 0 2.83L4 21.41c.39.39.9.59 1.41.59.51 0 1.02-.2 1.41-.59l7.78-7.78 2.81-2.81c.8-.78.8-2.07 0-2.86zM5.41 20L4 18.59l7.72-7.72 1.47 1.35L5.41 20z\"/>\n",
              "  </svg>\n",
              "      </button>\n",
              "      \n",
              "  <style>\n",
              "    .colab-df-container {\n",
              "      display:flex;\n",
              "      flex-wrap:wrap;\n",
              "      gap: 12px;\n",
              "    }\n",
              "\n",
              "    .colab-df-convert {\n",
              "      background-color: #E8F0FE;\n",
              "      border: none;\n",
              "      border-radius: 50%;\n",
              "      cursor: pointer;\n",
              "      display: none;\n",
              "      fill: #1967D2;\n",
              "      height: 32px;\n",
              "      padding: 0 0 0 0;\n",
              "      width: 32px;\n",
              "    }\n",
              "\n",
              "    .colab-df-convert:hover {\n",
              "      background-color: #E2EBFA;\n",
              "      box-shadow: 0px 1px 2px rgba(60, 64, 67, 0.3), 0px 1px 3px 1px rgba(60, 64, 67, 0.15);\n",
              "      fill: #174EA6;\n",
              "    }\n",
              "\n",
              "    [theme=dark] .colab-df-convert {\n",
              "      background-color: #3B4455;\n",
              "      fill: #D2E3FC;\n",
              "    }\n",
              "\n",
              "    [theme=dark] .colab-df-convert:hover {\n",
              "      background-color: #434B5C;\n",
              "      box-shadow: 0px 1px 3px 1px rgba(0, 0, 0, 0.15);\n",
              "      filter: drop-shadow(0px 1px 2px rgba(0, 0, 0, 0.3));\n",
              "      fill: #FFFFFF;\n",
              "    }\n",
              "  </style>\n",
              "\n",
              "      <script>\n",
              "        const buttonEl =\n",
              "          document.querySelector('#df-17bd90e3-d05c-48ea-b288-ecc6c27ce0a8 button.colab-df-convert');\n",
              "        buttonEl.style.display =\n",
              "          google.colab.kernel.accessAllowed ? 'block' : 'none';\n",
              "\n",
              "        async function convertToInteractive(key) {\n",
              "          const element = document.querySelector('#df-17bd90e3-d05c-48ea-b288-ecc6c27ce0a8');\n",
              "          const dataTable =\n",
              "            await google.colab.kernel.invokeFunction('convertToInteractive',\n",
              "                                                     [key], {});\n",
              "          if (!dataTable) return;\n",
              "\n",
              "          const docLinkHtml = 'Like what you see? Visit the ' +\n",
              "            '<a target=\"_blank\" href=https://colab.research.google.com/notebooks/data_table.ipynb>data table notebook</a>'\n",
              "            + ' to learn more about interactive tables.';\n",
              "          element.innerHTML = '';\n",
              "          dataTable['output_type'] = 'display_data';\n",
              "          await google.colab.output.renderOutput(dataTable, element);\n",
              "          const docLink = document.createElement('div');\n",
              "          docLink.innerHTML = docLinkHtml;\n",
              "          element.appendChild(docLink);\n",
              "        }\n",
              "      </script>\n",
              "    </div>\n",
              "  </div>\n",
              "  "
            ]
          },
          "metadata": {},
          "execution_count": 26
        }
      ],
      "source": [
        "BankChurners.head()"
      ]
    },
    {
      "cell_type": "code",
      "execution_count": null,
      "id": "2c49328b",
      "metadata": {
        "id": "2c49328b"
      },
      "outputs": [],
      "source": [
        "BankChurners['Attrition_Flag']=BankChurners['Attrition_Flag'].astype('category').cat.codes"
      ]
    },
    {
      "cell_type": "markdown",
      "source": [
        "**Train Test Splittting** *italicised text*"
      ],
      "metadata": {
        "id": "Pkn113wErsBj"
      },
      "id": "Pkn113wErsBj"
    },
    {
      "cell_type": "code",
      "execution_count": null,
      "id": "e39aa94a",
      "metadata": {
        "id": "e39aa94a"
      },
      "outputs": [],
      "source": [
        "import pandas as pd\n",
        "from sklearn.tree import DecisionTreeClassifier # Import Decision Tree Classifier\n",
        "from sklearn.model_selection import train_test_split # Import train_test_split function\n",
        "from sklearn import metrics"
      ]
    },
    {
      "cell_type": "code",
      "execution_count": null,
      "id": "f1723f89",
      "metadata": {
        "id": "f1723f89"
      },
      "outputs": [],
      "source": [
        "feature_cols = ['Customer_Age', 'Dependent_count', 'Avg_Open_To_Buy', 'Months_on_book','Total_Relationship_Count','Months_Inactive_12_mon','Contacts_Count_12_mon']\n",
        "X = BankChurners[feature_cols] # Features\n",
        "y = BankChurners.Attrition_Flag # Target variable"
      ]
    },
    {
      "cell_type": "code",
      "execution_count": null,
      "id": "7d44c605",
      "metadata": {
        "id": "7d44c605"
      },
      "outputs": [],
      "source": [
        "X_train, X_test, y_train, y_test = train_test_split(X, y, test_size=0.7, random_state=1) "
      ]
    },
    {
      "cell_type": "markdown",
      "id": "d4d4c414",
      "metadata": {
        "id": "d4d4c414"
      },
      "source": [
        "This picture has been showing the train-splitting model of the bank dataset (Ray, 2019). The data parts have been divided into two parts such as x and y. "
      ]
    },
    {
      "cell_type": "markdown",
      "id": "7cee12c3",
      "metadata": {
        "id": "7cee12c3"
      },
      "source": [
        "This picture has been showing the train-splitting model of the bank dataset. The data parts have been divided into two parts such as x_train, y_train, x_test, and y_test."
      ]
    },
    {
      "cell_type": "markdown",
      "id": "c7b05e23",
      "metadata": {
        "id": "c7b05e23"
      },
      "source": [
        "The above things represents the essential library functions importation. This picture has been showing the train-splitting model of the bank dataset.  "
      ]
    },
    {
      "cell_type": "markdown",
      "source": [
        "**Regression**"
      ],
      "metadata": {
        "id": "Ro_-Q0sh2I5E"
      },
      "id": "Ro_-Q0sh2I5E"
    },
    {
      "cell_type": "markdown",
      "source": [
        "```\n",
        "\n",
        "###LogisticRegression"
      ],
      "metadata": {
        "id": "MSp0Kjy4ZeSv"
      },
      "id": "MSp0Kjy4ZeSv"
    },
    {
      "cell_type": "code",
      "execution_count": null,
      "id": "f1ea209c",
      "metadata": {
        "id": "f1ea209c",
        "colab": {
          "base_uri": "https://localhost:8080/"
        },
        "outputId": "aee00091-06c4-4869-dace-bce14e8f5ca1"
      },
      "outputs": [
        {
          "output_type": "execute_result",
          "data": {
            "text/plain": [
              "LogisticRegression()"
            ]
          },
          "metadata": {},
          "execution_count": 31
        }
      ],
      "source": [
        "from sklearn.linear_model import LogisticRegression\n",
        "# creating an object of LogisticRegression class\n",
        "LR = LogisticRegression()\n",
        "# fitting the training data\n",
        "LR.fit(X_train,y_train)"
      ]
    },
    {
      "cell_type": "code",
      "source": [
        "#y1_prediction\n",
        "y1_prediction =  LR.predict(X_test)\n",
        "y1_prediction"
      ],
      "metadata": {
        "colab": {
          "base_uri": "https://localhost:8080/"
        },
        "id": "FYe7ipmuipFS",
        "outputId": "de83713f-9d26-489d-b5fc-281e9ff077d6"
      },
      "id": "FYe7ipmuipFS",
      "execution_count": null,
      "outputs": [
        {
          "output_type": "execute_result",
          "data": {
            "text/plain": [
              "array([1, 1, 1, ..., 1, 1, 1], dtype=int8)"
            ]
          },
          "metadata": {},
          "execution_count": 32
        }
      ]
    },
    {
      "cell_type": "code",
      "source": [
        "#Logistic Regression Accuracy\n",
        "lrga=accuracy_score(y_test, y1_prediction)*100\n",
        "lrga"
      ],
      "metadata": {
        "colab": {
          "base_uri": "https://localhost:8080/"
        },
        "id": "7WODsgcqaYGx",
        "outputId": "b01b4426-f90f-40ed-c3af-267581912aa8"
      },
      "id": "7WODsgcqaYGx",
      "execution_count": null,
      "outputs": [
        {
          "output_type": "execute_result",
          "data": {
            "text/plain": [
              "84.22908731838059"
            ]
          },
          "metadata": {},
          "execution_count": 33
        }
      ]
    },
    {
      "cell_type": "markdown",
      "source": [
        "The above figure represents the essential library functions importation. This picture has been showing the train-splitting model of the bank dataset.  "
      ],
      "metadata": {
        "id": "ItBTWEdNFDss"
      },
      "id": "ItBTWEdNFDss"
    },
    {
      "cell_type": "markdown",
      "source": [
        "LR Model"
      ],
      "metadata": {
        "id": "bO8_h1Sm7AuP"
      },
      "id": "bO8_h1Sm7AuP"
    },
    {
      "cell_type": "code",
      "source": [
        "import numpy as np\n",
        "import matplotlib.pyplot as plt\n",
        "import pandas as pd\n",
        "from sklearn.linear_model import LinearRegression"
      ],
      "metadata": {
        "id": "L52mwcK-7JL4"
      },
      "id": "L52mwcK-7JL4",
      "execution_count": null,
      "outputs": []
    },
    {
      "cell_type": "code",
      "source": [],
      "metadata": {
        "id": "eaXOHOgiFK6o"
      },
      "id": "eaXOHOgiFK6o",
      "execution_count": null,
      "outputs": []
    },
    {
      "cell_type": "code",
      "source": [
        "BankChurners = pd.read_csv('BankChurners.csv')\n",
        "X = BankChurners[[\"Customer_Age\"]]\n",
        "y = BankChurners[[\"Dependent_count\"]]"
      ],
      "metadata": {
        "id": "V14m829j7kGJ"
      },
      "id": "V14m829j7kGJ",
      "execution_count": null,
      "outputs": []
    },
    {
      "cell_type": "code",
      "source": [
        "regressor = LinearRegression()\n",
        "regressor.fit(X, y)"
      ],
      "metadata": {
        "colab": {
          "base_uri": "https://localhost:8080/"
        },
        "id": "a5VH_p3R7nUc",
        "outputId": "117aa82e-dcf2-4b63-de1f-6154d3271fee"
      },
      "id": "a5VH_p3R7nUc",
      "execution_count": null,
      "outputs": [
        {
          "output_type": "execute_result",
          "data": {
            "text/plain": [
              "LinearRegression()"
            ]
          },
          "metadata": {},
          "execution_count": 36
        }
      ]
    },
    {
      "cell_type": "code",
      "source": [
        "y_pred = regressor.predict(X)"
      ],
      "metadata": {
        "id": "g74DvSOZ7qqh"
      },
      "id": "g74DvSOZ7qqh",
      "execution_count": null,
      "outputs": []
    },
    {
      "cell_type": "code",
      "source": [
        "plt.scatter(X, y, color = 'red')\n",
        "plt.plot(X, regressor.predict(X), color = 'blue')\n",
        "plt.title('Customer_Age vs Dependent_count')\n",
        "plt.xlabel('Customer_Age')\n",
        "plt.ylabel('Dependent_count')\n",
        "plt.show()"
      ],
      "metadata": {
        "colab": {
          "base_uri": "https://localhost:8080/",
          "height": 296
        },
        "id": "3iA0CbT67tZI",
        "outputId": "ec7b2fb7-2e74-4257-ff4a-997aba4b3837"
      },
      "id": "3iA0CbT67tZI",
      "execution_count": null,
      "outputs": [
        {
          "output_type": "display_data",
          "data": {
            "text/plain": [
              "<Figure size 432x288 with 1 Axes>"
            ],
            "image/png": "[encoded data removed]"
          },
          "metadata": {
            "needs_background": "light"
          }
        }
      ]
    },
    {
      "cell_type": "markdown",
      "id": "d1ad1fc2",
      "metadata": {
        "id": "d1ad1fc2"
      },
      "source": [
        "LR Model\n",
        "This picture has been showing the train-splitting model of the bank dataset. The data parts have been divided into two parts such as x and y. "
      ]
    },
    {
      "cell_type": "markdown",
      "source": [
        "Decision Tree Model "
      ],
      "metadata": {
        "id": "s06jKQbpZDcc"
      },
      "id": "s06jKQbpZDcc"
    },
    {
      "cell_type": "code",
      "execution_count": null,
      "id": "e17bf380",
      "metadata": {
        "id": "e17bf380"
      },
      "outputs": [],
      "source": [
        "clf = DecisionTreeClassifier()\n",
        "\n",
        "# Train Decision Tree Classifer\n",
        "clf = clf.fit(X_train,y_train)\n",
        "\n",
        "#Predict the response for test dataset\n",
        "y_pred = clf.predict(X_test)"
      ]
    },
    {
      "cell_type": "code",
      "execution_count": null,
      "id": "8f303d6b",
      "metadata": {
        "colab": {
          "base_uri": "https://localhost:8080/"
        },
        "id": "8f303d6b",
        "outputId": "9ba0525c-d4bb-4a02-a23a-74ba5edc46ad"
      },
      "outputs": [
        {
          "output_type": "execute_result",
          "data": {
            "text/plain": [
              "76.68218366483283"
            ]
          },
          "metadata": {},
          "execution_count": 40
        }
      ],
      "source": [
        "#decition tree accuracy\n",
        "from sklearn.metrics import accuracy_score\n",
        "dta=accuracy_score(y_test,y_pred)*100\n",
        "dta"
      ]
    },
    {
      "cell_type": "markdown",
      "source": [
        "It shows the k-means value for the n_cluters = 4 (Greeneret al. 2022). The scores are divided into three parts such as 0.700, 0.676, and 0.6521.\n",
        "Comparison between the models\n",
        "There are several regression models and the method designed in the above part (D’Amouret al. 2020). The most valuable design or model is k-means value model because it has given three different accuracy scores. The scores are 0.700, 0.676, and 0.6521 to make the entire model or system efficient and minimize the complexity in the banking sector.\n"
      ],
      "metadata": {
        "id": "NUY_2M0Q0X2B"
      },
      "id": "NUY_2M0Q0X2B"
    },
    {
      "cell_type": "markdown",
      "source": [
        "### Support Vector Machine (SVM)"
      ],
      "metadata": {
        "id": "9PAVD2qfa3qH"
      },
      "id": "9PAVD2qfa3qH"
    },
    {
      "cell_type": "markdown",
      "source": [
        "It is an SVM classification model on the basis of the bank churners dataset."
      ],
      "metadata": {
        "id": "mOI2Kk4xFaSr"
      },
      "id": "mOI2Kk4xFaSr"
    },
    {
      "cell_type": "code",
      "execution_count": null,
      "id": "187a0adc",
      "metadata": {
        "id": "187a0adc"
      },
      "outputs": [],
      "source": [
        "from sklearn import svm\n",
        "clf = svm.SVC(kernel='rbf')"
      ]
    },
    {
      "cell_type": "code",
      "source": [
        "clf = svm.SVC(kernel='rbf')"
      ],
      "metadata": {
        "id": "CuTJNgLe99N0"
      },
      "id": "CuTJNgLe99N0",
      "execution_count": null,
      "outputs": []
    },
    {
      "cell_type": "code",
      "execution_count": null,
      "id": "eca4d948",
      "metadata": {
        "id": "eca4d948"
      },
      "outputs": [],
      "source": [
        "from sklearn.svm import SVC\n",
        "model = SVC()\n",
        "# Train Linear regression\n",
        "model = model.fit(X_train,y_train)\n",
        "\n",
        "#Predict the response for test dataset\n",
        "y_pred_1 = model.predict(X_test)"
      ]
    },
    {
      "cell_type": "code",
      "source": [
        "print(model.score(X_train, y_train)*100)"
      ],
      "metadata": {
        "colab": {
          "base_uri": "https://localhost:8080/"
        },
        "id": "u_pY0ihMGk5v",
        "outputId": "1aeeb4bb-25fc-4c71-b289-316fafccfb63"
      },
      "id": "u_pY0ihMGk5v",
      "execution_count": null,
      "outputs": [
        {
          "output_type": "stream",
          "name": "stdout",
          "text": [
            "84.16721527320605\n"
          ]
        }
      ]
    },
    {
      "cell_type": "code",
      "source": [
        "print(model.score(X_test, y_test)*100)"
      ],
      "metadata": {
        "colab": {
          "base_uri": "https://localhost:8080/"
        },
        "id": "rLjd-7rBGo6C",
        "outputId": "fab55225-9c32-44f8-822d-ae6a8b9c2414"
      },
      "id": "rLjd-7rBGo6C",
      "execution_count": null,
      "outputs": [
        {
          "output_type": "stream",
          "name": "stdout",
          "text": [
            "83.83410918324165\n"
          ]
        }
      ]
    },
    {
      "cell_type": "markdown",
      "source": [
        "The above function can generate two values such as 0.848 and  0.828."
      ],
      "metadata": {
        "id": "egwFIcQHFhGk"
      },
      "id": "egwFIcQHFhGk"
    },
    {
      "cell_type": "markdown",
      "source": [
        "Naive Bias\n"
      ],
      "metadata": {
        "id": "8pDnUPgBGJhb"
      },
      "id": "8pDnUPgBGJhb"
    },
    {
      "cell_type": "code",
      "execution_count": null,
      "id": "6a21f9fa",
      "metadata": {
        "id": "6a21f9fa"
      },
      "outputs": [],
      "source": [
        "from sklearn.naive_bayes import GaussianNB"
      ]
    },
    {
      "cell_type": "markdown",
      "id": "bd901239",
      "metadata": {
        "id": "bd901239"
      },
      "source": [
        "This picture has been showing the train-splitting model of the bank dataset (Sunet al. 2019). The data parts have been divided into two parts such as x and y. "
      ]
    },
    {
      "cell_type": "code",
      "execution_count": null,
      "id": "db14db36",
      "metadata": {
        "id": "db14db36"
      },
      "outputs": [],
      "source": [
        "gnb = GaussianNB()"
      ]
    },
    {
      "cell_type": "code",
      "execution_count": null,
      "id": "015c737a",
      "metadata": {
        "id": "015c737a",
        "colab": {
          "base_uri": "https://localhost:8080/"
        },
        "outputId": "be3329b2-0840-4fb6-fb0f-76ae276a1cb6"
      },
      "outputs": [
        {
          "output_type": "execute_result",
          "data": {
            "text/plain": [
              "GaussianNB()"
            ]
          },
          "metadata": {},
          "execution_count": 48
        }
      ],
      "source": [
        "gnb.fit(X_train, y_train)"
      ]
    },
    {
      "cell_type": "code",
      "execution_count": null,
      "id": "b99bc8de",
      "metadata": {
        "id": "b99bc8de",
        "colab": {
          "base_uri": "https://localhost:8080/"
        },
        "outputId": "36e802ac-2c2b-4cda-b8aa-d3cf1ade07ce"
      },
      "outputs": [
        {
          "output_type": "execute_result",
          "data": {
            "text/plain": [
              "GaussianNB()"
            ]
          },
          "metadata": {},
          "execution_count": 49
        }
      ],
      "source": [
        "\n",
        "GaussianNB(priors=None, var_smoothing=1e-09)"
      ]
    },
    {
      "cell_type": "code",
      "execution_count": null,
      "id": "7e18f6df",
      "metadata": {
        "id": "7e18f6df",
        "colab": {
          "base_uri": "https://localhost:8080/"
        },
        "outputId": "0509e528-6d32-4902-9876-0b503cc926a7"
      },
      "outputs": [
        {
          "output_type": "execute_result",
          "data": {
            "text/plain": [
              "array([1, 1, 1, ..., 1, 1, 1], dtype=int8)"
            ]
          },
          "metadata": {},
          "execution_count": 50
        }
      ],
      "source": [
        "y_pred2 = gnb.predict(X_test)\n",
        "\n",
        "y_pred2"
      ]
    },
    {
      "cell_type": "code",
      "execution_count": null,
      "id": "3708ecb0",
      "metadata": {
        "id": "3708ecb0",
        "colab": {
          "base_uri": "https://localhost:8080/"
        },
        "outputId": "f1cf84da-53fd-4236-f0f1-fd51e5048686"
      },
      "outputs": [
        {
          "output_type": "execute_result",
          "data": {
            "text/plain": [
              "83.83410918324165"
            ]
          },
          "metadata": {},
          "execution_count": 51
        }
      ],
      "source": [
        "svma= accuracy_score(y_test,y_pred_1)*100\n",
        "svma"
      ]
    },
    {
      "cell_type": "markdown",
      "id": "16c6c592",
      "metadata": {
        "id": "16c6c592"
      },
      "source": [
        "According to this picture, the accuracy score is 0.84%. This picture has been showing the train-splitting model of the bank dataset (Carleo et al. 2019).. The data parts have been divided into two parts such as x and y."
      ]
    },
    {
      "cell_type": "markdown",
      "id": "6dd4c73f",
      "metadata": {
        "id": "6dd4c73f"
      },
      "source": [
        "According to this picture, the accuracy score is 0.84%. This picture has been showing the train-splitting model of the bank dataset. The data parts have been divided into two parts such as x and y."
      ]
    },
    {
      "cell_type": "markdown",
      "source": [
        "### KNeighbors Classification"
      ],
      "metadata": {
        "id": "P5OFaZqEbZZx"
      },
      "id": "P5OFaZqEbZZx"
    },
    {
      "cell_type": "code",
      "execution_count": null,
      "id": "ac3dad32",
      "metadata": {
        "id": "ac3dad32"
      },
      "outputs": [],
      "source": [
        "from sklearn.neighbors import KNeighborsClassifier\n",
        "model = KNeighborsClassifier(n_neighbors=10, metric='manhattan')\n",
        "\n",
        "model.fit(X_train,y_train)\n",
        "kn_train = model.score(X_train, y_train)\n",
        "kn_test = model.score(X_test, y_test)"
      ]
    },
    {
      "cell_type": "code",
      "execution_count": null,
      "id": "555ad3aa",
      "metadata": {
        "id": "555ad3aa",
        "colab": {
          "base_uri": "https://localhost:8080/"
        },
        "outputId": "e9212efc-744e-4a33-edcf-6dde08d3a35b"
      },
      "outputs": [
        {
          "output_type": "execute_result",
          "data": {
            "text/plain": [
              "array([1, 1, 1, ..., 1, 1, 1], dtype=int8)"
            ]
          },
          "metadata": {},
          "execution_count": 53
        }
      ],
      "source": [
        "knn = KNeighborsClassifier(n_neighbors=7)\n",
        "  \n",
        "knn.fit(X_train, y_train)\n",
        "pred=knn.predict(X_test)\n",
        "pred"
      ]
    },
    {
      "cell_type": "code",
      "source": [
        "from sklearn.metrics import accuracy_score\n",
        "knna=accuracy_score(y_test,pred)*100\n",
        "knna"
      ],
      "metadata": {
        "id": "Tz0NosPxboGZ",
        "colab": {
          "base_uri": "https://localhost:8080/"
        },
        "outputId": "5bcd0a0a-2f02-4352-dad1-c34db3d5c4b0"
      },
      "id": "Tz0NosPxboGZ",
      "execution_count": null,
      "outputs": [
        {
          "output_type": "execute_result",
          "data": {
            "text/plain": [
              "82.83255748342503"
            ]
          },
          "metadata": {},
          "execution_count": 54
        }
      ]
    },
    {
      "cell_type": "markdown",
      "id": "122a1f53",
      "metadata": {
        "id": "122a1f53"
      },
      "source": [
        "It shows the k-means value for the n_cluters = 4 (Greeneret al. 2022). The scores are divided into three parts such as 0.700, 0.676, and 0.6521.\n",
        "Comparison between the models\n",
        "There are several regression models and the method designed in the above part (D’Amouret al. 2020). The most valuable design or model is k-means value model because it has given three different accuracy scores. The scores are 0.700, 0.676, and 0.6521 to make the entire model or system efficient and minimize the complexity in the banking sector.\n"
      ]
    },
    {
      "cell_type": "code",
      "execution_count": null,
      "id": "9282793a",
      "metadata": {
        "id": "9282793a"
      },
      "outputs": [],
      "source": [
        "# define features types\n",
        "demog_features = ['Customer_Age', 'Gender', 'Dependent_count', 'Education_Level', \n",
        "                 'Marital_Status', 'Income_Category']\n",
        "\n",
        "relate_features = ['Card_Category', 'Months_on_book', 'Total_Relationship_Count', \n",
        "                     'Credit_Limit']"
      ]
    },
    {
      "cell_type": "code",
      "execution_count": null,
      "id": "71f9e94c",
      "metadata": {
        "id": "71f9e94c",
        "colab": {
          "base_uri": "https://localhost:8080/"
        },
        "outputId": "95de6d77-b5ab-4f44-d6cb-0bf5449ae6bd"
      },
      "outputs": [
        {
          "output_type": "stream",
          "name": "stdout",
          "text": [
            "Looking in indexes: https://pypi.org/simple, https://us-python.pkg.dev/colab-wheels/public/simple/\n",
            "Requirement already satisfied: imblearn in /usr/local/lib/python3.8/dist-packages (0.0)\n",
            "Requirement already satisfied: imbalanced-learn in /usr/local/lib/python3.8/dist-packages (from imblearn) (0.8.1)\n",
            "Requirement already satisfied: scipy>=0.19.1 in /usr/local/lib/python3.8/dist-packages (from imbalanced-learn->imblearn) (1.7.3)\n",
            "Requirement already satisfied: joblib>=0.11 in /usr/local/lib/python3.8/dist-packages (from imbalanced-learn->imblearn) (1.2.0)\n",
            "Requirement already satisfied: scikit-learn>=0.24 in /usr/local/lib/python3.8/dist-packages (from imbalanced-learn->imblearn) (1.0.2)\n",
            "Requirement already satisfied: numpy>=1.13.3 in /usr/local/lib/python3.8/dist-packages (from imbalanced-learn->imblearn) (1.21.6)\n",
            "Requirement already satisfied: threadpoolctl>=2.0.0 in /usr/local/lib/python3.8/dist-packages (from scikit-learn>=0.24->imbalanced-learn->imblearn) (3.1.0)\n"
          ]
        }
      ],
      "source": [
        "pip install imblearn"
      ]
    },
    {
      "cell_type": "code",
      "execution_count": null,
      "id": "c9ab466a",
      "metadata": {
        "id": "c9ab466a"
      },
      "outputs": [],
      "source": [
        "from sklearn.preprocessing import OneHotEncoder\n",
        "from sklearn.model_selection import train_test_split\n",
        "import imblearn"
      ]
    },
    {
      "cell_type": "code",
      "execution_count": null,
      "id": "2b1205df",
      "metadata": {
        "id": "2b1205df",
        "colab": {
          "base_uri": "https://localhost:8080/"
        },
        "outputId": "17fcaf3b-d70f-4b1e-cf51-12eee348c0ac"
      },
      "outputs": [
        {
          "output_type": "stream",
          "name": "stdout",
          "text": [
            "(10127, 28)\n"
          ]
        }
      ],
      "source": [
        "segment_frame = BankChurners[['CLIENTNUM'] + demog_features + relate_features]\n",
        "\n",
        "# retrieve data for clustering \n",
        "cat_var = ['Gender', 'Education_Level', 'Marital_Status', 'Income_Category', \n",
        "          'Card_Category']\n",
        "num_var = [x for x in segment_frame.columns.tolist() if x not in cat_var + ['CLIENTNUM']]\n",
        "\n",
        "X_num = segment_frame[num_var].values\n",
        "enc = OneHotEncoder()\n",
        "X_cat = enc.fit_transform(segment_frame[cat_var]).toarray()\n",
        "X = np.concatenate((X_num, X_cat), axis=1)\n",
        "\n",
        "print(X.shape)"
      ]
    },
    {
      "cell_type": "code",
      "execution_count": null,
      "id": "1610d3c5",
      "metadata": {
        "id": "1610d3c5",
        "colab": {
          "base_uri": "https://localhost:8080/"
        },
        "outputId": "b6c3dbae-dfc4-4bf4-d1b8-b45df9b433f7"
      },
      "outputs": [
        {
          "output_type": "execute_result",
          "data": {
            "text/plain": [
              "array([[1.2691e+04, 0.0000e+00, 1.0000e+00, ..., 0.0000e+00, 0.0000e+00,\n",
              "        0.0000e+00],\n",
              "       [8.2560e+03, 1.0000e+00, 0.0000e+00, ..., 0.0000e+00, 0.0000e+00,\n",
              "        0.0000e+00],\n",
              "       [3.4180e+03, 0.0000e+00, 1.0000e+00, ..., 0.0000e+00, 0.0000e+00,\n",
              "        0.0000e+00],\n",
              "       ...,\n",
              "       [5.4090e+03, 1.0000e+00, 0.0000e+00, ..., 0.0000e+00, 0.0000e+00,\n",
              "        0.0000e+00],\n",
              "       [5.2810e+03, 0.0000e+00, 1.0000e+00, ..., 0.0000e+00, 0.0000e+00,\n",
              "        0.0000e+00],\n",
              "       [1.0388e+04, 1.0000e+00, 0.0000e+00, ..., 0.0000e+00, 0.0000e+00,\n",
              "        1.0000e+00]])"
            ]
          },
          "metadata": {},
          "execution_count": 59
        }
      ],
      "source": [
        "X[:, 4:]"
      ]
    },
    {
      "cell_type": "code",
      "execution_count": null,
      "id": "7a7594e6",
      "metadata": {
        "id": "7a7594e6"
      },
      "outputs": [],
      "source": [
        "from sklearn.datasets import make_blobs\n",
        "from sklearn.cluster import KMeans\n",
        "from sklearn.metrics import silhouette_samples, silhouette_score\n",
        "\n",
        "import matplotlib.pyplot as plt\n",
        "import matplotlib.cm as cm\n",
        "import numpy as np"
      ]
    },
    {
      "cell_type": "code",
      "execution_count": null,
      "id": "19f3dd0e",
      "metadata": {
        "id": "19f3dd0e",
        "colab": {
          "base_uri": "https://localhost:8080/",
          "height": 1000
        },
        "outputId": "f85b8877-68ce-4997-81e4-230dd3083648"
      },
      "outputs": [
        {
          "output_type": "stream",
          "name": "stdout",
          "text": [
            "Automatically created module for IPython interactive environment\n",
            "For n_clusters = 3 The average silhouette_score is : 0.7008238588786561\n",
            "For n_clusters = 4 The average silhouette_score is : 0.6769507454292636\n",
            "For n_clusters = 5 The average silhouette_score is : 0.6521492459452108\n"
          ]
        },
        {
          "output_type": "display_data",
          "data": {
            "text/plain": [
              "<Figure size 1296x504 with 1 Axes>"
            ],
            "image/png": "[encoded data removed]"
          },
          "metadata": {
            "needs_background": "light"
          }
        },
        {
          "output_type": "display_data",
          "data": {
            "text/plain": [
              "<Figure size 1296x504 with 1 Axes>"
            ],
            "image/png": "[encoded data removed]"
          },
          "metadata": {
            "needs_background": "light"
          }
        },
        {
          "output_type": "display_data",
          "data": {
            "text/plain": [
              "<Figure size 1296x504 with 1 Axes>"
            ],
            "image/png": "[encoded data removed]"
          },
          "metadata": {
            "needs_background": "light"
          }
        }
      ],
      "source": [
        "print(__doc__)\n",
        "\n",
        "# Generating the sample data from make_blobs\n",
        "# This particular setting has one distinct cluster and 3 clusters placed close\n",
        "# together.\n",
        "# X =  \n",
        "range_n_clusters = [3, 4, 5]\n",
        "\n",
        "for n_clusters in range_n_clusters:\n",
        "    \n",
        "    # Create a subplot with 1 row and 2 columns\n",
        "    fig, (ax1) = plt.subplots(1, 1)\n",
        "    fig.set_size_inches(18, 7)\n",
        "\n",
        "    # Initialize the clusterer with n_clusters value and a random generator\n",
        "    # seed of 10 for reproducibility.\n",
        "    clusterer = KMeans(n_clusters=n_clusters, random_state=10)\n",
        "    cluster_labels = clusterer.fit_predict(X)\n",
        "\n",
        "    # The silhouette_score gives the average value for all the samples.\n",
        "    # This gives a perspective into the density and separation of the formed\n",
        "    # clusters\n",
        "    silhouette_avg = silhouette_score(X, cluster_labels)\n",
        "    print(\"For n_clusters =\", n_clusters,\n",
        "          \"The average silhouette_score is :\", silhouette_avg)\n",
        "\n",
        "    # Compute the silhouette scores for each sample\n",
        "    sample_silhouette_values = silhouette_samples(X, cluster_labels)\n",
        "\n",
        "    y_lower = 10\n",
        "\n",
        "    # Plot showing the actual clusters formed\n",
        "    colors = cm.nipy_spectral(cluster_labels.astype(float) / n_clusters)\n",
        "    ax1.scatter(X[:, 0], X[:, 2], marker='.', s=30, lw=0, alpha=0.7,\n",
        "                c=colors, edgecolor='k')\n",
        "\n",
        "    # Labeling the clusters\n",
        "    centers = clusterer.cluster_centers_\n",
        "    # Draw white circles at cluster centers\n",
        "    ax1.scatter(centers[:, 0], centers[:, 2], marker='o',\n",
        "                c=\"white\", alpha=1, s=200, edgecolor='k')\n",
        "\n",
        "    for i, c in enumerate(centers):\n",
        "        ax1.scatter(c[0], c[1], marker='$%d$' % i, alpha=1,\n",
        "                    s=50, edgecolor='k')\n",
        "\n",
        "    ax1.set_title(\"The visualization of the clustered data.\")\n",
        "    ax1.set_xlabel(\"Feature space for the 1st feature\")\n",
        "    ax1.set_ylabel(\"Feature space for the 2nd feature\")\n",
        "\n",
        "    plt.suptitle((\"Silhouette analysis for KMeans clustering on sample data \"\n",
        "                  \"with n_clusters = %d\" % n_clusters),\n",
        "                 fontsize=14, fontweight='bold')\n",
        "\n",
        "plt.show()"
      ]
    },
    {
      "cell_type": "markdown",
      "id": "f54d1e11",
      "metadata": {
        "id": "f54d1e11"
      },
      "source": [
        "Comparison between the models\n",
        "There are several regression models and the method designed in the above part (D’Amouret al. 2020). The most valuable design or model is k-means value model because it has given three different accuracy scores. The scores are 0.700, 0.676, and 0.6521 to make the entire model or system efficient and minimize the complexity in the banking sector.\n"
      ]
    },
    {
      "cell_type": "markdown",
      "source": [
        "###Artificial Neural Network Model"
      ],
      "metadata": {
        "id": "W2GQ0qsrclve"
      },
      "id": "W2GQ0qsrclve"
    },
    {
      "cell_type": "markdown",
      "source": [
        "It is an ANN classification model on the basis of the bank churners dataset."
      ],
      "metadata": {
        "id": "mJicjKTVF3cZ"
      },
      "id": "mJicjKTVF3cZ"
    },
    {
      "cell_type": "code",
      "source": [
        "import tensorflow as tf\n",
        "ann = tf.keras.models.Sequential()"
      ],
      "metadata": {
        "id": "qGezmCOlchdQ"
      },
      "id": "qGezmCOlchdQ",
      "execution_count": null,
      "outputs": []
    },
    {
      "cell_type": "code",
      "source": [
        "ann.add(tf.keras.layers.Dense(units=6,activation=\"relu\"))"
      ],
      "metadata": {
        "id": "zY-r37l8coGw"
      },
      "id": "zY-r37l8coGw",
      "execution_count": null,
      "outputs": []
    },
    {
      "cell_type": "code",
      "source": [
        "ann.add(tf.keras.layers.Dense(units=6,activation=\"relu\"))"
      ],
      "metadata": {
        "id": "svLOLnXWcqdi"
      },
      "id": "svLOLnXWcqdi",
      "execution_count": null,
      "outputs": []
    },
    {
      "cell_type": "code",
      "source": [
        "ann.add(tf.keras.layers.Dense(units=1,activation=\"sigmoid\"))"
      ],
      "metadata": {
        "id": "sDceeHXdctf8"
      },
      "id": "sDceeHXdctf8",
      "execution_count": null,
      "outputs": []
    },
    {
      "cell_type": "code",
      "source": [
        "ann.compile(optimizer=\"adam\",loss=\"binary_crossentropy\",metrics=['accuracy'])"
      ],
      "metadata": {
        "id": "AcPaXlUgcuCL"
      },
      "id": "AcPaXlUgcuCL",
      "execution_count": null,
      "outputs": []
    },
    {
      "cell_type": "code",
      "source": [
        "accuracy=ann.fit(X_train,y_train,batch_size=64,epochs = 150)"
      ],
      "metadata": {
        "id": "fcIP-PLYcyBG",
        "colab": {
          "base_uri": "https://localhost:8080/"
        },
        "outputId": "a26d0e66-e13b-4b51-ae13-3990f522ffa0"
      },
      "id": "fcIP-PLYcyBG",
      "execution_count": null,
      "outputs": [
        {
          "output_type": "stream",
          "name": "stdout",
          "text": [
            "Epoch 1/150\n",
            "48/48 [==============================] - 1s 1ms/step - loss: 368.2563 - accuracy: 0.8374\n",
            "Epoch 2/150\n",
            "48/48 [==============================] - 0s 1ms/step - loss: 29.7818 - accuracy: 0.5392\n",
            "Epoch 3/150\n",
            "48/48 [==============================] - 0s 1ms/step - loss: 12.4687 - accuracy: 0.4526\n",
            "Epoch 4/150\n",
            "48/48 [==============================] - 0s 2ms/step - loss: 6.8331 - accuracy: 0.5043\n",
            "Epoch 5/150\n",
            "48/48 [==============================] - 0s 1ms/step - loss: 5.9754 - accuracy: 0.6537\n",
            "Epoch 6/150\n",
            "48/48 [==============================] - 0s 1ms/step - loss: 3.1265 - accuracy: 0.7018\n",
            "Epoch 7/150\n",
            "48/48 [==============================] - 0s 1ms/step - loss: 3.5163 - accuracy: 0.7587\n",
            "Epoch 8/150\n",
            "48/48 [==============================] - 0s 1ms/step - loss: 4.5788 - accuracy: 0.7594\n",
            "Epoch 9/150\n",
            "48/48 [==============================] - 0s 2ms/step - loss: 4.9850 - accuracy: 0.7462\n",
            "Epoch 10/150\n",
            "48/48 [==============================] - 0s 1ms/step - loss: 4.9737 - accuracy: 0.7567\n",
            "Epoch 11/150\n",
            "48/48 [==============================] - 0s 1ms/step - loss: 2.8595 - accuracy: 0.7426\n",
            "Epoch 12/150\n",
            "48/48 [==============================] - 0s 1ms/step - loss: 3.1290 - accuracy: 0.7650\n",
            "Epoch 13/150\n",
            "48/48 [==============================] - 0s 1ms/step - loss: 2.6629 - accuracy: 0.7485\n",
            "Epoch 14/150\n",
            "48/48 [==============================] - 0s 1ms/step - loss: 2.4447 - accuracy: 0.7633\n",
            "Epoch 15/150\n",
            "48/48 [==============================] - 0s 1ms/step - loss: 6.8034 - accuracy: 0.7689\n",
            "Epoch 16/150\n",
            "48/48 [==============================] - 0s 1ms/step - loss: 5.5336 - accuracy: 0.7406\n",
            "Epoch 17/150\n",
            "48/48 [==============================] - 0s 1ms/step - loss: 4.2852 - accuracy: 0.7400\n",
            "Epoch 18/150\n",
            "48/48 [==============================] - 0s 1ms/step - loss: 1.6794 - accuracy: 0.7571\n",
            "Epoch 19/150\n",
            "48/48 [==============================] - 0s 1ms/step - loss: 2.4847 - accuracy: 0.7696\n",
            "Epoch 20/150\n",
            "48/48 [==============================] - 0s 1ms/step - loss: 3.3766 - accuracy: 0.7646\n",
            "Epoch 21/150\n",
            "48/48 [==============================] - 0s 2ms/step - loss: 4.4140 - accuracy: 0.7462\n",
            "Epoch 22/150\n",
            "48/48 [==============================] - 0s 1ms/step - loss: 3.2155 - accuracy: 0.7666\n",
            "Epoch 23/150\n",
            "48/48 [==============================] - 0s 1ms/step - loss: 3.1415 - accuracy: 0.7386\n",
            "Epoch 24/150\n",
            "48/48 [==============================] - 0s 1ms/step - loss: 3.3911 - accuracy: 0.7752\n",
            "Epoch 25/150\n",
            "48/48 [==============================] - 0s 1ms/step - loss: 9.4101 - accuracy: 0.7594\n",
            "Epoch 26/150\n",
            "48/48 [==============================] - 0s 1ms/step - loss: 4.9240 - accuracy: 0.7538\n",
            "Epoch 27/150\n",
            "48/48 [==============================] - 0s 1ms/step - loss: 1.9411 - accuracy: 0.7732\n",
            "Epoch 28/150\n",
            "48/48 [==============================] - 0s 2ms/step - loss: 1.8135 - accuracy: 0.7749\n",
            "Epoch 29/150\n",
            "48/48 [==============================] - 0s 3ms/step - loss: 3.6323 - accuracy: 0.7699\n",
            "Epoch 30/150\n",
            "48/48 [==============================] - 0s 3ms/step - loss: 3.0230 - accuracy: 0.7604\n",
            "Epoch 31/150\n",
            "48/48 [==============================] - 0s 2ms/step - loss: 3.2627 - accuracy: 0.7492\n",
            "Epoch 32/150\n",
            "48/48 [==============================] - 0s 3ms/step - loss: 4.8945 - accuracy: 0.7498\n",
            "Epoch 33/150\n",
            "48/48 [==============================] - 0s 3ms/step - loss: 6.2811 - accuracy: 0.7587\n",
            "Epoch 34/150\n",
            "48/48 [==============================] - 0s 2ms/step - loss: 2.4306 - accuracy: 0.7633\n",
            "Epoch 35/150\n",
            "48/48 [==============================] - 0s 2ms/step - loss: 2.8114 - accuracy: 0.7706\n",
            "Epoch 36/150\n",
            "48/48 [==============================] - 0s 2ms/step - loss: 5.3533 - accuracy: 0.7670\n",
            "Epoch 37/150\n",
            "48/48 [==============================] - 0s 2ms/step - loss: 1.9258 - accuracy: 0.7656\n",
            "Epoch 38/150\n",
            "48/48 [==============================] - 0s 2ms/step - loss: 3.1766 - accuracy: 0.7567\n",
            "Epoch 39/150\n",
            "48/48 [==============================] - 0s 2ms/step - loss: 5.4146 - accuracy: 0.7567\n",
            "Epoch 40/150\n",
            "48/48 [==============================] - 0s 2ms/step - loss: 2.7835 - accuracy: 0.7574\n",
            "Epoch 41/150\n",
            "48/48 [==============================] - 0s 2ms/step - loss: 1.8890 - accuracy: 0.7719\n",
            "Epoch 42/150\n",
            "48/48 [==============================] - 0s 2ms/step - loss: 2.1303 - accuracy: 0.7867\n",
            "Epoch 43/150\n",
            "48/48 [==============================] - 0s 2ms/step - loss: 4.4018 - accuracy: 0.7696\n",
            "Epoch 44/150\n",
            "48/48 [==============================] - 0s 3ms/step - loss: 3.5317 - accuracy: 0.7518\n",
            "Epoch 45/150\n",
            "48/48 [==============================] - 0s 2ms/step - loss: 2.2738 - accuracy: 0.7735\n",
            "Epoch 46/150\n",
            "48/48 [==============================] - 0s 2ms/step - loss: 2.3249 - accuracy: 0.7729\n",
            "Epoch 47/150\n",
            "48/48 [==============================] - 0s 4ms/step - loss: 1.9497 - accuracy: 0.7676\n",
            "Epoch 48/150\n",
            "48/48 [==============================] - 0s 2ms/step - loss: 2.5372 - accuracy: 0.7640\n",
            "Epoch 49/150\n",
            "48/48 [==============================] - 0s 3ms/step - loss: 3.5475 - accuracy: 0.7696\n",
            "Epoch 50/150\n",
            "48/48 [==============================] - 0s 2ms/step - loss: 1.7474 - accuracy: 0.7623\n",
            "Epoch 51/150\n",
            "48/48 [==============================] - 0s 2ms/step - loss: 1.4033 - accuracy: 0.7729\n",
            "Epoch 52/150\n",
            "48/48 [==============================] - 0s 3ms/step - loss: 3.5710 - accuracy: 0.7811\n",
            "Epoch 53/150\n",
            "48/48 [==============================] - 0s 2ms/step - loss: 2.3722 - accuracy: 0.7521\n",
            "Epoch 54/150\n",
            "48/48 [==============================] - 0s 3ms/step - loss: 1.4646 - accuracy: 0.7745\n",
            "Epoch 55/150\n",
            "48/48 [==============================] - 0s 2ms/step - loss: 1.7813 - accuracy: 0.7877\n",
            "Epoch 56/150\n",
            "48/48 [==============================] - 0s 3ms/step - loss: 4.2739 - accuracy: 0.7623\n",
            "Epoch 57/150\n",
            "48/48 [==============================] - 0s 2ms/step - loss: 5.2810 - accuracy: 0.7344\n",
            "Epoch 58/150\n",
            "48/48 [==============================] - 0s 2ms/step - loss: 3.7299 - accuracy: 0.7633\n",
            "Epoch 59/150\n",
            "48/48 [==============================] - 0s 2ms/step - loss: 6.1269 - accuracy: 0.7479\n",
            "Epoch 60/150\n",
            "48/48 [==============================] - 0s 4ms/step - loss: 2.8425 - accuracy: 0.7699\n",
            "Epoch 61/150\n",
            "48/48 [==============================] - 0s 2ms/step - loss: 2.5939 - accuracy: 0.7544\n",
            "Epoch 62/150\n",
            "48/48 [==============================] - 0s 3ms/step - loss: 2.6717 - accuracy: 0.7544\n",
            "Epoch 63/150\n",
            "48/48 [==============================] - 0s 3ms/step - loss: 5.3129 - accuracy: 0.7650\n",
            "Epoch 64/150\n",
            "48/48 [==============================] - 0s 2ms/step - loss: 3.9051 - accuracy: 0.7591\n",
            "Epoch 65/150\n",
            "48/48 [==============================] - 0s 4ms/step - loss: 2.4813 - accuracy: 0.7778\n",
            "Epoch 66/150\n",
            "48/48 [==============================] - 0s 3ms/step - loss: 1.7770 - accuracy: 0.7633\n",
            "Epoch 67/150\n",
            "48/48 [==============================] - 0s 2ms/step - loss: 2.1874 - accuracy: 0.7660\n",
            "Epoch 68/150\n",
            "48/48 [==============================] - 0s 2ms/step - loss: 3.1656 - accuracy: 0.7587\n",
            "Epoch 69/150\n",
            "48/48 [==============================] - 0s 2ms/step - loss: 1.8146 - accuracy: 0.7725\n",
            "Epoch 70/150\n",
            "48/48 [==============================] - 0s 2ms/step - loss: 3.4199 - accuracy: 0.7686\n",
            "Epoch 71/150\n",
            "48/48 [==============================] - 0s 2ms/step - loss: 3.4426 - accuracy: 0.7643\n",
            "Epoch 72/150\n",
            "48/48 [==============================] - 0s 2ms/step - loss: 1.7957 - accuracy: 0.7712\n",
            "Epoch 73/150\n",
            "48/48 [==============================] - 0s 2ms/step - loss: 6.0000 - accuracy: 0.7706\n",
            "Epoch 74/150\n",
            "48/48 [==============================] - 0s 2ms/step - loss: 2.8871 - accuracy: 0.7544\n",
            "Epoch 75/150\n",
            "48/48 [==============================] - 0s 2ms/step - loss: 2.3010 - accuracy: 0.7739\n",
            "Epoch 76/150\n",
            "48/48 [==============================] - 0s 3ms/step - loss: 5.0408 - accuracy: 0.7660\n",
            "Epoch 77/150\n",
            "48/48 [==============================] - 0s 2ms/step - loss: 4.3335 - accuracy: 0.7656\n",
            "Epoch 78/150\n",
            "48/48 [==============================] - 0s 2ms/step - loss: 3.5735 - accuracy: 0.7653\n",
            "Epoch 79/150\n",
            "48/48 [==============================] - 0s 3ms/step - loss: 2.0101 - accuracy: 0.7610\n",
            "Epoch 80/150\n",
            "48/48 [==============================] - 0s 2ms/step - loss: 4.9263 - accuracy: 0.7610\n",
            "Epoch 81/150\n",
            "48/48 [==============================] - 0s 2ms/step - loss: 2.9439 - accuracy: 0.7656\n",
            "Epoch 82/150\n",
            "48/48 [==============================] - 0s 2ms/step - loss: 2.0328 - accuracy: 0.7577\n",
            "Epoch 83/150\n",
            "48/48 [==============================] - 0s 3ms/step - loss: 1.3821 - accuracy: 0.7867\n",
            "Epoch 84/150\n",
            "48/48 [==============================] - 0s 2ms/step - loss: 1.4986 - accuracy: 0.7758\n",
            "Epoch 85/150\n",
            "48/48 [==============================] - 0s 2ms/step - loss: 3.6763 - accuracy: 0.7627\n",
            "Epoch 86/150\n",
            "48/48 [==============================] - 0s 2ms/step - loss: 1.5932 - accuracy: 0.7778\n",
            "Epoch 87/150\n",
            "48/48 [==============================] - 0s 2ms/step - loss: 2.7274 - accuracy: 0.7722\n",
            "Epoch 88/150\n",
            "48/48 [==============================] - 0s 2ms/step - loss: 2.6895 - accuracy: 0.7686\n",
            "Epoch 89/150\n",
            "48/48 [==============================] - 0s 2ms/step - loss: 3.4488 - accuracy: 0.7551\n",
            "Epoch 90/150\n",
            "48/48 [==============================] - 0s 2ms/step - loss: 3.7465 - accuracy: 0.7492\n",
            "Epoch 91/150\n",
            "48/48 [==============================] - 0s 2ms/step - loss: 3.3689 - accuracy: 0.7735\n",
            "Epoch 92/150\n",
            "48/48 [==============================] - 0s 2ms/step - loss: 1.8078 - accuracy: 0.7666\n",
            "Epoch 93/150\n",
            "48/48 [==============================] - 0s 2ms/step - loss: 3.2184 - accuracy: 0.7676\n",
            "Epoch 94/150\n",
            "48/48 [==============================] - 0s 2ms/step - loss: 3.7264 - accuracy: 0.7693\n",
            "Epoch 95/150\n",
            "48/48 [==============================] - 0s 3ms/step - loss: 5.0259 - accuracy: 0.7650\n",
            "Epoch 96/150\n",
            "48/48 [==============================] - 0s 2ms/step - loss: 4.1789 - accuracy: 0.7594\n",
            "Epoch 97/150\n",
            "48/48 [==============================] - 0s 2ms/step - loss: 3.2449 - accuracy: 0.7541\n",
            "Epoch 98/150\n",
            "48/48 [==============================] - 0s 2ms/step - loss: 4.0310 - accuracy: 0.7538\n",
            "Epoch 99/150\n",
            "48/48 [==============================] - 0s 2ms/step - loss: 3.7706 - accuracy: 0.7380\n",
            "Epoch 100/150\n",
            "48/48 [==============================] - 0s 2ms/step - loss: 6.3200 - accuracy: 0.7544\n",
            "Epoch 101/150\n",
            "48/48 [==============================] - 0s 2ms/step - loss: 2.6866 - accuracy: 0.7660\n",
            "Epoch 102/150\n",
            "48/48 [==============================] - 0s 3ms/step - loss: 1.6795 - accuracy: 0.7673\n",
            "Epoch 103/150\n",
            "48/48 [==============================] - 0s 2ms/step - loss: 2.5366 - accuracy: 0.7818\n",
            "Epoch 104/150\n",
            "48/48 [==============================] - 0s 2ms/step - loss: 4.9876 - accuracy: 0.7525\n",
            "Epoch 105/150\n",
            "48/48 [==============================] - 0s 2ms/step - loss: 2.3023 - accuracy: 0.7689\n",
            "Epoch 106/150\n",
            "48/48 [==============================] - 0s 4ms/step - loss: 4.4243 - accuracy: 0.7617\n",
            "Epoch 107/150\n",
            "48/48 [==============================] - 0s 2ms/step - loss: 3.5994 - accuracy: 0.7712\n",
            "Epoch 108/150\n",
            "48/48 [==============================] - 0s 2ms/step - loss: 4.4212 - accuracy: 0.7508\n",
            "Epoch 109/150\n",
            "48/48 [==============================] - 0s 2ms/step - loss: 4.4007 - accuracy: 0.7472\n",
            "Epoch 110/150\n",
            "48/48 [==============================] - 0s 3ms/step - loss: 2.4903 - accuracy: 0.7571\n",
            "Epoch 111/150\n",
            "48/48 [==============================] - 0s 2ms/step - loss: 2.0612 - accuracy: 0.7712\n",
            "Epoch 112/150\n",
            "48/48 [==============================] - 0s 2ms/step - loss: 3.7305 - accuracy: 0.7521\n",
            "Epoch 113/150\n",
            "48/48 [==============================] - 0s 3ms/step - loss: 7.9946 - accuracy: 0.7544\n",
            "Epoch 114/150\n",
            "48/48 [==============================] - 0s 2ms/step - loss: 5.8716 - accuracy: 0.7571\n",
            "Epoch 115/150\n",
            "48/48 [==============================] - 0s 3ms/step - loss: 1.3925 - accuracy: 0.7847\n",
            "Epoch 116/150\n",
            "48/48 [==============================] - 0s 3ms/step - loss: 4.3888 - accuracy: 0.7505\n",
            "Epoch 117/150\n",
            "48/48 [==============================] - 0s 3ms/step - loss: 4.6724 - accuracy: 0.7317\n",
            "Epoch 118/150\n",
            "48/48 [==============================] - 0s 3ms/step - loss: 3.4776 - accuracy: 0.7781\n",
            "Epoch 119/150\n",
            "48/48 [==============================] - 0s 3ms/step - loss: 3.5348 - accuracy: 0.7456\n",
            "Epoch 120/150\n",
            "48/48 [==============================] - 0s 3ms/step - loss: 2.4602 - accuracy: 0.7742\n",
            "Epoch 121/150\n",
            "48/48 [==============================] - 0s 4ms/step - loss: 3.4961 - accuracy: 0.7538\n",
            "Epoch 122/150\n",
            "48/48 [==============================] - 0s 3ms/step - loss: 2.5798 - accuracy: 0.7775\n",
            "Epoch 123/150\n",
            "48/48 [==============================] - 0s 3ms/step - loss: 2.0491 - accuracy: 0.7693\n",
            "Epoch 124/150\n",
            "48/48 [==============================] - 0s 3ms/step - loss: 3.7513 - accuracy: 0.7643\n",
            "Epoch 125/150\n",
            "48/48 [==============================] - 0s 3ms/step - loss: 3.2373 - accuracy: 0.7712\n",
            "Epoch 126/150\n",
            "48/48 [==============================] - 0s 3ms/step - loss: 1.5579 - accuracy: 0.7798\n",
            "Epoch 127/150\n",
            "48/48 [==============================] - 0s 3ms/step - loss: 1.6311 - accuracy: 0.7722\n",
            "Epoch 128/150\n",
            "48/48 [==============================] - 0s 3ms/step - loss: 3.0826 - accuracy: 0.7623\n",
            "Epoch 129/150\n",
            "48/48 [==============================] - 0s 4ms/step - loss: 2.5497 - accuracy: 0.7646\n",
            "Epoch 130/150\n",
            "48/48 [==============================] - 0s 3ms/step - loss: 3.7868 - accuracy: 0.7469\n",
            "Epoch 131/150\n",
            "48/48 [==============================] - 0s 4ms/step - loss: 3.6867 - accuracy: 0.7768\n",
            "Epoch 132/150\n",
            "48/48 [==============================] - 0s 3ms/step - loss: 2.6650 - accuracy: 0.7554\n",
            "Epoch 133/150\n",
            "48/48 [==============================] - 0s 4ms/step - loss: 2.9670 - accuracy: 0.7778\n",
            "Epoch 134/150\n",
            "48/48 [==============================] - 0s 4ms/step - loss: 4.3466 - accuracy: 0.7472\n",
            "Epoch 135/150\n",
            "48/48 [==============================] - 0s 3ms/step - loss: 2.8163 - accuracy: 0.7525\n",
            "Epoch 136/150\n",
            "48/48 [==============================] - 0s 3ms/step - loss: 3.1841 - accuracy: 0.7758\n",
            "Epoch 137/150\n",
            "48/48 [==============================] - 0s 2ms/step - loss: 3.3417 - accuracy: 0.7646\n",
            "Epoch 138/150\n",
            "48/48 [==============================] - 0s 3ms/step - loss: 2.5603 - accuracy: 0.7689\n",
            "Epoch 139/150\n",
            "48/48 [==============================] - 0s 2ms/step - loss: 4.3738 - accuracy: 0.7515\n",
            "Epoch 140/150\n",
            "48/48 [==============================] - 0s 3ms/step - loss: 2.7707 - accuracy: 0.7693\n",
            "Epoch 141/150\n",
            "48/48 [==============================] - 0s 2ms/step - loss: 2.3647 - accuracy: 0.7679\n",
            "Epoch 142/150\n",
            "48/48 [==============================] - 0s 3ms/step - loss: 2.0348 - accuracy: 0.7749\n",
            "Epoch 143/150\n",
            "48/48 [==============================] - 0s 3ms/step - loss: 1.9035 - accuracy: 0.7689\n",
            "Epoch 144/150\n",
            "48/48 [==============================] - 0s 2ms/step - loss: 2.1848 - accuracy: 0.7670\n",
            "Epoch 145/150\n",
            "48/48 [==============================] - 0s 2ms/step - loss: 2.6178 - accuracy: 0.7676\n",
            "Epoch 146/150\n",
            "48/48 [==============================] - 0s 2ms/step - loss: 2.2858 - accuracy: 0.7702\n",
            "Epoch 147/150\n",
            "48/48 [==============================] - 0s 4ms/step - loss: 4.1601 - accuracy: 0.7660\n",
            "Epoch 148/150\n",
            "48/48 [==============================] - 0s 3ms/step - loss: 3.6793 - accuracy: 0.7505\n",
            "Epoch 149/150\n",
            "48/48 [==============================] - 0s 2ms/step - loss: 4.9557 - accuracy: 0.7650\n",
            "Epoch 150/150\n",
            "48/48 [==============================] - 0s 2ms/step - loss: 2.2876 - accuracy: 0.7594\n"
          ]
        }
      ]
    },
    {
      "cell_type": "code",
      "source": [
        "annpred=ann.predict(X_test)\n",
        "annpred=(annpred>0.5)\n",
        "annpred=annpred.astype(int)\n",
        "annpred"
      ],
      "metadata": {
        "id": "Xj2HFZCOc1im",
        "colab": {
          "base_uri": "https://localhost:8080/"
        },
        "outputId": "7d00345c-c663-4916-fa75-b98fb0a4a05e"
      },
      "id": "Xj2HFZCOc1im",
      "execution_count": null,
      "outputs": [
        {
          "output_type": "stream",
          "name": "stdout",
          "text": [
            "222/222 [==============================] - 0s 1ms/step\n"
          ]
        },
        {
          "output_type": "execute_result",
          "data": {
            "text/plain": [
              "array([[1],\n",
              "       [1],\n",
              "       [1],\n",
              "       ...,\n",
              "       [1],\n",
              "       [1],\n",
              "       [1]])"
            ]
          },
          "metadata": {},
          "execution_count": 68
        }
      ]
    },
    {
      "cell_type": "code",
      "source": [
        "from sklearn.metrics import accuracy_score\n",
        "anna=accuracy_score(y_test, annpred)*100\n",
        "anna"
      ],
      "metadata": {
        "id": "Jhvnvn4-dOee",
        "colab": {
          "base_uri": "https://localhost:8080/"
        },
        "outputId": "fe3558ae-45c8-43f5-a414-6ffb40ae46e3"
      },
      "id": "Jhvnvn4-dOee",
      "execution_count": null,
      "outputs": [
        {
          "output_type": "execute_result",
          "data": {
            "text/plain": [
              "83.83410918324165"
            ]
          },
          "metadata": {},
          "execution_count": 69
        }
      ]
    },
    {
      "cell_type": "code",
      "source": [
        "import matplotlib.pyplot as plt\n",
        "fig = plt.figure()\n",
        "models = ['Decision Tree','LR model', 'SVM model','KNeighbors','ANN']\n",
        "plt.ylabel('Accuracy',)\n",
        "plt.xlabel('Models')\n",
        "accuracy = [dta,lrga,svma,knna,anna]\n",
        "plt.bar(models,accuracy)\n",
        "plt.show()"
      ],
      "metadata": {
        "id": "3qZ9yKlUdR91",
        "colab": {
          "base_uri": "https://localhost:8080/",
          "height": 279
        },
        "outputId": "87aa45d9-baa4-4133-cd7f-61b4bf393c66"
      },
      "id": "3qZ9yKlUdR91",
      "execution_count": null,
      "outputs": [
        {
          "output_type": "display_data",
          "data": {
            "text/plain": [
              "<Figure size 432x288 with 1 Axes>"
            ],
            "image/png": "[encoded data removed]"
          },
          "metadata": {
            "needs_background": "light"
          }
        }
      ]
    },
    {
      "cell_type": "code",
      "source": [
        "import matplotlib.pyplot as plt\n",
        "plt.figure(figsize=(20,10))\n",
        "fig = plt.figure()\n",
        "models = ['Decision Tree','LR model', 'SVM model','KNeighbors','ANN']\n",
        "plt.ylabel('Accuracy',)\n",
        "plt.xlabel('Models')\n",
        "accuracy = [dta,lrga,svma,knna,anna]\n",
        "plt.scatter(models,accuracy)\n",
        "plt.show()"
      ],
      "metadata": {
        "id": "e2S8yOnEdVUp",
        "colab": {
          "base_uri": "https://localhost:8080/",
          "height": 296
        },
        "outputId": "9b9dc6c9-b2ac-4180-f214-d9249482d056"
      },
      "id": "e2S8yOnEdVUp",
      "execution_count": null,
      "outputs": [
        {
          "output_type": "display_data",
          "data": {
            "text/plain": [
              "<Figure size 1440x720 with 0 Axes>"
            ]
          },
          "metadata": {}
        },
        {
          "output_type": "display_data",
          "data": {
            "text/plain": [
              "<Figure size 432x288 with 1 Axes>"
            ],
            "image/png": "[encoded data removed]"
          },
          "metadata": {
            "needs_background": "light"
          }
        }
      ]
    },
    {
      "cell_type": "markdown",
      "source": [
        "**Comparison between the models**\n",
        "\n",
        "There are several regression models and the method designed in the above part (D’Amouret al. 2020). The most valuable design or model is the k-means value model because it has given three different accuracy scores. The scores are 0.700, 0.676, and 0.6521 to make the entire model or system efficiency and minimize the complexity in the banking sector. The decision tree is providing the least score however, ANN is slightly less than LR model as it is giving the highest score. So, following this model will be most beneficial for Bank Churners’ credit finance.\n"
      ],
      "metadata": {
        "id": "n1a8KAWsGAzl"
      },
      "id": "n1a8KAWsGAzl"
    }
  ],
  "metadata": {
    "colab": {
      "provenance": []
    },
    "kernelspec": {
      "display_name": "Python 3 (ipykernel)",
      "language": "python",
      "name": "python3"
    },
    "language_info": {
      "codemirror_mode": {
        "name": "ipython",
        "version": 3
      },
      "file_extension": ".py",
      "mimetype": "text/x-python",
      "name": "python",
      "nbconvert_exporter": "python",
      "pygments_lexer": "ipython3",
      "version": "3.9.13"
    }
  },
  "nbformat": 4,
  "nbformat_minor": 5
}